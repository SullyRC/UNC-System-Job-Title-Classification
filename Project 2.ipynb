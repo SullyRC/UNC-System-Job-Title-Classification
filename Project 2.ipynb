{
 "cells": [
  {
   "cell_type": "markdown",
   "id": "40842578",
   "metadata": {},
   "source": [
    "# Classification of Job Title in the UNC System\n",
    "This project focuses on classifying the job title of employees in the UNC System. Data sourced from: https://uncdm.northcarolina.edu/salaries/index.php.\n",
    "\n",
    "## Why are we trying to classify job title?\n",
    "The reason that I am analyzing this data is that I just find it interesting. This dataset has plenty of entries as well as features to engineer. Working with a dataset like this truly allows for freedom in methodology to express myself through my code. I could absolutely just go on Kaggle and find a pre-cleaned dataset to just throw into a model, but this is far more entertaining. Also, my father works in the UNC system so I thought it would be entertaining to see how it would predict him. I won't be doing this in this notebook since it will be public, but just know that the computer got it right that he's a professor.\n",
    "\n",
    "## Importing packages\n",
    "As usual with any data science project, we'll be using pandas, numpy, matplotlib, seaborn, and sklearn. We'll import different modules from sklearn later in the notebook as we need them."
   ]
  },
  {
   "cell_type": "code",
   "execution_count": 1,
   "id": "bc638f4e",
   "metadata": {},
   "outputs": [],
   "source": [
    "import pandas as pd\n",
    "import numpy as np\n",
    "import matplotlib.pyplot as plt\n",
    "import seaborn as sns"
   ]
  },
  {
   "cell_type": "markdown",
   "id": "53162acd",
   "metadata": {},
   "source": [
    "## Data Import and Description\n",
    "Let's read in our data. We'll be reading in the file from an excel spreadsheet hosted on my github. In order to read this in we need to have openpyxl installed. "
   ]
  },
  {
   "cell_type": "code",
   "execution_count": 2,
   "id": "8ecbd863",
   "metadata": {},
   "outputs": [],
   "source": [
    "# if you don't have openpyxl pacakge uncomment the following line\n",
    "#!pip install openpyxl"
   ]
  },
  {
   "cell_type": "code",
   "execution_count": 3,
   "id": "ae52bdcd",
   "metadata": {},
   "outputs": [],
   "source": [
    "df = pd.read_excel(\"https://github.com/SullyRC/UNC-System-Job-Title-Classification/blob/main/Salary%20Data%20Export.xlsx?raw=true\")"
   ]
  },
  {
   "cell_type": "markdown",
   "id": "15c4fb71",
   "metadata": {},
   "source": [
    "Now let's get an understanding of our data. The first 5 rows of data are shown below."
   ]
  },
  {
   "cell_type": "code",
   "execution_count": 4,
   "id": "4078d623",
   "metadata": {
    "scrolled": true
   },
   "outputs": [
    {
     "data": {
      "text/html": [
       "<div>\n",
       "<style scoped>\n",
       "    .dataframe tbody tr th:only-of-type {\n",
       "        vertical-align: middle;\n",
       "    }\n",
       "\n",
       "    .dataframe tbody tr th {\n",
       "        vertical-align: top;\n",
       "    }\n",
       "\n",
       "    .dataframe thead th {\n",
       "        text-align: right;\n",
       "    }\n",
       "</style>\n",
       "<table border=\"1\" class=\"dataframe\">\n",
       "  <thead>\n",
       "    <tr style=\"text-align: right;\">\n",
       "      <th></th>\n",
       "      <th>INSTITUTION NAME</th>\n",
       "      <th>LAST NAME</th>\n",
       "      <th>FIRST NAME</th>\n",
       "      <th>INIT</th>\n",
       "      <th>AGE</th>\n",
       "      <th>INITIAL HIRE DATE</th>\n",
       "      <th>JOB CATEGORY</th>\n",
       "      <th>EMPLOYEE ANNUAL BASE SALARY</th>\n",
       "      <th>EMPLOYEE HOME DEPARTMENT</th>\n",
       "      <th>PRIMARY WORKING TITLE</th>\n",
       "    </tr>\n",
       "  </thead>\n",
       "  <tbody>\n",
       "    <tr>\n",
       "      <th>0</th>\n",
       "      <td>WSSU</td>\n",
       "      <td>Ables</td>\n",
       "      <td>Eddie</td>\n",
       "      <td>NaN</td>\n",
       "      <td>49</td>\n",
       "      <td>SEP 01, 2017</td>\n",
       "      <td>IT (Information Technology) Professional</td>\n",
       "      <td>51461.0</td>\n",
       "      <td>Administrative Data Center</td>\n",
       "      <td>Technology Support Analyst</td>\n",
       "    </tr>\n",
       "    <tr>\n",
       "      <th>1</th>\n",
       "      <td>WSSU</td>\n",
       "      <td>Adams</td>\n",
       "      <td>Nelson</td>\n",
       "      <td>NaN</td>\n",
       "      <td>66</td>\n",
       "      <td>AUG 16, 1982</td>\n",
       "      <td>Professor</td>\n",
       "      <td>93343.0</td>\n",
       "      <td>Psychological Sciences</td>\n",
       "      <td>Professor</td>\n",
       "    </tr>\n",
       "    <tr>\n",
       "      <th>2</th>\n",
       "      <td>WSSU</td>\n",
       "      <td>Adeyeye</td>\n",
       "      <td>John</td>\n",
       "      <td>O</td>\n",
       "      <td>69</td>\n",
       "      <td>JUL 01, 2004</td>\n",
       "      <td>Professor</td>\n",
       "      <td>97549.0</td>\n",
       "      <td>Mathematics</td>\n",
       "      <td>Professor</td>\n",
       "    </tr>\n",
       "    <tr>\n",
       "      <th>3</th>\n",
       "      <td>WSSU</td>\n",
       "      <td>Adjei-Fremah</td>\n",
       "      <td>Sarah</td>\n",
       "      <td>NaN</td>\n",
       "      <td>34</td>\n",
       "      <td>AUG 02, 2021</td>\n",
       "      <td>Assistant Professor</td>\n",
       "      <td>66500.0</td>\n",
       "      <td>Biological Sciences</td>\n",
       "      <td>Assistant Professor, Biology - Genetics and Mi...</td>\n",
       "    </tr>\n",
       "    <tr>\n",
       "      <th>4</th>\n",
       "      <td>WSSU</td>\n",
       "      <td>Afolayan</td>\n",
       "      <td>LaTanya</td>\n",
       "      <td>D</td>\n",
       "      <td>64</td>\n",
       "      <td>JUL 10, 2018</td>\n",
       "      <td>Chief Development / Advancement Officer</td>\n",
       "      <td>148625.0</td>\n",
       "      <td>University Advancement</td>\n",
       "      <td>Vice Chancellor for University Advancement</td>\n",
       "    </tr>\n",
       "  </tbody>\n",
       "</table>\n",
       "</div>"
      ],
      "text/plain": [
       "  INSTITUTION NAME     LAST NAME FIRST NAME INIT  AGE INITIAL HIRE DATE  \\\n",
       "0             WSSU         Ables      Eddie  NaN   49      SEP 01, 2017   \n",
       "1             WSSU         Adams     Nelson  NaN   66      AUG 16, 1982   \n",
       "2             WSSU       Adeyeye       John    O   69      JUL 01, 2004   \n",
       "3             WSSU  Adjei-Fremah      Sarah  NaN   34      AUG 02, 2021   \n",
       "4             WSSU      Afolayan    LaTanya    D   64      JUL 10, 2018   \n",
       "\n",
       "                               JOB CATEGORY  EMPLOYEE ANNUAL BASE SALARY  \\\n",
       "0  IT (Information Technology) Professional                      51461.0   \n",
       "1                                 Professor                      93343.0   \n",
       "2                                 Professor                      97549.0   \n",
       "3                       Assistant Professor                      66500.0   \n",
       "4   Chief Development / Advancement Officer                     148625.0   \n",
       "\n",
       "     EMPLOYEE HOME DEPARTMENT  \\\n",
       "0  Administrative Data Center   \n",
       "1      Psychological Sciences   \n",
       "2                 Mathematics   \n",
       "3         Biological Sciences   \n",
       "4      University Advancement   \n",
       "\n",
       "                               PRIMARY WORKING TITLE  \n",
       "0                         Technology Support Analyst  \n",
       "1                                          Professor  \n",
       "2                                          Professor  \n",
       "3  Assistant Professor, Biology - Genetics and Mi...  \n",
       "4         Vice Chancellor for University Advancement  "
      ]
     },
     "execution_count": 4,
     "metadata": {},
     "output_type": "execute_result"
    }
   ],
   "source": [
    "df.head()"
   ]
  },
  {
   "cell_type": "markdown",
   "id": "89d37e72",
   "metadata": {},
   "source": [
    "This gives us a little bit of understanding about what is going on in our data. Let's look at the columns now and see more generally what these columns mean."
   ]
  },
  {
   "cell_type": "code",
   "execution_count": 5,
   "id": "f7528817",
   "metadata": {},
   "outputs": [
    {
     "data": {
      "text/plain": [
       "Index(['INSTITUTION NAME', 'LAST NAME', 'FIRST NAME', 'INIT', 'AGE',\n",
       "       'INITIAL HIRE DATE', 'JOB CATEGORY', 'EMPLOYEE ANNUAL BASE SALARY',\n",
       "       'EMPLOYEE HOME DEPARTMENT', 'PRIMARY WORKING TITLE'],\n",
       "      dtype='object')"
      ]
     },
     "execution_count": 5,
     "metadata": {},
     "output_type": "execute_result"
    }
   ],
   "source": [
    "df.columns"
   ]
  },
  {
   "cell_type": "markdown",
   "id": "6c013b7e",
   "metadata": {},
   "source": [
    "In this dataset we have:\n",
    "- Instituition name\n",
    "- Last name\n",
    "- First name\n",
    "- Init (middle initial)\n",
    "- Age\n",
    "- Initial hire date\n",
    "- Job Category\n",
    "- Salary\n",
    "- Employee home department\n",
    "- Primary working title\n",
    "\n",
    "We can drop some of these features, particularly the names of the employees, that aren't useful for classification. We'll reassign our dataframe now to the current dataframe with the name columns dropped."
   ]
  },
  {
   "cell_type": "code",
   "execution_count": 6,
   "id": "07490992",
   "metadata": {},
   "outputs": [],
   "source": [
    "df = df.drop(columns= ['FIRST NAME','LAST NAME','INIT'])"
   ]
  },
  {
   "cell_type": "markdown",
   "id": "b32ef5a7",
   "metadata": {},
   "source": [
    "Here is what we are left with."
   ]
  },
  {
   "cell_type": "code",
   "execution_count": 7,
   "id": "e84b3da8",
   "metadata": {},
   "outputs": [
    {
     "name": "stdout",
     "output_type": "stream",
     "text": [
      "<class 'pandas.core.frame.DataFrame'>\n",
      "RangeIndex: 46685 entries, 0 to 46684\n",
      "Data columns (total 7 columns):\n",
      " #   Column                       Non-Null Count  Dtype  \n",
      "---  ------                       --------------  -----  \n",
      " 0   INSTITUTION NAME             46685 non-null  object \n",
      " 1   AGE                          46685 non-null  int64  \n",
      " 2   INITIAL HIRE DATE            46685 non-null  object \n",
      " 3   JOB CATEGORY                 46685 non-null  object \n",
      " 4   EMPLOYEE ANNUAL BASE SALARY  46685 non-null  float64\n",
      " 5   EMPLOYEE HOME DEPARTMENT     46685 non-null  object \n",
      " 6   PRIMARY WORKING TITLE        46685 non-null  object \n",
      "dtypes: float64(1), int64(1), object(5)\n",
      "memory usage: 2.5+ MB\n"
     ]
    }
   ],
   "source": [
    "df.info()"
   ]
  },
  {
   "cell_type": "markdown",
   "id": "7a0a3e0c",
   "metadata": {},
   "source": [
    "Looking at our data we can see a lot of features being objects. For some of these we can clean the data to make it numeric (hire date). Others will have to be put into dummy columns or be hot encoded. We also presumably need to rework our home departments into a smaller number of departments. This is because different schools call their departments different things. Also it is important to note that we don't appear to have any nulls in our data. "
   ]
  },
  {
   "cell_type": "markdown",
   "id": "34b999aa",
   "metadata": {},
   "source": [
    "## Data Cleaning\n",
    "In this portion of the notebook we'll go through each of our object features and transform them into something that we can put into a model."
   ]
  },
  {
   "cell_type": "code",
   "execution_count": 8,
   "id": "07852c3a",
   "metadata": {},
   "outputs": [
    {
     "name": "stdout",
     "output_type": "stream",
     "text": [
      "17\n"
     ]
    },
    {
     "data": {
      "text/plain": [
       "array(['WSSU', 'WCU', 'UNCW', 'UNCSA', 'UNCP', 'UNCG', 'UNCC', 'UNCA',\n",
       "       'UNC-System-Office', 'UNC-CH', 'NCSU', 'NCCU', 'NCA&T', 'FSU',\n",
       "       'ECU', 'ECSU', 'ASU'], dtype=object)"
      ]
     },
     "execution_count": 8,
     "metadata": {},
     "output_type": "execute_result"
    }
   ],
   "source": [
    "print(len(df['INSTITUTION NAME'].unique()))\n",
    "df['INSTITUTION NAME'].unique()"
   ]
  },
  {
   "cell_type": "markdown",
   "id": "8122aa61",
   "metadata": {},
   "source": [
    "We can create dummy columns for this feature. Let's try this out. "
   ]
  },
  {
   "cell_type": "code",
   "execution_count": 9,
   "id": "43fd94b8",
   "metadata": {},
   "outputs": [
    {
     "name": "stdout",
     "output_type": "stream",
     "text": [
      "<class 'pandas.core.frame.DataFrame'>\n",
      "RangeIndex: 46685 entries, 0 to 46684\n",
      "Data columns (total 23 columns):\n",
      " #   Column                              Non-Null Count  Dtype  \n",
      "---  ------                              --------------  -----  \n",
      " 0   AGE                                 46685 non-null  int64  \n",
      " 1   INITIAL HIRE DATE                   46685 non-null  object \n",
      " 2   JOB CATEGORY                        46685 non-null  object \n",
      " 3   EMPLOYEE ANNUAL BASE SALARY         46685 non-null  float64\n",
      " 4   EMPLOYEE HOME DEPARTMENT            46685 non-null  object \n",
      " 5   PRIMARY WORKING TITLE               46685 non-null  object \n",
      " 6   INSTITUTION NAME_ASU                46685 non-null  uint8  \n",
      " 7   INSTITUTION NAME_ECSU               46685 non-null  uint8  \n",
      " 8   INSTITUTION NAME_ECU                46685 non-null  uint8  \n",
      " 9   INSTITUTION NAME_FSU                46685 non-null  uint8  \n",
      " 10  INSTITUTION NAME_NCA&T              46685 non-null  uint8  \n",
      " 11  INSTITUTION NAME_NCCU               46685 non-null  uint8  \n",
      " 12  INSTITUTION NAME_NCSU               46685 non-null  uint8  \n",
      " 13  INSTITUTION NAME_UNC-CH             46685 non-null  uint8  \n",
      " 14  INSTITUTION NAME_UNC-System-Office  46685 non-null  uint8  \n",
      " 15  INSTITUTION NAME_UNCA               46685 non-null  uint8  \n",
      " 16  INSTITUTION NAME_UNCC               46685 non-null  uint8  \n",
      " 17  INSTITUTION NAME_UNCG               46685 non-null  uint8  \n",
      " 18  INSTITUTION NAME_UNCP               46685 non-null  uint8  \n",
      " 19  INSTITUTION NAME_UNCSA              46685 non-null  uint8  \n",
      " 20  INSTITUTION NAME_UNCW               46685 non-null  uint8  \n",
      " 21  INSTITUTION NAME_WCU                46685 non-null  uint8  \n",
      " 22  INSTITUTION NAME_WSSU               46685 non-null  uint8  \n",
      "dtypes: float64(1), int64(1), object(4), uint8(17)\n",
      "memory usage: 2.9+ MB\n"
     ]
    }
   ],
   "source": [
    "df = pd.get_dummies(data=df,columns=['INSTITUTION NAME'])\n",
    "df.info()"
   ]
  },
  {
   "cell_type": "markdown",
   "id": "adced25a",
   "metadata": {},
   "source": [
    "Now let's take a look at how we can handle hire date."
   ]
  },
  {
   "cell_type": "code",
   "execution_count": 10,
   "id": "58182ce7",
   "metadata": {},
   "outputs": [
    {
     "data": {
      "text/plain": [
       "array(['SEP 01, 2017', 'AUG 16, 1982', 'JUL 01, 2004', 'AUG 02, 2021',\n",
       "       'JUL 10, 2018', 'JAN 17, 2022', 'JUL 15, 2009', 'AUG 11, 2016',\n",
       "       'JUN 07, 2004', 'MAY 10, 2021'], dtype=object)"
      ]
     },
     "execution_count": 10,
     "metadata": {},
     "output_type": "execute_result"
    }
   ],
   "source": [
    "df['INITIAL HIRE DATE'].unique()[0:10]"
   ]
  },
  {
   "cell_type": "markdown",
   "id": "2e75daf9",
   "metadata": {},
   "source": [
    "Looking at this sample of 10, we can see that we might be able to get the hire year by grabbing the last 4 characters of each hire date. Let's try doing that."
   ]
  },
  {
   "cell_type": "code",
   "execution_count": 11,
   "id": "c7085ac8",
   "metadata": {},
   "outputs": [
    {
     "data": {
      "text/plain": [
       "array(['2017', '1982', '2004', '2021', '2018', '2022', '2009', '2016',\n",
       "       '2014', '2002', '2003', '2005', '2007', '2001', '2020', '2019',\n",
       "       '2000', '2011', '2013', '2006', '2012', '1992', '1995', '1991',\n",
       "       '1998', '2008', '2015', '1997', '1988', '2010', '1989', '1984',\n",
       "       '1986', '1999', '1994', '1987', '1993', '1970', '1990', '1996',\n",
       "       '1974', '1985', '1976', '1979', '1978', '1977', '1983', '1966',\n",
       "       '1981', '1971', '1980', '1961', '1973', '1975', '1972', '1967',\n",
       "       '1963', '1968', '1969'], dtype=object)"
      ]
     },
     "execution_count": 11,
     "metadata": {},
     "output_type": "execute_result"
    }
   ],
   "source": [
    "df['Hire Year'] = df['INITIAL HIRE DATE'].apply(lambda x: x[-4:])\n",
    "df['Hire Year'].unique()"
   ]
  },
  {
   "cell_type": "markdown",
   "id": "a053b958",
   "metadata": {},
   "source": [
    "It looks like this worked. We want this to be numeric so we need to convert the hire year from an object datatype to a numeric datatype. Let's do that really quick."
   ]
  },
  {
   "cell_type": "code",
   "execution_count": 12,
   "id": "2cbb16bc",
   "metadata": {},
   "outputs": [
    {
     "name": "stdout",
     "output_type": "stream",
     "text": [
      "<class 'pandas.core.frame.DataFrame'>\n",
      "RangeIndex: 46685 entries, 0 to 46684\n",
      "Data columns (total 24 columns):\n",
      " #   Column                              Non-Null Count  Dtype  \n",
      "---  ------                              --------------  -----  \n",
      " 0   AGE                                 46685 non-null  int64  \n",
      " 1   INITIAL HIRE DATE                   46685 non-null  object \n",
      " 2   JOB CATEGORY                        46685 non-null  object \n",
      " 3   EMPLOYEE ANNUAL BASE SALARY         46685 non-null  float64\n",
      " 4   EMPLOYEE HOME DEPARTMENT            46685 non-null  object \n",
      " 5   PRIMARY WORKING TITLE               46685 non-null  object \n",
      " 6   INSTITUTION NAME_ASU                46685 non-null  uint8  \n",
      " 7   INSTITUTION NAME_ECSU               46685 non-null  uint8  \n",
      " 8   INSTITUTION NAME_ECU                46685 non-null  uint8  \n",
      " 9   INSTITUTION NAME_FSU                46685 non-null  uint8  \n",
      " 10  INSTITUTION NAME_NCA&T              46685 non-null  uint8  \n",
      " 11  INSTITUTION NAME_NCCU               46685 non-null  uint8  \n",
      " 12  INSTITUTION NAME_NCSU               46685 non-null  uint8  \n",
      " 13  INSTITUTION NAME_UNC-CH             46685 non-null  uint8  \n",
      " 14  INSTITUTION NAME_UNC-System-Office  46685 non-null  uint8  \n",
      " 15  INSTITUTION NAME_UNCA               46685 non-null  uint8  \n",
      " 16  INSTITUTION NAME_UNCC               46685 non-null  uint8  \n",
      " 17  INSTITUTION NAME_UNCG               46685 non-null  uint8  \n",
      " 18  INSTITUTION NAME_UNCP               46685 non-null  uint8  \n",
      " 19  INSTITUTION NAME_UNCSA              46685 non-null  uint8  \n",
      " 20  INSTITUTION NAME_UNCW               46685 non-null  uint8  \n",
      " 21  INSTITUTION NAME_WCU                46685 non-null  uint8  \n",
      " 22  INSTITUTION NAME_WSSU               46685 non-null  uint8  \n",
      " 23  Hire Year                           46685 non-null  int64  \n",
      "dtypes: float64(1), int64(2), object(4), uint8(17)\n",
      "memory usage: 3.3+ MB\n"
     ]
    }
   ],
   "source": [
    "df['Hire Year'] = pd.to_numeric(df['Hire Year'])\n",
    "df.info()"
   ]
  },
  {
   "cell_type": "markdown",
   "id": "07d440cc",
   "metadata": {},
   "source": [
    "We see that this worked. Let's now move on to the last three categories. Let's check the lengths of unique options for these 3 columns."
   ]
  },
  {
   "cell_type": "code",
   "execution_count": 13,
   "id": "28e68a61",
   "metadata": {},
   "outputs": [
    {
     "data": {
      "text/plain": [
       "3015"
      ]
     },
     "execution_count": 13,
     "metadata": {},
     "output_type": "execute_result"
    }
   ],
   "source": [
    "len(df['EMPLOYEE HOME DEPARTMENT'].unique())"
   ]
  },
  {
   "cell_type": "code",
   "execution_count": 14,
   "id": "f2a0d00d",
   "metadata": {},
   "outputs": [
    {
     "data": {
      "text/plain": [
       "5984"
      ]
     },
     "execution_count": 14,
     "metadata": {},
     "output_type": "execute_result"
    }
   ],
   "source": [
    "len(df['PRIMARY WORKING TITLE'].unique())"
   ]
  },
  {
   "cell_type": "code",
   "execution_count": 15,
   "id": "f3c3e217",
   "metadata": {},
   "outputs": [
    {
     "data": {
      "text/plain": [
       "909"
      ]
     },
     "execution_count": 15,
     "metadata": {},
     "output_type": "execute_result"
    }
   ],
   "source": [
    "len(df['JOB CATEGORY'].unique())"
   ]
  },
  {
   "cell_type": "markdown",
   "id": "1adfcc32",
   "metadata": {},
   "source": [
    "Looking at the lengths of the unqiue array for each column, we see that there are a lot of different values for each of these columns. We need to put these into bins that make the data easier to work with. To accomplish this we can create a dictionary of each substring in our column. We'll do this the hard way for now, but there is likely an easier way to do this. Also because primary working title and job category are similar descriptions and job category has less unique columns, we'll drop primary working title."
   ]
  },
  {
   "cell_type": "markdown",
   "id": "e4e6b9a2",
   "metadata": {},
   "source": [
    "### Handling Department Names\n",
    "Now we're gonna work through department names. To start we'll craete the dictionary we talked about earlier. Our first step is to get the unique substrings in the department names. We'll loop through the unique deparment names and split the names by a space and add each substring into a set."
   ]
  },
  {
   "cell_type": "code",
   "execution_count": 16,
   "id": "dbdfa7cf",
   "metadata": {},
   "outputs": [],
   "source": [
    "department_substrings = set()\n",
    "for department in df['EMPLOYEE HOME DEPARTMENT'].unique():\n",
    "    if department not in department_substrings:\n",
    "        if ' ' in department:\n",
    "            department_split = department.split(' ')\n",
    "            for substring in department_split:\n",
    "                if (\"(\" not in substring) & (\")\" not in substring):\n",
    "                    if substring.lower() not in department_substrings:\n",
    "                        department_substrings.add(substring.lower())\n",
    "        else:\n",
    "            if department.lower() not in department_substrings:\n",
    "                department_substrings.add(department.lower())"
   ]
  },
  {
   "cell_type": "markdown",
   "id": "96f2950d",
   "metadata": {},
   "source": [
    "Let's check how many substrings we have."
   ]
  },
  {
   "cell_type": "code",
   "execution_count": 17,
   "id": "9fb5c0d0",
   "metadata": {},
   "outputs": [
    {
     "data": {
      "text/plain": [
       "2462"
      ]
     },
     "execution_count": 17,
     "metadata": {},
     "output_type": "execute_result"
    }
   ],
   "source": [
    "len(department_substrings)"
   ]
  },
  {
   "cell_type": "markdown",
   "id": "06917e11",
   "metadata": {},
   "source": [
    "We now have all of our substrings for deparments in a set. Now we need to loop through the set and find the most occuring values in our dictionary. We'll create a dataframe with the counts of each substring for departments."
   ]
  },
  {
   "cell_type": "code",
   "execution_count": 18,
   "id": "3923ec0f",
   "metadata": {},
   "outputs": [],
   "source": [
    "department_counts = [0] * len(department_substrings)\n",
    "department_df = pd.DataFrame(list(zip(department_substrings,department_counts)),columns=['Substring','Counts'])"
   ]
  },
  {
   "cell_type": "markdown",
   "id": "5871e7c1",
   "metadata": {},
   "source": [
    "Now we'll loop through our original dataframe and count how many times a substring appear and assign that to the count column in our counting dataframe."
   ]
  },
  {
   "cell_type": "code",
   "execution_count": 19,
   "id": "eae87369",
   "metadata": {},
   "outputs": [],
   "source": [
    "for substring in department_df['Substring']:\n",
    "    department_df.loc[department_df['Substring'] == substring,\n",
    "                      'Counts'] = len(df.loc[df['EMPLOYEE HOME DEPARTMENT'].str.lower().str.contains(substring)])"
   ]
  },
  {
   "cell_type": "markdown",
   "id": "b54752b0",
   "metadata": {},
   "source": [
    "Let's see what our dataframe looks like."
   ]
  },
  {
   "cell_type": "code",
   "execution_count": 20,
   "id": "7c04df60",
   "metadata": {},
   "outputs": [
    {
     "data": {
      "text/html": [
       "<div>\n",
       "<style scoped>\n",
       "    .dataframe tbody tr th:only-of-type {\n",
       "        vertical-align: middle;\n",
       "    }\n",
       "\n",
       "    .dataframe tbody tr th {\n",
       "        vertical-align: top;\n",
       "    }\n",
       "\n",
       "    .dataframe thead th {\n",
       "        text-align: right;\n",
       "    }\n",
       "</style>\n",
       "<table border=\"1\" class=\"dataframe\">\n",
       "  <thead>\n",
       "    <tr style=\"text-align: right;\">\n",
       "      <th></th>\n",
       "      <th>Substring</th>\n",
       "      <th>Counts</th>\n",
       "    </tr>\n",
       "  </thead>\n",
       "  <tbody>\n",
       "    <tr>\n",
       "      <th>0</th>\n",
       "      <td></td>\n",
       "      <td>46685</td>\n",
       "    </tr>\n",
       "    <tr>\n",
       "      <th>1385</th>\n",
       "      <td>e</td>\n",
       "      <td>38922</td>\n",
       "    </tr>\n",
       "    <tr>\n",
       "      <th>1727</th>\n",
       "      <td>s</td>\n",
       "      <td>37936</td>\n",
       "    </tr>\n",
       "    <tr>\n",
       "      <th>1568</th>\n",
       "      <td>c</td>\n",
       "      <td>36211</td>\n",
       "    </tr>\n",
       "    <tr>\n",
       "      <th>504</th>\n",
       "      <td>n</td>\n",
       "      <td>36031</td>\n",
       "    </tr>\n",
       "    <tr>\n",
       "      <th>...</th>\n",
       "      <td>...</td>\n",
       "      <td>...</td>\n",
       "    </tr>\n",
       "    <tr>\n",
       "      <th>1909</th>\n",
       "      <td>cals-assoc</td>\n",
       "      <td>1</td>\n",
       "    </tr>\n",
       "    <tr>\n",
       "      <th>110</th>\n",
       "      <td>groups</td>\n",
       "      <td>1</td>\n",
       "    </tr>\n",
       "    <tr>\n",
       "      <th>563</th>\n",
       "      <td>agreement</td>\n",
       "      <td>1</td>\n",
       "    </tr>\n",
       "    <tr>\n",
       "      <th>955</th>\n",
       "      <td>loans</td>\n",
       "      <td>1</td>\n",
       "    </tr>\n",
       "    <tr>\n",
       "      <th>1435</th>\n",
       "      <td>wolfpack</td>\n",
       "      <td>1</td>\n",
       "    </tr>\n",
       "  </tbody>\n",
       "</table>\n",
       "<p>2462 rows × 2 columns</p>\n",
       "</div>"
      ],
      "text/plain": [
       "       Substring  Counts\n",
       "0                  46685\n",
       "1385           e   38922\n",
       "1727           s   37936\n",
       "1568           c   36211\n",
       "504            n   36031\n",
       "...          ...     ...\n",
       "1909  cals-assoc       1\n",
       "110       groups       1\n",
       "563    agreement       1\n",
       "955        loans       1\n",
       "1435    wolfpack       1\n",
       "\n",
       "[2462 rows x 2 columns]"
      ]
     },
     "execution_count": 20,
     "metadata": {},
     "output_type": "execute_result"
    }
   ],
   "source": [
    "department_df = department_df.sort_values(by='Counts',ascending=False)\n",
    "department_df"
   ]
  },
  {
   "cell_type": "markdown",
   "id": "e26c8c2c",
   "metadata": {},
   "source": [
    "Looking at our substrings we see that we have a lot of substrings that are just 1 letter long. Let's subset our dataframe with substrings that have length longer than 2. We'll also spit our this subsetted dataframe to a csv to view there."
   ]
  },
  {
   "cell_type": "code",
   "execution_count": 21,
   "id": "9a9f568a",
   "metadata": {},
   "outputs": [],
   "source": [
    "department_df[(department_df['Substring'].str.len() > 3) & (department_df['Counts'] > 5)].to_csv('data_dictionary.csv')"
   ]
  },
  {
   "cell_type": "markdown",
   "id": "e290cdbf",
   "metadata": {},
   "source": [
    "Now we need to manually go through and decide what we want to make our substrings for department. There will be 2 lists, one that contains the substring and another that contains the re-assigned department."
   ]
  },
  {
   "cell_type": "code",
   "execution_count": 22,
   "id": "fe83194c",
   "metadata": {},
   "outputs": [],
   "source": [
    "substring_list = ['serv','health','comp','search','medicine','comm','house','libr','info','admin','pyschology',\n",
    "                 'management','facil','engi','biol','soci','chem','math','devel','nurs','police','dean','engl',\n",
    "                 'resource','busin','athle','mgmt','psychi','finance','arts','physics','environment','history','econ','music',\n",
    "                 'safety','hospital','stat','admiss','counsel','chan','sociology','recreation','accounting']\n",
    "department_names = ['Student Services','Health Center','Computer Science','Research','Medicine','Communications',\n",
    "                   'Housekeeping','library','Information Technology','Administration','Pyschology',\"Management\",\n",
    "                   'Facilities','Engineering',\"Biology\",'Social Science','Chemistry','Math','Development','Nursing',\n",
    "                   'Police',\"Dean's Office\",'English','Resource Officer','Business','Athletics','Management','Psychiatry',\n",
    "                   'Finance','Liberal Arts','Physics','Environmental Sciences','History','Economics','Music','Public Safety',\n",
    "                   'Hospital','Statistics','Admissions','Counseling',\"Chancellor's Office\",'Sociology','Recreation Center',\n",
    "                   'Accounting']"
   ]
  },
  {
   "cell_type": "markdown",
   "id": "6a05043e",
   "metadata": {},
   "source": [
    "Now we loop through the lists and assign the values based off of substring. An important thing to note is that we'll likely lose some information when we do this. We also shouldn't expect these 16 departments to cover everything. We also need to worry about some departments having multiple names. EG what would happen if we had computer engineering. We would assign thatto computer science since it has comp in the name and comp is first in the list."
   ]
  },
  {
   "cell_type": "code",
   "execution_count": 23,
   "id": "602d127a",
   "metadata": {},
   "outputs": [],
   "source": [
    "df['Department'] = [0] * len(df)\n",
    "for index in list(range(len(substring_list))):\n",
    "    substring = substring_list[index]\n",
    "    department = department_names[index]\n",
    "    df.loc[df['EMPLOYEE HOME DEPARTMENT'].str.lower().str.contains(substring),'Department'] = department "
   ]
  },
  {
   "cell_type": "markdown",
   "id": "c00ae5eb",
   "metadata": {},
   "source": [
    "Let's check how many employees are in each department."
   ]
  },
  {
   "cell_type": "code",
   "execution_count": 24,
   "id": "7ff2582a",
   "metadata": {},
   "outputs": [
    {
     "data": {
      "text/plain": [
       "0                         21673\n",
       "Health Center              1383\n",
       "Student Services           1148\n",
       "Research                   1055\n",
       "Communications             1049\n",
       "Biology                    1006\n",
       "Management                 1005\n",
       "Computer Science            979\n",
       "library                     975\n",
       "Medicine                    944\n",
       "Housekeeping                940\n",
       "Information Technology      880\n",
       "Facilities                  854\n",
       "Athletics                   690\n",
       "Engineering                 657\n",
       "Nursing                     595\n",
       "English                     577\n",
       "Development                 561\n",
       "Resource Officer            532\n",
       "Dean's Office               511\n",
       "Chemistry                   508\n",
       "Administration              504\n",
       "Statistics                  497\n",
       "Business                    463\n",
       "Psychiatry                  449\n",
       "Social Science              427\n",
       "Physics                     414\n",
       "Liberal Arts                404\n",
       "Math                        390\n",
       "History                     388\n",
       "Counseling                  385\n",
       "Police                      384\n",
       "Economics                   380\n",
       "Public Safety               369\n",
       "Music                       362\n",
       "Environmental Sciences      351\n",
       "Hospital                    348\n",
       "Finance                     334\n",
       "Admissions                  325\n",
       "Chancellor's Office         262\n",
       "Sociology                   256\n",
       "Recreation Center           254\n",
       "Accounting                  217\n",
       "Name: Department, dtype: int64"
      ]
     },
     "execution_count": 24,
     "metadata": {},
     "output_type": "execute_result"
    }
   ],
   "source": [
    "df['Department'].value_counts()"
   ]
  },
  {
   "cell_type": "markdown",
   "id": "be93be68",
   "metadata": {},
   "source": [
    "We've got all of our departments down except for 21673. We'll call these departments unknown."
   ]
  },
  {
   "cell_type": "code",
   "execution_count": 25,
   "id": "e7355f3b",
   "metadata": {},
   "outputs": [],
   "source": [
    "df.loc[df['Department'] == 0,'Department'] = 'Unknown'"
   ]
  },
  {
   "cell_type": "markdown",
   "id": "423206ab",
   "metadata": {},
   "source": [
    "Let's continue doing this but with job titles."
   ]
  },
  {
   "cell_type": "markdown",
   "id": "0098da80",
   "metadata": {},
   "source": [
    "### Handling Job Title\n",
    "We'll repeat the same process we did with the departments."
   ]
  },
  {
   "cell_type": "code",
   "execution_count": 26,
   "id": "bf291669",
   "metadata": {},
   "outputs": [],
   "source": [
    "job_substrings = set()\n",
    "for department in df['JOB CATEGORY'].unique():\n",
    "    if department not in department_substrings:\n",
    "        if ' ' in department:\n",
    "            department_split = department.split(' ')\n",
    "            for substring in department_split:\n",
    "                if (\"(\" not in substring) & (\")\" not in substring):\n",
    "                    if substring.lower() not in job_substrings:\n",
    "                        job_substrings.add(substring.lower())\n",
    "        else:\n",
    "            if department.lower() not in job_substrings:\n",
    "                job_substrings.add(department.lower())"
   ]
  },
  {
   "cell_type": "markdown",
   "id": "8eb4bb9e",
   "metadata": {},
   "source": [
    "Let's check how many substrings we have."
   ]
  },
  {
   "cell_type": "code",
   "execution_count": 27,
   "id": "b686e481",
   "metadata": {},
   "outputs": [
    {
     "data": {
      "text/plain": [
       "681"
      ]
     },
     "execution_count": 27,
     "metadata": {},
     "output_type": "execute_result"
    }
   ],
   "source": [
    "len(job_substrings)"
   ]
  },
  {
   "cell_type": "markdown",
   "id": "b354e927",
   "metadata": {},
   "source": [
    "Like we did before, we're going to create a dataframe with the counts of each substring."
   ]
  },
  {
   "cell_type": "code",
   "execution_count": 28,
   "id": "231dc521",
   "metadata": {},
   "outputs": [],
   "source": [
    "job_counts = [0] * len(job_substrings)\n",
    "job_df = pd.DataFrame(list(zip(job_substrings,job_counts)),columns=['Substring','Counts'])\n",
    "job_df = job_df[job_df['Substring'].str.len() > 2]\n",
    "for substring in job_df['Substring']:\n",
    "    job_df.loc[job_df['Substring'] == substring,\n",
    "                      'Counts'] = len(df.loc[df['JOB CATEGORY'].str.lower().str.contains(substring,regex=False)])"
   ]
  },
  {
   "cell_type": "markdown",
   "id": "14b89780",
   "metadata": {},
   "source": [
    "Let's check our value counts for our counting dataframe now."
   ]
  },
  {
   "cell_type": "code",
   "execution_count": 29,
   "id": "a01ac832",
   "metadata": {},
   "outputs": [
    {
     "data": {
      "text/html": [
       "<div>\n",
       "<style scoped>\n",
       "    .dataframe tbody tr th:only-of-type {\n",
       "        vertical-align: middle;\n",
       "    }\n",
       "\n",
       "    .dataframe tbody tr th {\n",
       "        vertical-align: top;\n",
       "    }\n",
       "\n",
       "    .dataframe thead th {\n",
       "        text-align: right;\n",
       "    }\n",
       "</style>\n",
       "<table border=\"1\" class=\"dataframe\">\n",
       "  <thead>\n",
       "    <tr style=\"text-align: right;\">\n",
       "      <th></th>\n",
       "      <th>Substring</th>\n",
       "      <th>Counts</th>\n",
       "    </tr>\n",
       "  </thead>\n",
       "  <tbody>\n",
       "    <tr>\n",
       "      <th>648</th>\n",
       "      <td>professional</td>\n",
       "      <td>15778</td>\n",
       "    </tr>\n",
       "    <tr>\n",
       "      <th>138</th>\n",
       "      <td>professor</td>\n",
       "      <td>11859</td>\n",
       "    </tr>\n",
       "    <tr>\n",
       "      <th>611</th>\n",
       "      <td>assistant</td>\n",
       "      <td>8633</td>\n",
       "    </tr>\n",
       "    <tr>\n",
       "      <th>352</th>\n",
       "      <td>professional,</td>\n",
       "      <td>8246</td>\n",
       "    </tr>\n",
       "    <tr>\n",
       "      <th>630</th>\n",
       "      <td>assoc</td>\n",
       "      <td>4975</td>\n",
       "    </tr>\n",
       "    <tr>\n",
       "      <th>152</th>\n",
       "      <td>admin</td>\n",
       "      <td>4554</td>\n",
       "    </tr>\n",
       "    <tr>\n",
       "      <th>175</th>\n",
       "      <td>associate</td>\n",
       "      <td>4320</td>\n",
       "    </tr>\n",
       "    <tr>\n",
       "      <th>490</th>\n",
       "      <td>research</td>\n",
       "      <td>3806</td>\n",
       "    </tr>\n",
       "    <tr>\n",
       "      <th>244</th>\n",
       "      <td>administrative</td>\n",
       "      <td>3463</td>\n",
       "    </tr>\n",
       "    <tr>\n",
       "      <th>42</th>\n",
       "      <td>support</td>\n",
       "      <td>2968</td>\n",
       "    </tr>\n",
       "    <tr>\n",
       "      <th>179</th>\n",
       "      <td>vice</td>\n",
       "      <td>2559</td>\n",
       "    </tr>\n",
       "    <tr>\n",
       "      <th>103</th>\n",
       "      <td>service</td>\n",
       "      <td>2443</td>\n",
       "    </tr>\n",
       "    <tr>\n",
       "      <th>440</th>\n",
       "      <td>science</td>\n",
       "      <td>2207</td>\n",
       "    </tr>\n",
       "    <tr>\n",
       "      <th>431</th>\n",
       "      <td>office</td>\n",
       "      <td>2197</td>\n",
       "    </tr>\n",
       "    <tr>\n",
       "      <th>295</th>\n",
       "      <td>paraprofessional</td>\n",
       "      <td>2146</td>\n",
       "    </tr>\n",
       "    <tr>\n",
       "      <th>277</th>\n",
       "      <td>student</td>\n",
       "      <td>1984</td>\n",
       "    </tr>\n",
       "    <tr>\n",
       "      <th>25</th>\n",
       "      <td>asst</td>\n",
       "      <td>1965</td>\n",
       "    </tr>\n",
       "    <tr>\n",
       "      <th>608</th>\n",
       "      <td>custodian</td>\n",
       "      <td>1727</td>\n",
       "    </tr>\n",
       "    <tr>\n",
       "      <th>411</th>\n",
       "      <td>housekeeper</td>\n",
       "      <td>1727</td>\n",
       "    </tr>\n",
       "    <tr>\n",
       "      <th>675</th>\n",
       "      <td>special</td>\n",
       "      <td>1718</td>\n",
       "    </tr>\n",
       "    <tr>\n",
       "      <th>647</th>\n",
       "      <td>specialist</td>\n",
       "      <td>1649</td>\n",
       "    </tr>\n",
       "    <tr>\n",
       "      <th>517</th>\n",
       "      <td>sciences</td>\n",
       "      <td>1551</td>\n",
       "    </tr>\n",
       "    <tr>\n",
       "      <th>613</th>\n",
       "      <td>lecturer</td>\n",
       "      <td>1522</td>\n",
       "    </tr>\n",
       "    <tr>\n",
       "      <th>582</th>\n",
       "      <td>technical</td>\n",
       "      <td>1431</td>\n",
       "    </tr>\n",
       "    <tr>\n",
       "      <th>311</th>\n",
       "      <td>coordinator</td>\n",
       "      <td>1423</td>\n",
       "    </tr>\n",
       "    <tr>\n",
       "      <th>521</th>\n",
       "      <td>clerical</td>\n",
       "      <td>1395</td>\n",
       "    </tr>\n",
       "    <tr>\n",
       "      <th>340</th>\n",
       "      <td>services</td>\n",
       "      <td>1383</td>\n",
       "    </tr>\n",
       "    <tr>\n",
       "      <th>577</th>\n",
       "      <td>medical</td>\n",
       "      <td>1242</td>\n",
       "    </tr>\n",
       "    <tr>\n",
       "      <th>508</th>\n",
       "      <td>asst/tech,</td>\n",
       "      <td>1240</td>\n",
       "    </tr>\n",
       "    <tr>\n",
       "      <th>487</th>\n",
       "      <td>rec</td>\n",
       "      <td>1196</td>\n",
       "    </tr>\n",
       "    <tr>\n",
       "      <th>437</th>\n",
       "      <td>academic</td>\n",
       "      <td>1156</td>\n",
       "    </tr>\n",
       "    <tr>\n",
       "      <th>330</th>\n",
       "      <td>public</td>\n",
       "      <td>1103</td>\n",
       "    </tr>\n",
       "    <tr>\n",
       "      <th>166</th>\n",
       "      <td>the</td>\n",
       "      <td>1101</td>\n",
       "    </tr>\n",
       "    <tr>\n",
       "      <th>120</th>\n",
       "      <td>health</td>\n",
       "      <td>1095</td>\n",
       "    </tr>\n",
       "    <tr>\n",
       "      <th>10</th>\n",
       "      <td>sciences,</td>\n",
       "      <td>1057</td>\n",
       "    </tr>\n",
       "    <tr>\n",
       "      <th>668</th>\n",
       "      <td>other</td>\n",
       "      <td>1053</td>\n",
       "    </tr>\n",
       "    <tr>\n",
       "      <th>471</th>\n",
       "      <td>program</td>\n",
       "      <td>985</td>\n",
       "    </tr>\n",
       "    <tr>\n",
       "      <th>124</th>\n",
       "      <td>staff</td>\n",
       "      <td>981</td>\n",
       "    </tr>\n",
       "    <tr>\n",
       "      <th>338</th>\n",
       "      <td>work</td>\n",
       "      <td>975</td>\n",
       "    </tr>\n",
       "    <tr>\n",
       "      <th>405</th>\n",
       "      <td>business</td>\n",
       "      <td>953</td>\n",
       "    </tr>\n",
       "  </tbody>\n",
       "</table>\n",
       "</div>"
      ],
      "text/plain": [
       "            Substring  Counts\n",
       "648      professional   15778\n",
       "138         professor   11859\n",
       "611         assistant    8633\n",
       "352     professional,    8246\n",
       "630             assoc    4975\n",
       "152             admin    4554\n",
       "175         associate    4320\n",
       "490          research    3806\n",
       "244    administrative    3463\n",
       "42            support    2968\n",
       "179              vice    2559\n",
       "103           service    2443\n",
       "440           science    2207\n",
       "431            office    2197\n",
       "295  paraprofessional    2146\n",
       "277           student    1984\n",
       "25               asst    1965\n",
       "608         custodian    1727\n",
       "411       housekeeper    1727\n",
       "675           special    1718\n",
       "647        specialist    1649\n",
       "517          sciences    1551\n",
       "613          lecturer    1522\n",
       "582         technical    1431\n",
       "311       coordinator    1423\n",
       "521          clerical    1395\n",
       "340          services    1383\n",
       "577           medical    1242\n",
       "508        asst/tech,    1240\n",
       "487               rec    1196\n",
       "437          academic    1156\n",
       "330            public    1103\n",
       "166               the    1101\n",
       "120            health    1095\n",
       "10          sciences,    1057\n",
       "668             other    1053\n",
       "471           program     985\n",
       "124             staff     981\n",
       "338              work     975\n",
       "405          business     953"
      ]
     },
     "execution_count": 29,
     "metadata": {},
     "output_type": "execute_result"
    }
   ],
   "source": [
    "job_df.sort_values(by = 'Counts',ascending=False).head(40)"
   ]
  },
  {
   "cell_type": "markdown",
   "id": "122087d6",
   "metadata": {},
   "source": [
    "Looking at we see we have about half of our values in the first 2 columns. Professional is a weird name though. Let's look into what professional includes."
   ]
  },
  {
   "cell_type": "code",
   "execution_count": 30,
   "id": "356863a5",
   "metadata": {},
   "outputs": [
    {
     "data": {
      "text/html": [
       "<div>\n",
       "<style scoped>\n",
       "    .dataframe tbody tr th:only-of-type {\n",
       "        vertical-align: middle;\n",
       "    }\n",
       "\n",
       "    .dataframe tbody tr th {\n",
       "        vertical-align: top;\n",
       "    }\n",
       "\n",
       "    .dataframe thead th {\n",
       "        text-align: right;\n",
       "    }\n",
       "</style>\n",
       "<table border=\"1\" class=\"dataframe\">\n",
       "  <thead>\n",
       "    <tr style=\"text-align: right;\">\n",
       "      <th></th>\n",
       "      <th>AGE</th>\n",
       "      <th>INITIAL HIRE DATE</th>\n",
       "      <th>JOB CATEGORY</th>\n",
       "      <th>EMPLOYEE ANNUAL BASE SALARY</th>\n",
       "      <th>EMPLOYEE HOME DEPARTMENT</th>\n",
       "      <th>PRIMARY WORKING TITLE</th>\n",
       "      <th>INSTITUTION NAME_ASU</th>\n",
       "      <th>INSTITUTION NAME_ECSU</th>\n",
       "      <th>INSTITUTION NAME_ECU</th>\n",
       "      <th>INSTITUTION NAME_FSU</th>\n",
       "      <th>...</th>\n",
       "      <th>INSTITUTION NAME_UNCA</th>\n",
       "      <th>INSTITUTION NAME_UNCC</th>\n",
       "      <th>INSTITUTION NAME_UNCG</th>\n",
       "      <th>INSTITUTION NAME_UNCP</th>\n",
       "      <th>INSTITUTION NAME_UNCSA</th>\n",
       "      <th>INSTITUTION NAME_UNCW</th>\n",
       "      <th>INSTITUTION NAME_WCU</th>\n",
       "      <th>INSTITUTION NAME_WSSU</th>\n",
       "      <th>Hire Year</th>\n",
       "      <th>Department</th>\n",
       "    </tr>\n",
       "  </thead>\n",
       "  <tbody>\n",
       "    <tr>\n",
       "      <th>0</th>\n",
       "      <td>49</td>\n",
       "      <td>SEP 01, 2017</td>\n",
       "      <td>IT (Information Technology) Professional</td>\n",
       "      <td>51461.0</td>\n",
       "      <td>Administrative Data Center</td>\n",
       "      <td>Technology Support Analyst</td>\n",
       "      <td>0</td>\n",
       "      <td>0</td>\n",
       "      <td>0</td>\n",
       "      <td>0</td>\n",
       "      <td>...</td>\n",
       "      <td>0</td>\n",
       "      <td>0</td>\n",
       "      <td>0</td>\n",
       "      <td>0</td>\n",
       "      <td>0</td>\n",
       "      <td>0</td>\n",
       "      <td>0</td>\n",
       "      <td>1</td>\n",
       "      <td>2017</td>\n",
       "      <td>Administration</td>\n",
       "    </tr>\n",
       "    <tr>\n",
       "      <th>5</th>\n",
       "      <td>31</td>\n",
       "      <td>JAN 17, 2022</td>\n",
       "      <td>Accounting Professional</td>\n",
       "      <td>59183.0</td>\n",
       "      <td>Accounting</td>\n",
       "      <td>Accountant</td>\n",
       "      <td>0</td>\n",
       "      <td>0</td>\n",
       "      <td>0</td>\n",
       "      <td>0</td>\n",
       "      <td>...</td>\n",
       "      <td>0</td>\n",
       "      <td>0</td>\n",
       "      <td>0</td>\n",
       "      <td>0</td>\n",
       "      <td>0</td>\n",
       "      <td>0</td>\n",
       "      <td>0</td>\n",
       "      <td>1</td>\n",
       "      <td>2022</td>\n",
       "      <td>Accounting</td>\n",
       "    </tr>\n",
       "    <tr>\n",
       "      <th>9</th>\n",
       "      <td>43</td>\n",
       "      <td>MAY 10, 2021</td>\n",
       "      <td>Student Registration / Records Professional, A...</td>\n",
       "      <td>63550.0</td>\n",
       "      <td>Registrar</td>\n",
       "      <td>Associate Registrar</td>\n",
       "      <td>0</td>\n",
       "      <td>0</td>\n",
       "      <td>0</td>\n",
       "      <td>0</td>\n",
       "      <td>...</td>\n",
       "      <td>0</td>\n",
       "      <td>0</td>\n",
       "      <td>0</td>\n",
       "      <td>0</td>\n",
       "      <td>0</td>\n",
       "      <td>0</td>\n",
       "      <td>0</td>\n",
       "      <td>1</td>\n",
       "      <td>2021</td>\n",
       "      <td>Unknown</td>\n",
       "    </tr>\n",
       "    <tr>\n",
       "      <th>13</th>\n",
       "      <td>74</td>\n",
       "      <td>AUG 01, 2017</td>\n",
       "      <td>Research Professional, Life Sciences</td>\n",
       "      <td>56939.0</td>\n",
       "      <td>College of Arts Science Business Ed</td>\n",
       "      <td>Research Associate</td>\n",
       "      <td>0</td>\n",
       "      <td>0</td>\n",
       "      <td>0</td>\n",
       "      <td>0</td>\n",
       "      <td>...</td>\n",
       "      <td>0</td>\n",
       "      <td>0</td>\n",
       "      <td>0</td>\n",
       "      <td>0</td>\n",
       "      <td>0</td>\n",
       "      <td>0</td>\n",
       "      <td>0</td>\n",
       "      <td>1</td>\n",
       "      <td>2017</td>\n",
       "      <td>Liberal Arts</td>\n",
       "    </tr>\n",
       "    <tr>\n",
       "      <th>17</th>\n",
       "      <td>63</td>\n",
       "      <td>MAR 01, 2001</td>\n",
       "      <td>Community Development Professional</td>\n",
       "      <td>111910.0</td>\n",
       "      <td>Center for Community Safety</td>\n",
       "      <td>Executive Director of Center For Community Safety</td>\n",
       "      <td>0</td>\n",
       "      <td>0</td>\n",
       "      <td>0</td>\n",
       "      <td>0</td>\n",
       "      <td>...</td>\n",
       "      <td>0</td>\n",
       "      <td>0</td>\n",
       "      <td>0</td>\n",
       "      <td>0</td>\n",
       "      <td>0</td>\n",
       "      <td>0</td>\n",
       "      <td>0</td>\n",
       "      <td>1</td>\n",
       "      <td>2001</td>\n",
       "      <td>Public Safety</td>\n",
       "    </tr>\n",
       "    <tr>\n",
       "      <th>...</th>\n",
       "      <td>...</td>\n",
       "      <td>...</td>\n",
       "      <td>...</td>\n",
       "      <td>...</td>\n",
       "      <td>...</td>\n",
       "      <td>...</td>\n",
       "      <td>...</td>\n",
       "      <td>...</td>\n",
       "      <td>...</td>\n",
       "      <td>...</td>\n",
       "      <td>...</td>\n",
       "      <td>...</td>\n",
       "      <td>...</td>\n",
       "      <td>...</td>\n",
       "      <td>...</td>\n",
       "      <td>...</td>\n",
       "      <td>...</td>\n",
       "      <td>...</td>\n",
       "      <td>...</td>\n",
       "      <td>...</td>\n",
       "      <td>...</td>\n",
       "    </tr>\n",
       "    <tr>\n",
       "      <th>46653</th>\n",
       "      <td>40</td>\n",
       "      <td>JUL 15, 2019</td>\n",
       "      <td>Academic Services Professional, Support Center...</td>\n",
       "      <td>62835.0</td>\n",
       "      <td>College of Arts and Sciences</td>\n",
       "      <td>Director of AppELS Institute</td>\n",
       "      <td>1</td>\n",
       "      <td>0</td>\n",
       "      <td>0</td>\n",
       "      <td>0</td>\n",
       "      <td>...</td>\n",
       "      <td>0</td>\n",
       "      <td>0</td>\n",
       "      <td>0</td>\n",
       "      <td>0</td>\n",
       "      <td>0</td>\n",
       "      <td>0</td>\n",
       "      <td>0</td>\n",
       "      <td>0</td>\n",
       "      <td>2019</td>\n",
       "      <td>Liberal Arts</td>\n",
       "    </tr>\n",
       "    <tr>\n",
       "      <th>46656</th>\n",
       "      <td>33</td>\n",
       "      <td>AUG 03, 2016</td>\n",
       "      <td>Athletics Training Professional, Trainer</td>\n",
       "      <td>45000.0</td>\n",
       "      <td>Special Projects</td>\n",
       "      <td>Asst Football Athletic Trainer</td>\n",
       "      <td>1</td>\n",
       "      <td>0</td>\n",
       "      <td>0</td>\n",
       "      <td>0</td>\n",
       "      <td>...</td>\n",
       "      <td>0</td>\n",
       "      <td>0</td>\n",
       "      <td>0</td>\n",
       "      <td>0</td>\n",
       "      <td>0</td>\n",
       "      <td>0</td>\n",
       "      <td>0</td>\n",
       "      <td>0</td>\n",
       "      <td>2016</td>\n",
       "      <td>Unknown</td>\n",
       "    </tr>\n",
       "    <tr>\n",
       "      <th>46675</th>\n",
       "      <td>28</td>\n",
       "      <td>JAN 16, 2016</td>\n",
       "      <td>Academic Advising Professional, Advisor/Coordi...</td>\n",
       "      <td>47000.0</td>\n",
       "      <td>Student Learning Center</td>\n",
       "      <td>Acad. Advisor For Athletes</td>\n",
       "      <td>1</td>\n",
       "      <td>0</td>\n",
       "      <td>0</td>\n",
       "      <td>0</td>\n",
       "      <td>...</td>\n",
       "      <td>0</td>\n",
       "      <td>0</td>\n",
       "      <td>0</td>\n",
       "      <td>0</td>\n",
       "      <td>0</td>\n",
       "      <td>0</td>\n",
       "      <td>0</td>\n",
       "      <td>0</td>\n",
       "      <td>2016</td>\n",
       "      <td>Unknown</td>\n",
       "    </tr>\n",
       "    <tr>\n",
       "      <th>46676</th>\n",
       "      <td>41</td>\n",
       "      <td>AUG 14, 2003</td>\n",
       "      <td>Academic Services Professional</td>\n",
       "      <td>55380.0</td>\n",
       "      <td>University Writing Center</td>\n",
       "      <td>Writing Ctr &amp; WAC Consultant</td>\n",
       "      <td>1</td>\n",
       "      <td>0</td>\n",
       "      <td>0</td>\n",
       "      <td>0</td>\n",
       "      <td>...</td>\n",
       "      <td>0</td>\n",
       "      <td>0</td>\n",
       "      <td>0</td>\n",
       "      <td>0</td>\n",
       "      <td>0</td>\n",
       "      <td>0</td>\n",
       "      <td>0</td>\n",
       "      <td>0</td>\n",
       "      <td>2003</td>\n",
       "      <td>Unknown</td>\n",
       "    </tr>\n",
       "    <tr>\n",
       "      <th>46679</th>\n",
       "      <td>34</td>\n",
       "      <td>AUG 24, 2006</td>\n",
       "      <td>Nursing Professional</td>\n",
       "      <td>52012.0</td>\n",
       "      <td>Health Services</td>\n",
       "      <td>Professional Nurse</td>\n",
       "      <td>1</td>\n",
       "      <td>0</td>\n",
       "      <td>0</td>\n",
       "      <td>0</td>\n",
       "      <td>...</td>\n",
       "      <td>0</td>\n",
       "      <td>0</td>\n",
       "      <td>0</td>\n",
       "      <td>0</td>\n",
       "      <td>0</td>\n",
       "      <td>0</td>\n",
       "      <td>0</td>\n",
       "      <td>0</td>\n",
       "      <td>2006</td>\n",
       "      <td>Health Center</td>\n",
       "    </tr>\n",
       "  </tbody>\n",
       "</table>\n",
       "<p>15778 rows × 25 columns</p>\n",
       "</div>"
      ],
      "text/plain": [
       "       AGE INITIAL HIRE DATE  \\\n",
       "0       49      SEP 01, 2017   \n",
       "5       31      JAN 17, 2022   \n",
       "9       43      MAY 10, 2021   \n",
       "13      74      AUG 01, 2017   \n",
       "17      63      MAR 01, 2001   \n",
       "...    ...               ...   \n",
       "46653   40      JUL 15, 2019   \n",
       "46656   33      AUG 03, 2016   \n",
       "46675   28      JAN 16, 2016   \n",
       "46676   41      AUG 14, 2003   \n",
       "46679   34      AUG 24, 2006   \n",
       "\n",
       "                                            JOB CATEGORY  \\\n",
       "0               IT (Information Technology) Professional   \n",
       "5                                Accounting Professional   \n",
       "9      Student Registration / Records Professional, A...   \n",
       "13                  Research Professional, Life Sciences   \n",
       "17                    Community Development Professional   \n",
       "...                                                  ...   \n",
       "46653  Academic Services Professional, Support Center...   \n",
       "46656           Athletics Training Professional, Trainer   \n",
       "46675  Academic Advising Professional, Advisor/Coordi...   \n",
       "46676                     Academic Services Professional   \n",
       "46679                               Nursing Professional   \n",
       "\n",
       "       EMPLOYEE ANNUAL BASE SALARY             EMPLOYEE HOME DEPARTMENT  \\\n",
       "0                          51461.0           Administrative Data Center   \n",
       "5                          59183.0                           Accounting   \n",
       "9                          63550.0                            Registrar   \n",
       "13                         56939.0  College of Arts Science Business Ed   \n",
       "17                        111910.0          Center for Community Safety   \n",
       "...                            ...                                  ...   \n",
       "46653                      62835.0         College of Arts and Sciences   \n",
       "46656                      45000.0                     Special Projects   \n",
       "46675                      47000.0              Student Learning Center   \n",
       "46676                      55380.0            University Writing Center   \n",
       "46679                      52012.0                      Health Services   \n",
       "\n",
       "                                   PRIMARY WORKING TITLE  \\\n",
       "0                             Technology Support Analyst   \n",
       "5                                             Accountant   \n",
       "9                                    Associate Registrar   \n",
       "13                                    Research Associate   \n",
       "17     Executive Director of Center For Community Safety   \n",
       "...                                                  ...   \n",
       "46653                       Director of AppELS Institute   \n",
       "46656                     Asst Football Athletic Trainer   \n",
       "46675                         Acad. Advisor For Athletes   \n",
       "46676                       Writing Ctr & WAC Consultant   \n",
       "46679                                 Professional Nurse   \n",
       "\n",
       "       INSTITUTION NAME_ASU  INSTITUTION NAME_ECSU  INSTITUTION NAME_ECU  \\\n",
       "0                         0                      0                     0   \n",
       "5                         0                      0                     0   \n",
       "9                         0                      0                     0   \n",
       "13                        0                      0                     0   \n",
       "17                        0                      0                     0   \n",
       "...                     ...                    ...                   ...   \n",
       "46653                     1                      0                     0   \n",
       "46656                     1                      0                     0   \n",
       "46675                     1                      0                     0   \n",
       "46676                     1                      0                     0   \n",
       "46679                     1                      0                     0   \n",
       "\n",
       "       INSTITUTION NAME_FSU  ...  INSTITUTION NAME_UNCA  \\\n",
       "0                         0  ...                      0   \n",
       "5                         0  ...                      0   \n",
       "9                         0  ...                      0   \n",
       "13                        0  ...                      0   \n",
       "17                        0  ...                      0   \n",
       "...                     ...  ...                    ...   \n",
       "46653                     0  ...                      0   \n",
       "46656                     0  ...                      0   \n",
       "46675                     0  ...                      0   \n",
       "46676                     0  ...                      0   \n",
       "46679                     0  ...                      0   \n",
       "\n",
       "       INSTITUTION NAME_UNCC  INSTITUTION NAME_UNCG  INSTITUTION NAME_UNCP  \\\n",
       "0                          0                      0                      0   \n",
       "5                          0                      0                      0   \n",
       "9                          0                      0                      0   \n",
       "13                         0                      0                      0   \n",
       "17                         0                      0                      0   \n",
       "...                      ...                    ...                    ...   \n",
       "46653                      0                      0                      0   \n",
       "46656                      0                      0                      0   \n",
       "46675                      0                      0                      0   \n",
       "46676                      0                      0                      0   \n",
       "46679                      0                      0                      0   \n",
       "\n",
       "       INSTITUTION NAME_UNCSA  INSTITUTION NAME_UNCW  INSTITUTION NAME_WCU  \\\n",
       "0                           0                      0                     0   \n",
       "5                           0                      0                     0   \n",
       "9                           0                      0                     0   \n",
       "13                          0                      0                     0   \n",
       "17                          0                      0                     0   \n",
       "...                       ...                    ...                   ...   \n",
       "46653                       0                      0                     0   \n",
       "46656                       0                      0                     0   \n",
       "46675                       0                      0                     0   \n",
       "46676                       0                      0                     0   \n",
       "46679                       0                      0                     0   \n",
       "\n",
       "       INSTITUTION NAME_WSSU  Hire Year      Department  \n",
       "0                          1       2017  Administration  \n",
       "5                          1       2022      Accounting  \n",
       "9                          1       2021         Unknown  \n",
       "13                         1       2017    Liberal Arts  \n",
       "17                         1       2001   Public Safety  \n",
       "...                      ...        ...             ...  \n",
       "46653                      0       2019    Liberal Arts  \n",
       "46656                      0       2016         Unknown  \n",
       "46675                      0       2016         Unknown  \n",
       "46676                      0       2003         Unknown  \n",
       "46679                      0       2006   Health Center  \n",
       "\n",
       "[15778 rows x 25 columns]"
      ]
     },
     "execution_count": 30,
     "metadata": {},
     "output_type": "execute_result"
    }
   ],
   "source": [
    "df[df['JOB CATEGORY'].str.lower().str.contains('professional')]"
   ]
  },
  {
   "cell_type": "markdown",
   "id": "d4d93526",
   "metadata": {},
   "source": [
    "Seeing this we don't want to include professional into our target. Let's go through and condense job titles."
   ]
  },
  {
   "cell_type": "code",
   "execution_count": 31,
   "id": "9243a461",
   "metadata": {},
   "outputs": [],
   "source": [
    "substring_list2 = ['i.t','it ','it/systems','professor','admin','research','housekeeper','lecturer',\n",
    "                   'coordinator','clerical','medical','program']\n",
    "job_names = ['IT','IT','IT','Professor','Admin','Researcher','Housekeeper','Lecturer','Coordinator',\n",
    "             'Cleric','Medical','Program Manager']\n",
    "df['Job'] = [0] * len(df)\n",
    "for index in list(range(len(substring_list2))):\n",
    "    substring = substring_list2[index]\n",
    "    job = job_names[index]\n",
    "    df.loc[df['JOB CATEGORY'].str.lower().str.contains(substring,regex=False),'Job'] = job"
   ]
  },
  {
   "cell_type": "markdown",
   "id": "68b0e478",
   "metadata": {},
   "source": [
    "Let's check the value counts for jobs."
   ]
  },
  {
   "cell_type": "code",
   "execution_count": 32,
   "id": "0d00ff4b",
   "metadata": {},
   "outputs": [
    {
     "data": {
      "text/plain": [
       "0                  18513\n",
       "Professor          11859\n",
       "Admin               2952\n",
       "Researcher          2882\n",
       "IT                  2212\n",
       "Housekeeper         1727\n",
       "Lecturer            1522\n",
       "Coordinator         1396\n",
       "Cleric              1395\n",
       "Medical             1242\n",
       "Program Manager      985\n",
       "Name: Job, dtype: int64"
      ]
     },
     "execution_count": 32,
     "metadata": {},
     "output_type": "execute_result"
    }
   ],
   "source": [
    "df['Job'].value_counts()"
   ]
  },
  {
   "cell_type": "markdown",
   "id": "97e8e45e",
   "metadata": {},
   "source": [
    "We now have our final job names. These will be our target. We don't want to include unkown targets so let's subset our dataframe so that we only have our dataframe where our dataframe doesn't have unknown job titles."
   ]
  },
  {
   "cell_type": "code",
   "execution_count": 33,
   "id": "081737d7",
   "metadata": {},
   "outputs": [
    {
     "name": "stdout",
     "output_type": "stream",
     "text": [
      "<class 'pandas.core.frame.DataFrame'>\n",
      "Int64Index: 28172 entries, 0 to 46684\n",
      "Data columns (total 26 columns):\n",
      " #   Column                              Non-Null Count  Dtype  \n",
      "---  ------                              --------------  -----  \n",
      " 0   AGE                                 28172 non-null  int64  \n",
      " 1   INITIAL HIRE DATE                   28172 non-null  object \n",
      " 2   JOB CATEGORY                        28172 non-null  object \n",
      " 3   EMPLOYEE ANNUAL BASE SALARY         28172 non-null  float64\n",
      " 4   EMPLOYEE HOME DEPARTMENT            28172 non-null  object \n",
      " 5   PRIMARY WORKING TITLE               28172 non-null  object \n",
      " 6   INSTITUTION NAME_ASU                28172 non-null  uint8  \n",
      " 7   INSTITUTION NAME_ECSU               28172 non-null  uint8  \n",
      " 8   INSTITUTION NAME_ECU                28172 non-null  uint8  \n",
      " 9   INSTITUTION NAME_FSU                28172 non-null  uint8  \n",
      " 10  INSTITUTION NAME_NCA&T              28172 non-null  uint8  \n",
      " 11  INSTITUTION NAME_NCCU               28172 non-null  uint8  \n",
      " 12  INSTITUTION NAME_NCSU               28172 non-null  uint8  \n",
      " 13  INSTITUTION NAME_UNC-CH             28172 non-null  uint8  \n",
      " 14  INSTITUTION NAME_UNC-System-Office  28172 non-null  uint8  \n",
      " 15  INSTITUTION NAME_UNCA               28172 non-null  uint8  \n",
      " 16  INSTITUTION NAME_UNCC               28172 non-null  uint8  \n",
      " 17  INSTITUTION NAME_UNCG               28172 non-null  uint8  \n",
      " 18  INSTITUTION NAME_UNCP               28172 non-null  uint8  \n",
      " 19  INSTITUTION NAME_UNCSA              28172 non-null  uint8  \n",
      " 20  INSTITUTION NAME_UNCW               28172 non-null  uint8  \n",
      " 21  INSTITUTION NAME_WCU                28172 non-null  uint8  \n",
      " 22  INSTITUTION NAME_WSSU               28172 non-null  uint8  \n",
      " 23  Hire Year                           28172 non-null  int64  \n",
      " 24  Department                          28172 non-null  object \n",
      " 25  Job                                 28172 non-null  object \n",
      "dtypes: float64(1), int64(2), object(6), uint8(17)\n",
      "memory usage: 2.6+ MB\n"
     ]
    }
   ],
   "source": [
    "working_df = df[df['Job'] != 0]\n",
    "working_df.info()"
   ]
  },
  {
   "cell_type": "markdown",
   "id": "21d19f10",
   "metadata": {},
   "source": [
    "Now it's time to finally get all our data into numeric data. We'll use the padas dummy function for our department. Since job is our target, we'll have to label encode it instead."
   ]
  },
  {
   "cell_type": "code",
   "execution_count": 34,
   "id": "e3d6a58d",
   "metadata": {},
   "outputs": [],
   "source": [
    "working_df = pd.get_dummies(data=working_df,columns=['Department'])"
   ]
  },
  {
   "cell_type": "code",
   "execution_count": 35,
   "id": "9ae15a27",
   "metadata": {},
   "outputs": [],
   "source": [
    "from sklearn.preprocessing import LabelEncoder"
   ]
  },
  {
   "cell_type": "markdown",
   "id": "e0c0b2ec",
   "metadata": {},
   "source": [
    "In order to label encode and replace our Job title, we'll need to create a dictionary. This is so we have the target values in actual words for later. This will allow our evaluation visualizations to be more interpretable."
   ]
  },
  {
   "cell_type": "code",
   "execution_count": 36,
   "id": "f171932c",
   "metadata": {},
   "outputs": [],
   "source": [
    "le = LabelEncoder().fit(working_df['Job'])\n",
    "keys = le.classes_\n",
    "LabelDict = dict(zip(keys, le.transform(keys)))\n",
    "inv_LabelDict = {v: k for k, v in LabelDict.items()}\n",
    "working_df['Job'] = working_df['Job'].replace(LabelDict)"
   ]
  },
  {
   "cell_type": "code",
   "execution_count": 37,
   "id": "64bcee99",
   "metadata": {},
   "outputs": [
    {
     "name": "stdout",
     "output_type": "stream",
     "text": [
      "<class 'pandas.core.frame.DataFrame'>\n",
      "Int64Index: 28172 entries, 0 to 46684\n",
      "Data columns (total 68 columns):\n",
      " #   Column                              Non-Null Count  Dtype  \n",
      "---  ------                              --------------  -----  \n",
      " 0   AGE                                 28172 non-null  int64  \n",
      " 1   INITIAL HIRE DATE                   28172 non-null  object \n",
      " 2   JOB CATEGORY                        28172 non-null  object \n",
      " 3   EMPLOYEE ANNUAL BASE SALARY         28172 non-null  float64\n",
      " 4   EMPLOYEE HOME DEPARTMENT            28172 non-null  object \n",
      " 5   PRIMARY WORKING TITLE               28172 non-null  object \n",
      " 6   INSTITUTION NAME_ASU                28172 non-null  uint8  \n",
      " 7   INSTITUTION NAME_ECSU               28172 non-null  uint8  \n",
      " 8   INSTITUTION NAME_ECU                28172 non-null  uint8  \n",
      " 9   INSTITUTION NAME_FSU                28172 non-null  uint8  \n",
      " 10  INSTITUTION NAME_NCA&T              28172 non-null  uint8  \n",
      " 11  INSTITUTION NAME_NCCU               28172 non-null  uint8  \n",
      " 12  INSTITUTION NAME_NCSU               28172 non-null  uint8  \n",
      " 13  INSTITUTION NAME_UNC-CH             28172 non-null  uint8  \n",
      " 14  INSTITUTION NAME_UNC-System-Office  28172 non-null  uint8  \n",
      " 15  INSTITUTION NAME_UNCA               28172 non-null  uint8  \n",
      " 16  INSTITUTION NAME_UNCC               28172 non-null  uint8  \n",
      " 17  INSTITUTION NAME_UNCG               28172 non-null  uint8  \n",
      " 18  INSTITUTION NAME_UNCP               28172 non-null  uint8  \n",
      " 19  INSTITUTION NAME_UNCSA              28172 non-null  uint8  \n",
      " 20  INSTITUTION NAME_UNCW               28172 non-null  uint8  \n",
      " 21  INSTITUTION NAME_WCU                28172 non-null  uint8  \n",
      " 22  INSTITUTION NAME_WSSU               28172 non-null  uint8  \n",
      " 23  Hire Year                           28172 non-null  int64  \n",
      " 24  Job                                 28172 non-null  int64  \n",
      " 25  Department_Accounting               28172 non-null  uint8  \n",
      " 26  Department_Administration           28172 non-null  uint8  \n",
      " 27  Department_Admissions               28172 non-null  uint8  \n",
      " 28  Department_Athletics                28172 non-null  uint8  \n",
      " 29  Department_Biology                  28172 non-null  uint8  \n",
      " 30  Department_Business                 28172 non-null  uint8  \n",
      " 31  Department_Chancellor's Office      28172 non-null  uint8  \n",
      " 32  Department_Chemistry                28172 non-null  uint8  \n",
      " 33  Department_Communications           28172 non-null  uint8  \n",
      " 34  Department_Computer Science         28172 non-null  uint8  \n",
      " 35  Department_Counseling               28172 non-null  uint8  \n",
      " 36  Department_Dean's Office            28172 non-null  uint8  \n",
      " 37  Department_Development              28172 non-null  uint8  \n",
      " 38  Department_Economics                28172 non-null  uint8  \n",
      " 39  Department_Engineering              28172 non-null  uint8  \n",
      " 40  Department_English                  28172 non-null  uint8  \n",
      " 41  Department_Environmental Sciences   28172 non-null  uint8  \n",
      " 42  Department_Facilities               28172 non-null  uint8  \n",
      " 43  Department_Finance                  28172 non-null  uint8  \n",
      " 44  Department_Health Center            28172 non-null  uint8  \n",
      " 45  Department_History                  28172 non-null  uint8  \n",
      " 46  Department_Hospital                 28172 non-null  uint8  \n",
      " 47  Department_Housekeeping             28172 non-null  uint8  \n",
      " 48  Department_Information Technology   28172 non-null  uint8  \n",
      " 49  Department_Liberal Arts             28172 non-null  uint8  \n",
      " 50  Department_Management               28172 non-null  uint8  \n",
      " 51  Department_Math                     28172 non-null  uint8  \n",
      " 52  Department_Medicine                 28172 non-null  uint8  \n",
      " 53  Department_Music                    28172 non-null  uint8  \n",
      " 54  Department_Nursing                  28172 non-null  uint8  \n",
      " 55  Department_Physics                  28172 non-null  uint8  \n",
      " 56  Department_Police                   28172 non-null  uint8  \n",
      " 57  Department_Psychiatry               28172 non-null  uint8  \n",
      " 58  Department_Public Safety            28172 non-null  uint8  \n",
      " 59  Department_Recreation Center        28172 non-null  uint8  \n",
      " 60  Department_Research                 28172 non-null  uint8  \n",
      " 61  Department_Resource Officer         28172 non-null  uint8  \n",
      " 62  Department_Social Science           28172 non-null  uint8  \n",
      " 63  Department_Sociology                28172 non-null  uint8  \n",
      " 64  Department_Statistics               28172 non-null  uint8  \n",
      " 65  Department_Student Services         28172 non-null  uint8  \n",
      " 66  Department_Unknown                  28172 non-null  uint8  \n",
      " 67  Department_library                  28172 non-null  uint8  \n",
      "dtypes: float64(1), int64(3), object(4), uint8(60)\n",
      "memory usage: 3.5+ MB\n"
     ]
    }
   ],
   "source": [
    "working_df.info()"
   ]
  },
  {
   "cell_type": "markdown",
   "id": "030cc799",
   "metadata": {},
   "source": [
    "Now let's drop the columns that we made stuff off of. "
   ]
  },
  {
   "cell_type": "code",
   "execution_count": 38,
   "id": "52513334",
   "metadata": {},
   "outputs": [],
   "source": [
    "working_df = working_df.drop(columns = ['INITIAL HIRE DATE','JOB CATEGORY','EMPLOYEE HOME DEPARTMENT',\n",
    "                                       'PRIMARY WORKING TITLE'])"
   ]
  },
  {
   "cell_type": "markdown",
   "id": "12e24094",
   "metadata": {},
   "source": [
    "## Viusalizations\n",
    "Before we dive into creating models, we'll get some exploritory visualizations. We want to ensure data integrity and get an understanding of how our features are distributed.\n",
    "\n",
    "The first one we'll look at is the age distribution."
   ]
  },
  {
   "cell_type": "code",
   "execution_count": 39,
   "id": "a049a74b",
   "metadata": {},
   "outputs": [
    {
     "data": {
      "image/png": "[encoded data removed]",
      "text/plain": [
       "<Figure size 1152x648 with 1 Axes>"
      ]
     },
     "metadata": {
      "needs_background": "light"
     },
     "output_type": "display_data"
    }
   ],
   "source": [
    "plt.figure(figsize=(16,9))\n",
    "sns.histplot(working_df['AGE'],color='Blue')\n",
    "plt.title(\"Age Histogram\")\n",
    "plt.ylabel(\"Counts\")\n",
    "plt.xlabel(\"Age\")\n",
    "plt.show()"
   ]
  },
  {
   "cell_type": "markdown",
   "id": "def6ba7f",
   "metadata": {},
   "source": [
    "What's interesting about this is that our data almost looks normally distributed except for a couple of really high points. This might be happening due to people rounding there ages to the nearest five years. The data almost looks like it backs this up because the highpoints are only at 5 year intervals.\n",
    "\n",
    "Now let's look at Salary."
   ]
  },
  {
   "cell_type": "code",
   "execution_count": 40,
   "id": "5baf43bc",
   "metadata": {},
   "outputs": [
    {
     "data": {
      "image/png": "[encoded data removed]",
      "text/plain": [
       "<Figure size 1152x648 with 1 Axes>"
      ]
     },
     "metadata": {
      "needs_background": "light"
     },
     "output_type": "display_data"
    }
   ],
   "source": [
    "plt.figure(figsize=(16,9))\n",
    "sns.histplot(working_df['EMPLOYEE ANNUAL BASE SALARY'],color='Blue')\n",
    "plt.title(\"Salary Histogram\")\n",
    "plt.ylabel(\"Counts\")\n",
    "plt.xlabel(\"Salary\")\n",
    "plt.show()"
   ]
  },
  {
   "cell_type": "markdown",
   "id": "90d77de7",
   "metadata": {},
   "source": [
    "We can see that salary is very much not normally distributed. The data is very right skewed. What this means for our data is that we likely don't want to models that will rely on normalized data. Let's take a look to see if salary is the only feature this happens with. We'll look at hire year next."
   ]
  },
  {
   "cell_type": "code",
   "execution_count": 41,
   "id": "5c28a819",
   "metadata": {},
   "outputs": [
    {
     "data": {
      "image/png": "[encoded data removed]",
      "text/plain": [
       "<Figure size 1152x648 with 1 Axes>"
      ]
     },
     "metadata": {
      "needs_background": "light"
     },
     "output_type": "display_data"
    }
   ],
   "source": [
    "plt.figure(figsize=(16,9))\n",
    "sns.histplot(working_df['Hire Year'],color='Blue')\n",
    "plt.title(\"Hire Year Histogram\")\n",
    "plt.ylabel(\"Counts\")\n",
    "plt.xlabel(\"Hire Year\")\n",
    "plt.show()"
   ]
  },
  {
   "cell_type": "markdown",
   "id": "c214b678",
   "metadata": {},
   "source": [
    "We see a general upward trend in this data. 2022 is not fully represented as the year is still in progress. This means that the UNC System appears to be growing. As for what this means for our model, we likely don't want to use models that rely on normal distributions (ie Guassian Naive Bayes or Linear Models). We also should note that there are years that don't have any new hires. We might expect that something similar is happening with hire year as age. \n",
    "\n",
    "Finally we'll take a look at how our target is distributed. For this we'll need to do a little bit more leg work to get what we need. We'll need to get the value counts of our target and the name associated with these value counts. We'll create a new dataframe called visualization_df to acomplish this."
   ]
  },
  {
   "cell_type": "code",
   "execution_count": 42,
   "id": "1bbb4926",
   "metadata": {},
   "outputs": [],
   "source": [
    "visualization_df = pd.DataFrame(data=zip(list(working_df[\"Job\"].value_counts()),list(working_df[\"Job\"].value_counts().index)),\n",
    "                                columns = ['Counts','Target Value'])\n",
    "visualization_df['Target Value'] = visualization_df['Target Value'].replace(inv_LabelDict)"
   ]
  },
  {
   "cell_type": "markdown",
   "id": "19400199",
   "metadata": {},
   "source": [
    "Now we can make the visualization using our visualization dataframe."
   ]
  },
  {
   "cell_type": "code",
   "execution_count": 43,
   "id": "0c0debcf",
   "metadata": {},
   "outputs": [
    {
     "data": {
      "image/png": "[encoded data removed]",
      "text/plain": [
       "<Figure size 1152x648 with 1 Axes>"
      ]
     },
     "metadata": {
      "needs_background": "light"
     },
     "output_type": "display_data"
    }
   ],
   "source": [
    "plt.figure(figsize=(16,9))\n",
    "sns.barplot(x=visualization_df['Target Value'], y=visualization_df['Counts'],color='Blue')\n",
    "plt.title(\"Job Distribution\")\n",
    "plt.ylabel(\"Counts\")\n",
    "plt.xlabel(\"Job\")\n",
    "plt.show()"
   ]
  },
  {
   "cell_type": "markdown",
   "id": "57f64f83",
   "metadata": {},
   "source": [
    "Looking at this we see that we might need to balance our dataset down the road in order to get better performance."
   ]
  },
  {
   "cell_type": "markdown",
   "id": "2354a5e8",
   "metadata": {},
   "source": [
    "## Model Prep\n",
    "Now that we have our dataframe into terms of only numbers, let's split our model into a training dataset and a testing data set and balance our data. We'll also want to scale our salary, age and hire year variables. Let's do that first."
   ]
  },
  {
   "cell_type": "code",
   "execution_count": 44,
   "id": "3d41e95a",
   "metadata": {},
   "outputs": [],
   "source": [
    "for column in ['AGE','EMPLOYEE ANNUAL BASE SALARY','Hire Year']:\n",
    "    mean = working_df[column].mean()\n",
    "    std = working_df[column].std()\n",
    "    working_df[column] = (working_df[column] - mean)/std"
   ]
  },
  {
   "cell_type": "markdown",
   "id": "866aa51b",
   "metadata": {},
   "source": [
    "Now that we have our data scaled, let's go add it to our actual dataframe."
   ]
  },
  {
   "cell_type": "code",
   "execution_count": 45,
   "id": "f2e37954",
   "metadata": {},
   "outputs": [],
   "source": [
    "from sklearn.model_selection import train_test_split\n",
    "from sklearn.tree import DecisionTreeClassifier\n",
    "from sklearn.metrics import confusion_matrix"
   ]
  },
  {
   "cell_type": "markdown",
   "id": "ff15053b",
   "metadata": {},
   "source": [
    "**Note:** The following bit of code is a function for a confusion matrix that is both pretty to look at and also gives an accuracy score. The source is cited at the end."
   ]
  },
  {
   "cell_type": "code",
   "execution_count": 46,
   "id": "23359d44",
   "metadata": {},
   "outputs": [],
   "source": [
    "def make_confusion_matrix(cf,\n",
    "                          group_names=None,\n",
    "                          categories='auto',\n",
    "                          count=True,\n",
    "                          percent=True,\n",
    "                          cbar=True,\n",
    "                          xyticks=True,\n",
    "                          xyplotlabels=True,\n",
    "                          sum_stats=True,\n",
    "                          figsize=None,\n",
    "                          cmap='Blues',\n",
    "                          title=None):\n",
    "    blanks = ['' for i in range(cf.size)]\n",
    "\n",
    "    if group_names and len(group_names)==cf.size:\n",
    "        group_labels = [\"{}\\n\".format(value) for value in group_names]\n",
    "    else:\n",
    "        group_labels = blanks\n",
    "\n",
    "    if count:\n",
    "        group_counts = [\"{0:0.0f}\\n\".format(value) for value in cf.flatten()]\n",
    "    else:\n",
    "        group_counts = blanks\n",
    "\n",
    "    if percent:\n",
    "        group_percentages = [\"{0:.2%}\".format(value) for value in cf.flatten()/np.sum(cf)]\n",
    "    else:\n",
    "        group_percentages = blanks\n",
    "\n",
    "    box_labels = [f\"{v1}{v2}{v3}\".strip() for v1, v2, v3 in zip(group_labels,group_counts,group_percentages)]\n",
    "    box_labels = np.asarray(box_labels).reshape(cf.shape[0],cf.shape[1])\n",
    "\n",
    "\n",
    "    # CODE TO GENERATE SUMMARY STATISTICS & TEXT FOR SUMMARY STATS\n",
    "    if sum_stats:\n",
    "        #Accuracy is sum of diagonal divided by total observations\n",
    "        accuracy  = np.trace(cf) / float(np.sum(cf))\n",
    "\n",
    "        #if it is a binary confusion matrix, show some more stats\n",
    "        if len(cf)==2:\n",
    "            #Metrics for Binary Confusion Matrices\n",
    "            precision = cf[1,1] / sum(cf[:,1])\n",
    "            recall    = cf[1,1] / sum(cf[1,:])\n",
    "            f1_score  = 2*precision*recall / (precision + recall)\n",
    "            stats_text = \"\\n\\nAccuracy={:0.3f}\\nPrecision={:0.3f}\\nRecall={:0.3f}\\nF1 Score={:0.3f}\".format(\n",
    "                accuracy,precision,recall,f1_score)\n",
    "        else:\n",
    "            stats_text = \"\\n\\nAccuracy={:0.3f}\".format(accuracy)\n",
    "    else:\n",
    "        stats_text = \"\"\n",
    "\n",
    "\n",
    "    # SET FIGURE PARAMETERS ACCORDING TO OTHER ARGUMENTS\n",
    "    if figsize==None:\n",
    "        #Get default figure size if not set\n",
    "        figsize = plt.rcParams.get('figure.figsize')\n",
    "\n",
    "    if xyticks==False:\n",
    "        #Do not show categories if xyticks is False\n",
    "        categories=False\n",
    "\n",
    "\n",
    "    # MAKE THE HEATMAP VISUALIZATION\n",
    "    plt.figure(figsize=figsize)\n",
    "    sns.heatmap(cf,annot=box_labels,fmt=\"\",cmap=cmap,cbar=cbar,xticklabels=categories,yticklabels=categories)\n",
    "\n",
    "    if xyplotlabels:\n",
    "        plt.ylabel('True label')\n",
    "        plt.xlabel('Predicted label' + stats_text)\n",
    "    else:\n",
    "        plt.xlabel(stats_text)\n",
    "    \n",
    "    if title:\n",
    "        plt.title(title)"
   ]
  },
  {
   "cell_type": "markdown",
   "id": "6defa6a5",
   "metadata": {},
   "source": [
    "Now we split our data."
   ]
  },
  {
   "cell_type": "code",
   "execution_count": 47,
   "id": "b84e87a6",
   "metadata": {},
   "outputs": [],
   "source": [
    "Train_set, test_set = train_test_split(working_df,test_size=.2,random_state = 2)"
   ]
  },
  {
   "cell_type": "markdown",
   "id": "dab05d77",
   "metadata": {},
   "source": [
    "Before we start creating models we want to check if we should balance our data. The concern here is that there is not enough values in certain target classes. Let's check the value counts of our y_train."
   ]
  },
  {
   "cell_type": "code",
   "execution_count": 48,
   "id": "d6d2c8fa",
   "metadata": {},
   "outputs": [
    {
     "data": {
      "text/plain": [
       "7    9537\n",
       "0    2342\n",
       "9    2290\n",
       "4    1792\n",
       "3    1358\n",
       "5    1227\n",
       "2    1119\n",
       "1    1081\n",
       "6    1003\n",
       "8     788\n",
       "Name: Job, dtype: int64"
      ]
     },
     "execution_count": 48,
     "metadata": {},
     "output_type": "execute_result"
    }
   ],
   "source": [
    "Train_set['Job'].value_counts()"
   ]
  },
  {
   "cell_type": "markdown",
   "id": "5b4154ff",
   "metadata": {},
   "source": [
    "Looking at this, let's consider rebalancing the data so that each job has at least 2000 rows of data to train on."
   ]
  },
  {
   "cell_type": "code",
   "execution_count": 49,
   "id": "c0a587b5",
   "metadata": {},
   "outputs": [
    {
     "name": "stdout",
     "output_type": "stream",
     "text": [
      "28169\n"
     ]
    },
    {
     "data": {
      "text/plain": [
       "7    9537\n",
       "0    2342\n",
       "9    2290\n",
       "1    2000\n",
       "2    2000\n",
       "3    2000\n",
       "4    2000\n",
       "5    2000\n",
       "6    2000\n",
       "8    2000\n",
       "Name: Job, dtype: int64"
      ]
     },
     "execution_count": 49,
     "metadata": {},
     "output_type": "execute_result"
    }
   ],
   "source": [
    "copy_Train_set = Train_set.copy()\n",
    "for job in Train_set['Job'].unique():\n",
    "    if len(Train_set[Train_set['Job'] == job]) < 2000:\n",
    "        x = 2000\n",
    "        to_resample = Train_set.loc[Train_set['Job'] ==job]\n",
    "        y = x - len(to_resample)\n",
    "        our_resample = to_resample.sample(n = y, replace = True)\n",
    "        Train_set = pd.concat([Train_set, our_resample])\n",
    "print(Train_set['Job'].count())\n",
    "Train_set['Job'].value_counts()"
   ]
  },
  {
   "cell_type": "markdown",
   "id": "43cd3e3d",
   "metadata": {},
   "source": [
    "Great! Now Let's go through and format our training and testing sets into X_train, X_test, y_train, y_test. This should keep the code clean."
   ]
  },
  {
   "cell_type": "code",
   "execution_count": 50,
   "id": "db5fd000",
   "metadata": {},
   "outputs": [],
   "source": [
    "X_train = Train_set.drop(columns='Job')\n",
    "X_test = test_set.drop(columns='Job')\n",
    "y_train = Train_set['Job']\n",
    "y_test = test_set['Job']"
   ]
  },
  {
   "cell_type": "markdown",
   "id": "e954177c",
   "metadata": {},
   "source": [
    "## Modeling\n",
    "It's finally time to start creating classification models for our data and evaluating them. Like we discussed in the visualization section, we want to avoid using models that will be relying on normally distributed data. Because of this we'll avoid linear models and Gaussian Naive Bayes. Decision Trees models are likely the route we will end up taking, but we'll also try K-Nearest Neighbors and SVC (this is why we scaled our data).\n",
    "\n",
    "First we'll use a basic DecisionTreeClassifier."
   ]
  },
  {
   "cell_type": "code",
   "execution_count": 51,
   "id": "a369c6d0",
   "metadata": {},
   "outputs": [],
   "source": [
    "clf = DecisionTreeClassifier()\n",
    "clf = clf.fit(X_train,y_train)\n",
    "predictions = clf.predict(X_test)\n",
    "matrix = confusion_matrix(y_test,predictions)"
   ]
  },
  {
   "cell_type": "markdown",
   "id": "c4617d3f",
   "metadata": {},
   "source": [
    "Now let's see a confusion matrix to see how our model performed."
   ]
  },
  {
   "cell_type": "code",
   "execution_count": 52,
   "id": "a470743f",
   "metadata": {
    "scrolled": false
   },
   "outputs": [
    {
     "data": {
      "text/plain": [
       "<Figure size 1152x648 with 0 Axes>"
      ]
     },
     "metadata": {},
     "output_type": "display_data"
    },
    {
     "data": {
      "image/png": "[encoded data removed]",
      "text/plain": [
       "<Figure size 432x288 with 2 Axes>"
      ]
     },
     "metadata": {
      "needs_background": "light"
     },
     "output_type": "display_data"
    }
   ],
   "source": [
    "plt.figure(figsize=(16,9))\n",
    "make_confusion_matrix(matrix,percent=False,title='Decision Tree Confusion Matrix',categories = keys)\n",
    "plt.show()"
   ]
  },
  {
   "cell_type": "markdown",
   "id": "69f61198",
   "metadata": {},
   "source": [
    "60% accuracy is pretty decent, but we can get a better model using some ensemble methods. Let's use a gradient boosting classifier next."
   ]
  },
  {
   "cell_type": "code",
   "execution_count": 53,
   "id": "6dbf110a",
   "metadata": {},
   "outputs": [],
   "source": [
    "from sklearn.ensemble import GradientBoostingClassifier"
   ]
  },
  {
   "cell_type": "code",
   "execution_count": 54,
   "id": "5f6e976d",
   "metadata": {},
   "outputs": [],
   "source": [
    "clf = GradientBoostingClassifier()\n",
    "clf = clf.fit(X_train,y_train)\n",
    "predictions = clf.predict(X_test)\n",
    "matrix = confusion_matrix(y_test,predictions)"
   ]
  },
  {
   "cell_type": "code",
   "execution_count": 55,
   "id": "51f62f70",
   "metadata": {},
   "outputs": [
    {
     "data": {
      "text/plain": [
       "<Figure size 1152x648 with 0 Axes>"
      ]
     },
     "metadata": {},
     "output_type": "display_data"
    },
    {
     "data": {
      "image/png": "[encoded data removed]",
      "text/plain": [
       "<Figure size 432x288 with 2 Axes>"
      ]
     },
     "metadata": {
      "needs_background": "light"
     },
     "output_type": "display_data"
    }
   ],
   "source": [
    "plt.figure(figsize=(16,9))\n",
    "make_confusion_matrix(matrix,percent=False,title='Gradient Boosting Confusion Matrix', categories = keys)\n",
    "plt.show()"
   ]
  },
  {
   "cell_type": "markdown",
   "id": "4b19cc20",
   "metadata": {},
   "source": [
    "66% is much better, but we might be able to make some improvements still. Let's try out one more algorithm, Random Forest."
   ]
  },
  {
   "cell_type": "code",
   "execution_count": 56,
   "id": "122367a2",
   "metadata": {},
   "outputs": [],
   "source": [
    "from sklearn.ensemble import RandomForestClassifier"
   ]
  },
  {
   "cell_type": "code",
   "execution_count": 57,
   "id": "3a198f95",
   "metadata": {},
   "outputs": [],
   "source": [
    "clf = RandomForestClassifier(random_state = 1)\n",
    "clf = clf.fit(X_train,y_train)\n",
    "predictions = clf.predict(X_test)\n",
    "matrix = confusion_matrix(y_test,predictions)"
   ]
  },
  {
   "cell_type": "code",
   "execution_count": 58,
   "id": "ff1166b7",
   "metadata": {},
   "outputs": [
    {
     "data": {
      "text/plain": [
       "<Figure size 1152x648 with 0 Axes>"
      ]
     },
     "metadata": {},
     "output_type": "display_data"
    },
    {
     "data": {
      "image/png": "[encoded data removed]",
      "text/plain": [
       "<Figure size 432x288 with 2 Axes>"
      ]
     },
     "metadata": {
      "needs_background": "light"
     },
     "output_type": "display_data"
    }
   ],
   "source": [
    "plt.figure(figsize=(16,9))\n",
    "make_confusion_matrix(matrix,percent=False,title='Random Forest Confusion Matrix', categories = keys)\n",
    "plt.show()"
   ]
  },
  {
   "cell_type": "markdown",
   "id": "669dead1",
   "metadata": {},
   "source": [
    "We see that this is better than Gradient Boosting Classifier. Let's try out some non-tree based models. First we'll start out with SVC."
   ]
  },
  {
   "cell_type": "code",
   "execution_count": 59,
   "id": "9a002ed6",
   "metadata": {},
   "outputs": [],
   "source": [
    "from sklearn.svm import SVC"
   ]
  },
  {
   "cell_type": "code",
   "execution_count": 60,
   "id": "fa78fe6a",
   "metadata": {},
   "outputs": [],
   "source": [
    "clf = SVC()\n",
    "clf = clf.fit(X_train,y_train)\n",
    "predictions = clf.predict(X_test)\n",
    "matrix = confusion_matrix(y_test,predictions)"
   ]
  },
  {
   "cell_type": "code",
   "execution_count": 61,
   "id": "d8eb5bab",
   "metadata": {},
   "outputs": [
    {
     "data": {
      "text/plain": [
       "<Figure size 1152x648 with 0 Axes>"
      ]
     },
     "metadata": {},
     "output_type": "display_data"
    },
    {
     "data": {
      "image/png": "[encoded data removed]",
      "text/plain": [
       "<Figure size 432x288 with 2 Axes>"
      ]
     },
     "metadata": {
      "needs_background": "light"
     },
     "output_type": "display_data"
    }
   ],
   "source": [
    "plt.figure(figsize=(16,9))\n",
    "make_confusion_matrix(matrix,percent=False,title='Support Vector Classifier Confusion Matrix', categories = keys)\n",
    "plt.show()"
   ]
  },
  {
   "cell_type": "markdown",
   "id": "a78627e8",
   "metadata": {},
   "source": [
    "SVC seems to be performing as good as Random Forest. We have one more model that we'll be trying. Let's look at K-Nearest Neighbors."
   ]
  },
  {
   "cell_type": "code",
   "execution_count": 62,
   "id": "d10d90fc",
   "metadata": {},
   "outputs": [],
   "source": [
    "from sklearn.neighbors import KNeighborsClassifier"
   ]
  },
  {
   "cell_type": "code",
   "execution_count": 63,
   "id": "f2d0a3f2",
   "metadata": {},
   "outputs": [],
   "source": [
    "clf = KNeighborsClassifier()\n",
    "clf = clf.fit(X_train,y_train)\n",
    "predictions = clf.predict(X_test)\n",
    "matrix = confusion_matrix(y_test,predictions)"
   ]
  },
  {
   "cell_type": "code",
   "execution_count": 64,
   "id": "a6148372",
   "metadata": {},
   "outputs": [
    {
     "data": {
      "text/plain": [
       "<Figure size 1152x648 with 0 Axes>"
      ]
     },
     "metadata": {},
     "output_type": "display_data"
    },
    {
     "data": {
      "image/png": "[encoded data removed]",
      "text/plain": [
       "<Figure size 432x288 with 2 Axes>"
      ]
     },
     "metadata": {
      "needs_background": "light"
     },
     "output_type": "display_data"
    }
   ],
   "source": [
    "plt.figure(figsize=(16,9))\n",
    "make_confusion_matrix(matrix,percent=False,title='K-Nearest Neighbor Confusion Matrix', categories = keys)\n",
    "plt.show()"
   ]
  },
  {
   "cell_type": "markdown",
   "id": "1dd5edba",
   "metadata": {},
   "source": [
    "K-Nearest Neighbors performed the worst out of any model that we have tested. Random Forest our best out of the box classifier. Let's look at our feature importances and then do some parameter tuning on Random Forest."
   ]
  },
  {
   "cell_type": "code",
   "execution_count": 65,
   "id": "31325e9f",
   "metadata": {},
   "outputs": [
    {
     "data": {
      "image/png": "[encoded data removed]",
      "text/plain": [
       "<Figure size 864x2160 with 1 Axes>"
      ]
     },
     "metadata": {
      "needs_background": "light"
     },
     "output_type": "display_data"
    }
   ],
   "source": [
    "clf = RandomForestClassifier(random_state = 1)\n",
    "clf = clf.fit(X_train,y_train)\n",
    "plt.figure(figsize=(12,30))\n",
    "importance_df = pd.DataFrame(list(zip(working_df.drop(columns='Job').columns,clf.feature_importances_)),\n",
    "                             columns=['Feature','Importance'])\n",
    "importance_df = importance_df.sort_values(by='Importance',ascending=False)\n",
    "sns.barplot(x=importance_df['Importance'],y=importance_df['Feature'],palette='Blues_r')\n",
    "plt.title('Feature Importance Plot')\n",
    "plt.xlabel('Importance')\n",
    "plt.ylabel('Feature')\n",
    "plt.show()"
   ]
  },
  {
   "cell_type": "markdown",
   "id": "b677295a",
   "metadata": {},
   "source": [
    "As we would expect, salary makes up a large portion of our model's importance."
   ]
  },
  {
   "cell_type": "markdown",
   "id": "22fa786c",
   "metadata": {},
   "source": [
    "### Parameter Tuning\n",
    "Let's go through and tune our paramets for our gradient boosting classifier. We'll set accuracy as our target for this. An article from the medium was used in reference for this. Here is the article in question: https://medium.com/all-things-ai/in-depth-parameter-tuning-for-gradient-boosting-3363992e9bae ."
   ]
  },
  {
   "cell_type": "code",
   "execution_count": 66,
   "id": "51f2ae96",
   "metadata": {},
   "outputs": [],
   "source": [
    "from matplotlib.legend_handler import HandlerLine2D\n",
    "from sklearn.metrics import accuracy_score"
   ]
  },
  {
   "cell_type": "code",
   "execution_count": 67,
   "id": "f1e24f7e",
   "metadata": {},
   "outputs": [
    {
     "data": {
      "image/png": "[encoded data removed]",
      "text/plain": [
       "<Figure size 432x288 with 1 Axes>"
      ]
     },
     "metadata": {
      "needs_background": "light"
     },
     "output_type": "display_data"
    }
   ],
   "source": [
    "n_estimators = [2,4,8,16,32,64,100,200]\n",
    "train_results = []\n",
    "test_results = []\n",
    "for estimator in n_estimators:\n",
    "    \n",
    "    model = RandomForestClassifier(n_estimators=estimator,random_state=1)\n",
    "    model.fit(X_train, y_train)\n",
    "    train_pred = model.predict(X_train)\n",
    "    train_acc = accuracy_score(y_train,train_pred)\n",
    "    train_results.append(train_acc)\n",
    "    y_pred = model.predict(X_test)\n",
    "    test_acc = accuracy_score(y_test,y_pred)\n",
    "    test_results.append(test_acc)\n",
    "\n",
    "line1, = plt.plot(n_estimators, train_results, 'b', label='Train Accuracy')\n",
    "line2, = plt.plot(n_estimators, test_results, 'r', label='Test Accuracy')\n",
    "plt.legend(handler_map={line1: HandlerLine2D(numpoints=2)})\n",
    "plt.ylabel('Accuracy Score')\n",
    "plt.xlabel('n_estimators')\n",
    "plt.show()"
   ]
  },
  {
   "cell_type": "markdown",
   "id": "41673fda",
   "metadata": {},
   "source": [
    "n_estimators at 100 seems to be the sweet spot for estimators."
   ]
  },
  {
   "cell_type": "code",
   "execution_count": 68,
   "id": "81531eb6",
   "metadata": {},
   "outputs": [],
   "source": [
    "estimator = 100"
   ]
  },
  {
   "cell_type": "code",
   "execution_count": 69,
   "id": "906e30f6",
   "metadata": {},
   "outputs": [
    {
     "data": {
      "image/png": "[encoded data removed]",
      "text/plain": [
       "<Figure size 432x288 with 1 Axes>"
      ]
     },
     "metadata": {
      "needs_background": "light"
     },
     "output_type": "display_data"
    }
   ],
   "source": [
    "max_depths = [2,4,8,16,32,64,100,200]\n",
    "train_results = []\n",
    "test_results = []\n",
    "for depth in max_depths:\n",
    "    \n",
    "    model = RandomForestClassifier(n_estimators = estimator, max_depth=depth,random_state=1)\n",
    "    model.fit(X_train, y_train)\n",
    "    train_pred = model.predict(X_train)\n",
    "    train_acc = accuracy_score(y_train,train_pred)\n",
    "    train_results.append(train_acc)\n",
    "    y_pred = model.predict(X_test)\n",
    "    test_acc = accuracy_score(y_test,y_pred)\n",
    "    test_results.append(test_acc)\n",
    "\n",
    "line1, = plt.plot(n_estimators, train_results, 'b', label='Train Accuracy')\n",
    "line2, = plt.plot(n_estimators, test_results, 'r', label='Test Accuracy')\n",
    "plt.legend(handler_map={line1: HandlerLine2D(numpoints=2)})\n",
    "plt.ylabel('Accuracy Score')\n",
    "plt.xlabel('max_depth')\n",
    "plt.show()"
   ]
  },
  {
   "cell_type": "markdown",
   "id": "8e95f7c3",
   "metadata": {},
   "source": [
    "64 is the best max_depth that we found as that is were performance levels out on the test accuracy."
   ]
  },
  {
   "cell_type": "code",
   "execution_count": 70,
   "id": "9d3d6ed2",
   "metadata": {},
   "outputs": [],
   "source": [
    "max_depth = 64"
   ]
  },
  {
   "cell_type": "markdown",
   "id": "0d8eb751",
   "metadata": {},
   "source": [
    "I feel satisfied with this parameter tuning. We could definitely spend more time going through and tuning all of the parameters for our model, but there would be such little improvement in our model that I feel it is unnecessary."
   ]
  },
  {
   "cell_type": "markdown",
   "id": "124021ef",
   "metadata": {},
   "source": [
    "## Final Model Performance\n",
    "Now we'll train our Random Forest Classifier with the parameters we chose and determine our final performance."
   ]
  },
  {
   "cell_type": "code",
   "execution_count": 71,
   "id": "bac623f3",
   "metadata": {},
   "outputs": [],
   "source": [
    "clf = RandomForestClassifier(n_estimators = estimator, max_depth= max_depth,random_state=1)\n",
    "clf = clf.fit(X_train,y_train)\n",
    "predictions = clf.predict(X_test)\n",
    "matrix = confusion_matrix(y_test,predictions)"
   ]
  },
  {
   "cell_type": "code",
   "execution_count": 72,
   "id": "4406cf8e",
   "metadata": {},
   "outputs": [
    {
     "data": {
      "text/plain": [
       "<Figure size 1152x648 with 0 Axes>"
      ]
     },
     "metadata": {},
     "output_type": "display_data"
    },
    {
     "data": {
      "image/png": "[encoded data removed]",
      "text/plain": [
       "<Figure size 432x288 with 2 Axes>"
      ]
     },
     "metadata": {
      "needs_background": "light"
     },
     "output_type": "display_data"
    }
   ],
   "source": [
    "plt.figure(figsize=(16,9))\n",
    "make_confusion_matrix(matrix,percent=False,title='Job Title Confusion Matrix',categories = keys)\n",
    "plt.show()"
   ]
  },
  {
   "cell_type": "markdown",
   "id": "5e1a6c1e",
   "metadata": {},
   "source": [
    "Overall our model looks pretty good. If we were interested we might consider utilizing a soft voting classifier with SVC, Random Forest, and Gradient Boosting to hopefully get better performance. However I am satisfied with this models performance. We really only see bad accuracy when the model is predicting professor. This is likely because professors are the most occuring job title in our data set and get paid a comparable salary to both IT workers, researchers and program managers. "
   ]
  },
  {
   "cell_type": "markdown",
   "id": "f0e950c2",
   "metadata": {},
   "source": [
    "# Package use and citations\n",
    " - sklearn - @article{scikit-learn,\n",
    "     title={Scikit-learn: Machine Learning in {P}ython},\n",
    "     author={Pedregosa, F. and Varoquaux, G. and Gramfort, A. and Michel, V.\n",
    "             and Thirion, B. and Grisel, O. and Blondel, M. and Prettenhofer, P.\n",
    "             and Weiss, R. and Dubourg, V. and Vanderplas, J. and Passos, A. and\n",
    "             Cournapeau, D. and Brucher, M. and Perrot, M. and Duchesnay, E.},\n",
    "     journal={Journal of Machine Learning Research},\n",
    "     volume={12},\n",
    "     pages={2825--2830},\n",
    "     year={2011}\n",
    "    }\n",
    " - numpy - @Article{         harris2020array,\n",
    "     title         = {Array programming with {NumPy}},\n",
    "     author        = {Charles R. Harris and K. Jarrod Millman and St{\\'{e}}fan J.\n",
    "                     van der Walt and Ralf Gommers and Pauli Virtanen and David\n",
    "                     Cournapeau and Eric Wieser and Julian Taylor and Sebastian\n",
    "                     Berg and Nathaniel J. Smith and Robert Kern and Matti Picus\n",
    "                     and Stephan Hoyer and Marten H. van Kerkwijk and Matthew\n",
    "                     Brett and Allan Haldane and Jaime Fern{\\'{a}}ndez del\n",
    "                     R{\\'{i}}o and Mark Wiebe and Pearu Peterson and Pierre\n",
    "                     G{\\'{e}}rard-Marchant and Kevin Sheppard and Tyler Reddy and\n",
    "                     Warren Weckesser and Hameer Abbasi and Christoph Gohlke and\n",
    "                     Travis E. Oliphant},\n",
    "     year          = {2020},\n",
    "     month         = sep,\n",
    "     journal       = {Nature},\n",
    "     volume        = {585},\n",
    "     number        = {7825},\n",
    "     pages         = {357--362},\n",
    "     doi           = {10.1038/s41586-020-2649-2},\n",
    "     publisher     = {Springer Science and Business Media {LLC}},\n",
    "     url           = {https://doi.org/10.1038/s41586-020-2649-2}\n",
    "    }\n",
    " - pandas - @InProceedings{ mckinney-proc-scipy-2010,\n",
    "      author    = { {W}es {M}c{K}inney },\n",
    "      title     = { {D}ata {S}tructures for {S}tatistical {C}omputing in {P}ython },\n",
    "      booktitle = { {P}roceedings of the 9th {P}ython in {S}cience {C}onference },\n",
    "      pages     = { 56 - 61 },\n",
    "      year      = { 2010 },\n",
    "      editor    = { {S}t\\'efan van der {W}alt and {J}arrod {M}illman },\n",
    "      doi       = { 10.25080/Majora-92bf1922-00a }\n",
    "    }\n",
    " - matplotlib - @Article{Hunter:2007,\n",
    "      Author    = {Hunter, J. D.},\n",
    "      Title     = {Matplotlib: A 2D graphics environment},\n",
    "      Journal   = {Computing in Science \\& Engineering},\n",
    "      Volume    = {9},\n",
    "      Number    = {3},\n",
    "      Pages     = {90--95},\n",
    "      abstract  = {Matplotlib is a 2D graphics package used for Python for\n",
    "      application development, interactive scripting, and publication-quality\n",
    "      image generation across user interfaces and operating systems.},\n",
    "      publisher = {IEEE COMPUTER SOC},\n",
    "      doi       = {10.1109/MCSE.2007.55},\n",
    "      year      = 2007\n",
    "    }\n",
    " - seaborn - @article{Waskom2021,\n",
    "    doi = {10.21105/joss.03021},\n",
    "    url = {https://doi.org/10.21105/joss.03021},\n",
    "    year = {2021},\n",
    "    publisher = {The Open Journal},\n",
    "    volume = {6},\n",
    "    number = {60},\n",
    "    pages = {3021},\n",
    "    author = {Michael L. Waskom},\n",
    "    title = {seaborn: statistical data visualization},\n",
    "    journal = {Journal of Open Source Software}\n",
    "     }\n",
    " - confusion matrix clean code - https://github.com/DTrimarchi10/confusion_matrix/blob/master/cf_matrix.py\n",
    " - Medium Article - Fraj, Mohtadi Ben. “In Depth: Parameter Tuning for Gradient Boosting.” Medium, All Things AI, 24 Dec. 2017, https://medium.com/all-things-ai/in-depth-parameter-tuning-for-gradient-boosting-3363992e9bae. "
   ]
  }
 ],
 "metadata": {
  "kernelspec": {
   "display_name": "Python 3",
   "language": "python",
   "name": "python3"
  },
  "language_info": {
   "codemirror_mode": {
    "name": "ipython",
    "version": 3
   },
   "file_extension": ".py",
   "mimetype": "text/x-python",
   "name": "python",
   "nbconvert_exporter": "python",
   "pygments_lexer": "ipython3",
   "version": "3.8.8"
  }
 },
 "nbformat": 4,
 "nbformat_minor": 5
}
