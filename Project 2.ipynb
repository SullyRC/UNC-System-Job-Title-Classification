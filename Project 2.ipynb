{
 "cells": [
  {
   "cell_type": "markdown",
   "id": "40842578",
   "metadata": {},
   "source": [
    "# Unethical Classification of Job Title in the UNC System\n",
    "This project focuses on classifying department of employees in the UNC System. Data sourced from: https://uncdm.northcarolina.edu/salaries/index.php ."
   ]
  },
  {
   "cell_type": "code",
   "execution_count": 1,
   "id": "bc638f4e",
   "metadata": {},
   "outputs": [],
   "source": [
    "import pandas as pd\n",
    "import numpy as np\n",
    "import matplotlib.pyplot as plt\n",
    "import seaborn as sns"
   ]
  },
  {
   "cell_type": "markdown",
   "id": "53162acd",
   "metadata": {},
   "source": [
    "## Data Import and Description"
   ]
  },
  {
   "cell_type": "code",
   "execution_count": 2,
   "id": "8ecbd863",
   "metadata": {},
   "outputs": [],
   "source": [
    "# if you don't have openpyxl pacakge uncomment the following line\n",
    "#!pip install openpyxl"
   ]
  },
  {
   "cell_type": "code",
   "execution_count": 3,
   "id": "598d0416",
   "metadata": {},
   "outputs": [],
   "source": [
    "df = pd.read_excel(\"Salary Data Export.xlsx\")"
   ]
  },
  {
   "cell_type": "code",
   "execution_count": 4,
   "id": "4078d623",
   "metadata": {
    "scrolled": true
   },
   "outputs": [
    {
     "data": {
      "text/html": [
       "<div>\n",
       "<style scoped>\n",
       "    .dataframe tbody tr th:only-of-type {\n",
       "        vertical-align: middle;\n",
       "    }\n",
       "\n",
       "    .dataframe tbody tr th {\n",
       "        vertical-align: top;\n",
       "    }\n",
       "\n",
       "    .dataframe thead th {\n",
       "        text-align: right;\n",
       "    }\n",
       "</style>\n",
       "<table border=\"1\" class=\"dataframe\">\n",
       "  <thead>\n",
       "    <tr style=\"text-align: right;\">\n",
       "      <th></th>\n",
       "      <th>INSTITUTION NAME</th>\n",
       "      <th>LAST NAME</th>\n",
       "      <th>FIRST NAME</th>\n",
       "      <th>INIT</th>\n",
       "      <th>AGE</th>\n",
       "      <th>INITIAL HIRE DATE</th>\n",
       "      <th>JOB CATEGORY</th>\n",
       "      <th>EMPLOYEE ANNUAL BASE SALARY</th>\n",
       "      <th>EMPLOYEE HOME DEPARTMENT</th>\n",
       "      <th>PRIMARY WORKING TITLE</th>\n",
       "    </tr>\n",
       "  </thead>\n",
       "  <tbody>\n",
       "    <tr>\n",
       "      <th>0</th>\n",
       "      <td>WSSU</td>\n",
       "      <td>Ables</td>\n",
       "      <td>Eddie</td>\n",
       "      <td>NaN</td>\n",
       "      <td>49</td>\n",
       "      <td>SEP 01, 2017</td>\n",
       "      <td>IT (Information Technology) Professional</td>\n",
       "      <td>51461.0</td>\n",
       "      <td>Administrative Data Center</td>\n",
       "      <td>Technology Support Analyst</td>\n",
       "    </tr>\n",
       "    <tr>\n",
       "      <th>1</th>\n",
       "      <td>WSSU</td>\n",
       "      <td>Adams</td>\n",
       "      <td>Nelson</td>\n",
       "      <td>NaN</td>\n",
       "      <td>66</td>\n",
       "      <td>AUG 16, 1982</td>\n",
       "      <td>Professor</td>\n",
       "      <td>93343.0</td>\n",
       "      <td>Psychological Sciences</td>\n",
       "      <td>Professor</td>\n",
       "    </tr>\n",
       "    <tr>\n",
       "      <th>2</th>\n",
       "      <td>WSSU</td>\n",
       "      <td>Adeyeye</td>\n",
       "      <td>John</td>\n",
       "      <td>O</td>\n",
       "      <td>69</td>\n",
       "      <td>JUL 01, 2004</td>\n",
       "      <td>Professor</td>\n",
       "      <td>97549.0</td>\n",
       "      <td>Mathematics</td>\n",
       "      <td>Professor</td>\n",
       "    </tr>\n",
       "    <tr>\n",
       "      <th>3</th>\n",
       "      <td>WSSU</td>\n",
       "      <td>Adjei-Fremah</td>\n",
       "      <td>Sarah</td>\n",
       "      <td>NaN</td>\n",
       "      <td>34</td>\n",
       "      <td>AUG 02, 2021</td>\n",
       "      <td>Assistant Professor</td>\n",
       "      <td>66500.0</td>\n",
       "      <td>Biological Sciences</td>\n",
       "      <td>Assistant Professor, Biology - Genetics and Mi...</td>\n",
       "    </tr>\n",
       "    <tr>\n",
       "      <th>4</th>\n",
       "      <td>WSSU</td>\n",
       "      <td>Afolayan</td>\n",
       "      <td>LaTanya</td>\n",
       "      <td>D</td>\n",
       "      <td>64</td>\n",
       "      <td>JUL 10, 2018</td>\n",
       "      <td>Chief Development / Advancement Officer</td>\n",
       "      <td>148625.0</td>\n",
       "      <td>University Advancement</td>\n",
       "      <td>Vice Chancellor for University Advancement</td>\n",
       "    </tr>\n",
       "  </tbody>\n",
       "</table>\n",
       "</div>"
      ],
      "text/plain": [
       "  INSTITUTION NAME     LAST NAME FIRST NAME INIT  AGE INITIAL HIRE DATE  \\\n",
       "0             WSSU         Ables      Eddie  NaN   49      SEP 01, 2017   \n",
       "1             WSSU         Adams     Nelson  NaN   66      AUG 16, 1982   \n",
       "2             WSSU       Adeyeye       John    O   69      JUL 01, 2004   \n",
       "3             WSSU  Adjei-Fremah      Sarah  NaN   34      AUG 02, 2021   \n",
       "4             WSSU      Afolayan    LaTanya    D   64      JUL 10, 2018   \n",
       "\n",
       "                               JOB CATEGORY  EMPLOYEE ANNUAL BASE SALARY  \\\n",
       "0  IT (Information Technology) Professional                      51461.0   \n",
       "1                                 Professor                      93343.0   \n",
       "2                                 Professor                      97549.0   \n",
       "3                       Assistant Professor                      66500.0   \n",
       "4   Chief Development / Advancement Officer                     148625.0   \n",
       "\n",
       "     EMPLOYEE HOME DEPARTMENT  \\\n",
       "0  Administrative Data Center   \n",
       "1      Psychological Sciences   \n",
       "2                 Mathematics   \n",
       "3         Biological Sciences   \n",
       "4      University Advancement   \n",
       "\n",
       "                               PRIMARY WORKING TITLE  \n",
       "0                         Technology Support Analyst  \n",
       "1                                          Professor  \n",
       "2                                          Professor  \n",
       "3  Assistant Professor, Biology - Genetics and Mi...  \n",
       "4         Vice Chancellor for University Advancement  "
      ]
     },
     "execution_count": 4,
     "metadata": {},
     "output_type": "execute_result"
    }
   ],
   "source": [
    "df.head()"
   ]
  },
  {
   "cell_type": "code",
   "execution_count": 5,
   "id": "f7528817",
   "metadata": {},
   "outputs": [
    {
     "data": {
      "text/plain": [
       "Index(['INSTITUTION NAME', 'LAST NAME', 'FIRST NAME', 'INIT', 'AGE',\n",
       "       'INITIAL HIRE DATE', 'JOB CATEGORY', 'EMPLOYEE ANNUAL BASE SALARY',\n",
       "       'EMPLOYEE HOME DEPARTMENT', 'PRIMARY WORKING TITLE'],\n",
       "      dtype='object')"
      ]
     },
     "execution_count": 5,
     "metadata": {},
     "output_type": "execute_result"
    }
   ],
   "source": [
    "df.columns"
   ]
  },
  {
   "cell_type": "markdown",
   "id": "6c013b7e",
   "metadata": {},
   "source": [
    "In this dataset we have:\n",
    "- Instituition name\n",
    "- Last name\n",
    "- First name\n",
    "- Init (middle initial)\n",
    "- Age\n",
    "- Initial hire date\n",
    "- Job Category\n",
    "- Salary\n",
    "- Employee home department\n",
    "- Primary working title\n",
    "\n",
    "We can drop some of these features, particularly the names of the employees, that aren't useful for classification. We'll reassign our dataframe now to the current dataframe with the name columns dropped."
   ]
  },
  {
   "cell_type": "code",
   "execution_count": 6,
   "id": "07490992",
   "metadata": {},
   "outputs": [],
   "source": [
    "df = df.drop(columns= ['FIRST NAME','LAST NAME','INIT'])"
   ]
  },
  {
   "cell_type": "code",
   "execution_count": 7,
   "id": "e84b3da8",
   "metadata": {},
   "outputs": [
    {
     "name": "stdout",
     "output_type": "stream",
     "text": [
      "<class 'pandas.core.frame.DataFrame'>\n",
      "RangeIndex: 46685 entries, 0 to 46684\n",
      "Data columns (total 7 columns):\n",
      " #   Column                       Non-Null Count  Dtype  \n",
      "---  ------                       --------------  -----  \n",
      " 0   INSTITUTION NAME             46685 non-null  object \n",
      " 1   AGE                          46685 non-null  int64  \n",
      " 2   INITIAL HIRE DATE            46685 non-null  object \n",
      " 3   JOB CATEGORY                 46685 non-null  object \n",
      " 4   EMPLOYEE ANNUAL BASE SALARY  46685 non-null  float64\n",
      " 5   EMPLOYEE HOME DEPARTMENT     46685 non-null  object \n",
      " 6   PRIMARY WORKING TITLE        46685 non-null  object \n",
      "dtypes: float64(1), int64(1), object(5)\n",
      "memory usage: 2.5+ MB\n"
     ]
    }
   ],
   "source": [
    "df.info()"
   ]
  },
  {
   "cell_type": "markdown",
   "id": "7a0a3e0c",
   "metadata": {},
   "source": [
    "Looking at our data we can see a lot of features being objects. For some of these we can clean the data to make it numeric (hire date). Others will have to be put into dummy columns or be hot encoded. We also presumably need to rework our home departments into a smaller number of departments. This is because different schools call their departments different things. Also it is important to note that we don't appear to have any nulls in our data. "
   ]
  },
  {
   "cell_type": "markdown",
   "id": "34b999aa",
   "metadata": {},
   "source": [
    "## Data Cleaning\n",
    "In this portion of the notebook we'll go through each of our object features and transform them into something that we can put into a model."
   ]
  },
  {
   "cell_type": "code",
   "execution_count": 8,
   "id": "07852c3a",
   "metadata": {},
   "outputs": [
    {
     "name": "stdout",
     "output_type": "stream",
     "text": [
      "17\n"
     ]
    },
    {
     "data": {
      "text/plain": [
       "array(['WSSU', 'WCU', 'UNCW', 'UNCSA', 'UNCP', 'UNCG', 'UNCC', 'UNCA',\n",
       "       'UNC-System-Office', 'UNC-CH', 'NCSU', 'NCCU', 'NCA&T', 'FSU',\n",
       "       'ECU', 'ECSU', 'ASU'], dtype=object)"
      ]
     },
     "execution_count": 8,
     "metadata": {},
     "output_type": "execute_result"
    }
   ],
   "source": [
    "print(len(df['INSTITUTION NAME'].unique()))\n",
    "df['INSTITUTION NAME'].unique()"
   ]
  },
  {
   "cell_type": "markdown",
   "id": "8122aa61",
   "metadata": {},
   "source": [
    "We can create dummy columns for this feature. Let's try this out. "
   ]
  },
  {
   "cell_type": "code",
   "execution_count": 9,
   "id": "43fd94b8",
   "metadata": {},
   "outputs": [
    {
     "name": "stdout",
     "output_type": "stream",
     "text": [
      "<class 'pandas.core.frame.DataFrame'>\n",
      "RangeIndex: 46685 entries, 0 to 46684\n",
      "Data columns (total 23 columns):\n",
      " #   Column                              Non-Null Count  Dtype  \n",
      "---  ------                              --------------  -----  \n",
      " 0   AGE                                 46685 non-null  int64  \n",
      " 1   INITIAL HIRE DATE                   46685 non-null  object \n",
      " 2   JOB CATEGORY                        46685 non-null  object \n",
      " 3   EMPLOYEE ANNUAL BASE SALARY         46685 non-null  float64\n",
      " 4   EMPLOYEE HOME DEPARTMENT            46685 non-null  object \n",
      " 5   PRIMARY WORKING TITLE               46685 non-null  object \n",
      " 6   INSTITUTION NAME_ASU                46685 non-null  uint8  \n",
      " 7   INSTITUTION NAME_ECSU               46685 non-null  uint8  \n",
      " 8   INSTITUTION NAME_ECU                46685 non-null  uint8  \n",
      " 9   INSTITUTION NAME_FSU                46685 non-null  uint8  \n",
      " 10  INSTITUTION NAME_NCA&T              46685 non-null  uint8  \n",
      " 11  INSTITUTION NAME_NCCU               46685 non-null  uint8  \n",
      " 12  INSTITUTION NAME_NCSU               46685 non-null  uint8  \n",
      " 13  INSTITUTION NAME_UNC-CH             46685 non-null  uint8  \n",
      " 14  INSTITUTION NAME_UNC-System-Office  46685 non-null  uint8  \n",
      " 15  INSTITUTION NAME_UNCA               46685 non-null  uint8  \n",
      " 16  INSTITUTION NAME_UNCC               46685 non-null  uint8  \n",
      " 17  INSTITUTION NAME_UNCG               46685 non-null  uint8  \n",
      " 18  INSTITUTION NAME_UNCP               46685 non-null  uint8  \n",
      " 19  INSTITUTION NAME_UNCSA              46685 non-null  uint8  \n",
      " 20  INSTITUTION NAME_UNCW               46685 non-null  uint8  \n",
      " 21  INSTITUTION NAME_WCU                46685 non-null  uint8  \n",
      " 22  INSTITUTION NAME_WSSU               46685 non-null  uint8  \n",
      "dtypes: float64(1), int64(1), object(4), uint8(17)\n",
      "memory usage: 2.9+ MB\n"
     ]
    }
   ],
   "source": [
    "df = pd.get_dummies(data=df,columns=['INSTITUTION NAME'])\n",
    "df.info()"
   ]
  },
  {
   "cell_type": "markdown",
   "id": "adced25a",
   "metadata": {},
   "source": [
    "Now let's take a look at how we can handle hire date."
   ]
  },
  {
   "cell_type": "code",
   "execution_count": 10,
   "id": "58182ce7",
   "metadata": {},
   "outputs": [
    {
     "data": {
      "text/plain": [
       "array(['SEP 01, 2017', 'AUG 16, 1982', 'JUL 01, 2004', 'AUG 02, 2021',\n",
       "       'JUL 10, 2018', 'JAN 17, 2022', 'JUL 15, 2009', 'AUG 11, 2016',\n",
       "       'JUN 07, 2004', 'MAY 10, 2021'], dtype=object)"
      ]
     },
     "execution_count": 10,
     "metadata": {},
     "output_type": "execute_result"
    }
   ],
   "source": [
    "df['INITIAL HIRE DATE'].unique()[0:10]"
   ]
  },
  {
   "cell_type": "markdown",
   "id": "2e75daf9",
   "metadata": {},
   "source": [
    "Looking at this sample of 10, we can see that we might be able to get the hire year by grabbing the last 4 characters of each hire date. Let's try doing that."
   ]
  },
  {
   "cell_type": "code",
   "execution_count": 11,
   "id": "c7085ac8",
   "metadata": {},
   "outputs": [],
   "source": [
    "df['Hire Year'] = df['INITIAL HIRE DATE'].apply(lambda x: x[-4:])"
   ]
  },
  {
   "cell_type": "code",
   "execution_count": 12,
   "id": "871f8462",
   "metadata": {},
   "outputs": [
    {
     "data": {
      "text/plain": [
       "array(['2017', '1982', '2004', '2021', '2018', '2022', '2009', '2016',\n",
       "       '2014', '2002', '2003', '2005', '2007', '2001', '2020', '2019',\n",
       "       '2000', '2011', '2013', '2006', '2012', '1992', '1995', '1991',\n",
       "       '1998', '2008', '2015', '1997', '1988', '2010', '1989', '1984',\n",
       "       '1986', '1999', '1994', '1987', '1993', '1970', '1990', '1996',\n",
       "       '1974', '1985', '1976', '1979', '1978', '1977', '1983', '1966',\n",
       "       '1981', '1971', '1980', '1961', '1973', '1975', '1972', '1967',\n",
       "       '1963', '1968', '1969'], dtype=object)"
      ]
     },
     "execution_count": 12,
     "metadata": {},
     "output_type": "execute_result"
    }
   ],
   "source": [
    "df['Hire Year'].unique()"
   ]
  },
  {
   "cell_type": "markdown",
   "id": "a053b958",
   "metadata": {},
   "source": [
    "It looks like this worked. We want this to be numeric so we need to convert the hire year from an object datatype to a numeric datatype. Let's do that really quick."
   ]
  },
  {
   "cell_type": "code",
   "execution_count": 13,
   "id": "2cbb16bc",
   "metadata": {},
   "outputs": [],
   "source": [
    "df['Hire Year'] = pd.to_numeric(df['Hire Year'])"
   ]
  },
  {
   "cell_type": "code",
   "execution_count": 14,
   "id": "907de164",
   "metadata": {},
   "outputs": [
    {
     "name": "stdout",
     "output_type": "stream",
     "text": [
      "<class 'pandas.core.frame.DataFrame'>\n",
      "RangeIndex: 46685 entries, 0 to 46684\n",
      "Data columns (total 24 columns):\n",
      " #   Column                              Non-Null Count  Dtype  \n",
      "---  ------                              --------------  -----  \n",
      " 0   AGE                                 46685 non-null  int64  \n",
      " 1   INITIAL HIRE DATE                   46685 non-null  object \n",
      " 2   JOB CATEGORY                        46685 non-null  object \n",
      " 3   EMPLOYEE ANNUAL BASE SALARY         46685 non-null  float64\n",
      " 4   EMPLOYEE HOME DEPARTMENT            46685 non-null  object \n",
      " 5   PRIMARY WORKING TITLE               46685 non-null  object \n",
      " 6   INSTITUTION NAME_ASU                46685 non-null  uint8  \n",
      " 7   INSTITUTION NAME_ECSU               46685 non-null  uint8  \n",
      " 8   INSTITUTION NAME_ECU                46685 non-null  uint8  \n",
      " 9   INSTITUTION NAME_FSU                46685 non-null  uint8  \n",
      " 10  INSTITUTION NAME_NCA&T              46685 non-null  uint8  \n",
      " 11  INSTITUTION NAME_NCCU               46685 non-null  uint8  \n",
      " 12  INSTITUTION NAME_NCSU               46685 non-null  uint8  \n",
      " 13  INSTITUTION NAME_UNC-CH             46685 non-null  uint8  \n",
      " 14  INSTITUTION NAME_UNC-System-Office  46685 non-null  uint8  \n",
      " 15  INSTITUTION NAME_UNCA               46685 non-null  uint8  \n",
      " 16  INSTITUTION NAME_UNCC               46685 non-null  uint8  \n",
      " 17  INSTITUTION NAME_UNCG               46685 non-null  uint8  \n",
      " 18  INSTITUTION NAME_UNCP               46685 non-null  uint8  \n",
      " 19  INSTITUTION NAME_UNCSA              46685 non-null  uint8  \n",
      " 20  INSTITUTION NAME_UNCW               46685 non-null  uint8  \n",
      " 21  INSTITUTION NAME_WCU                46685 non-null  uint8  \n",
      " 22  INSTITUTION NAME_WSSU               46685 non-null  uint8  \n",
      " 23  Hire Year                           46685 non-null  int64  \n",
      "dtypes: float64(1), int64(2), object(4), uint8(17)\n",
      "memory usage: 3.3+ MB\n"
     ]
    }
   ],
   "source": [
    "df.info()"
   ]
  },
  {
   "cell_type": "markdown",
   "id": "07d440cc",
   "metadata": {},
   "source": [
    "We see that this worked. Let's now move on to the last three categories. Let's check the lengths of unique options for these 3 columns."
   ]
  },
  {
   "cell_type": "code",
   "execution_count": 15,
   "id": "28e68a61",
   "metadata": {},
   "outputs": [
    {
     "data": {
      "text/plain": [
       "3015"
      ]
     },
     "execution_count": 15,
     "metadata": {},
     "output_type": "execute_result"
    }
   ],
   "source": [
    "len(df['EMPLOYEE HOME DEPARTMENT'].unique())"
   ]
  },
  {
   "cell_type": "code",
   "execution_count": 16,
   "id": "f2a0d00d",
   "metadata": {},
   "outputs": [
    {
     "data": {
      "text/plain": [
       "5984"
      ]
     },
     "execution_count": 16,
     "metadata": {},
     "output_type": "execute_result"
    }
   ],
   "source": [
    "len(df['PRIMARY WORKING TITLE'].unique())"
   ]
  },
  {
   "cell_type": "code",
   "execution_count": 17,
   "id": "f3c3e217",
   "metadata": {},
   "outputs": [
    {
     "data": {
      "text/plain": [
       "909"
      ]
     },
     "execution_count": 17,
     "metadata": {},
     "output_type": "execute_result"
    }
   ],
   "source": [
    "len(df['JOB CATEGORY'].unique())"
   ]
  },
  {
   "cell_type": "markdown",
   "id": "1adfcc32",
   "metadata": {},
   "source": [
    "Looking at the lengths of the unqiue array for each column, we see that there are a lot of different values for each of these columns. We need to put these into bins that make the data easier to work with. To accomplish this we can create a dictionary of each substring in our column. We'll do this the hard way for now, but there is likely an easier way to do this. Also because primary working title and job category are similar descriptions and job category has less unique columns, we'll drop primary working title."
   ]
  },
  {
   "cell_type": "markdown",
   "id": "e4e6b9a2",
   "metadata": {},
   "source": [
    "### Handling Department Names"
   ]
  },
  {
   "cell_type": "code",
   "execution_count": 18,
   "id": "dbdfa7cf",
   "metadata": {},
   "outputs": [],
   "source": [
    "department_substrings = set()\n",
    "for department in df['EMPLOYEE HOME DEPARTMENT'].unique():\n",
    "    if department not in department_substrings:\n",
    "        if ' ' in department:\n",
    "            department_split = department.split(' ')\n",
    "            for substring in department_split:\n",
    "                if (\"(\" not in substring) & (\")\" not in substring):\n",
    "                    if substring.lower() not in department_substrings:\n",
    "                        department_substrings.add(substring.lower())\n",
    "        else:\n",
    "            if department.lower() not in department_substrings:\n",
    "                department_substrings.add(department.lower())"
   ]
  },
  {
   "cell_type": "code",
   "execution_count": 19,
   "id": "9fb5c0d0",
   "metadata": {},
   "outputs": [
    {
     "data": {
      "text/plain": [
       "2462"
      ]
     },
     "execution_count": 19,
     "metadata": {},
     "output_type": "execute_result"
    }
   ],
   "source": [
    "len(department_substrings)"
   ]
  },
  {
   "cell_type": "markdown",
   "id": "06917e11",
   "metadata": {},
   "source": [
    "We now have all of our substrings for deparments in a set. Now we need to loop through the set and find the most occuring values in our dictionary."
   ]
  },
  {
   "cell_type": "code",
   "execution_count": 20,
   "id": "5eb89a07",
   "metadata": {},
   "outputs": [],
   "source": [
    "department_counts = [0] * len(department_substrings)"
   ]
  },
  {
   "cell_type": "code",
   "execution_count": 21,
   "id": "3923ec0f",
   "metadata": {},
   "outputs": [],
   "source": [
    "department_df = pd.DataFrame(list(zip(department_substrings,department_counts)),columns=['Substring','Counts'])"
   ]
  },
  {
   "cell_type": "code",
   "execution_count": 22,
   "id": "eae87369",
   "metadata": {},
   "outputs": [],
   "source": [
    "for substring in department_df['Substring']:\n",
    "    department_df.loc[department_df['Substring'] == substring,\n",
    "                      'Counts'] = len(df.loc[df['EMPLOYEE HOME DEPARTMENT'].str.lower().str.contains(substring)])"
   ]
  },
  {
   "cell_type": "code",
   "execution_count": 23,
   "id": "7c04df60",
   "metadata": {},
   "outputs": [
    {
     "data": {
      "text/html": [
       "<div>\n",
       "<style scoped>\n",
       "    .dataframe tbody tr th:only-of-type {\n",
       "        vertical-align: middle;\n",
       "    }\n",
       "\n",
       "    .dataframe tbody tr th {\n",
       "        vertical-align: top;\n",
       "    }\n",
       "\n",
       "    .dataframe thead th {\n",
       "        text-align: right;\n",
       "    }\n",
       "</style>\n",
       "<table border=\"1\" class=\"dataframe\">\n",
       "  <thead>\n",
       "    <tr style=\"text-align: right;\">\n",
       "      <th></th>\n",
       "      <th>Substring</th>\n",
       "      <th>Counts</th>\n",
       "    </tr>\n",
       "  </thead>\n",
       "  <tbody>\n",
       "    <tr>\n",
       "      <th>0</th>\n",
       "      <td></td>\n",
       "      <td>46685</td>\n",
       "    </tr>\n",
       "    <tr>\n",
       "      <th>1490</th>\n",
       "      <td>e</td>\n",
       "      <td>38922</td>\n",
       "    </tr>\n",
       "    <tr>\n",
       "      <th>814</th>\n",
       "      <td>s</td>\n",
       "      <td>37936</td>\n",
       "    </tr>\n",
       "    <tr>\n",
       "      <th>1643</th>\n",
       "      <td>c</td>\n",
       "      <td>36211</td>\n",
       "    </tr>\n",
       "    <tr>\n",
       "      <th>127</th>\n",
       "      <td>n</td>\n",
       "      <td>36031</td>\n",
       "    </tr>\n",
       "    <tr>\n",
       "      <th>...</th>\n",
       "      <td>...</td>\n",
       "      <td>...</td>\n",
       "    </tr>\n",
       "    <tr>\n",
       "      <th>1390</th>\n",
       "      <td>affairs-or</td>\n",
       "      <td>1</td>\n",
       "    </tr>\n",
       "    <tr>\n",
       "      <th>756</th>\n",
       "      <td>transactions</td>\n",
       "      <td>1</td>\n",
       "    </tr>\n",
       "    <tr>\n",
       "      <th>1696</th>\n",
       "      <td>opport</td>\n",
       "      <td>1</td>\n",
       "    </tr>\n",
       "    <tr>\n",
       "      <th>1383</th>\n",
       "      <td>sponsorship</td>\n",
       "      <td>1</td>\n",
       "    </tr>\n",
       "    <tr>\n",
       "      <th>944</th>\n",
       "      <td>svcs-eve</td>\n",
       "      <td>1</td>\n",
       "    </tr>\n",
       "  </tbody>\n",
       "</table>\n",
       "<p>2462 rows × 2 columns</p>\n",
       "</div>"
      ],
      "text/plain": [
       "         Substring  Counts\n",
       "0                    46685\n",
       "1490             e   38922\n",
       "814              s   37936\n",
       "1643             c   36211\n",
       "127              n   36031\n",
       "...            ...     ...\n",
       "1390    affairs-or       1\n",
       "756   transactions       1\n",
       "1696        opport       1\n",
       "1383   sponsorship       1\n",
       "944       svcs-eve       1\n",
       "\n",
       "[2462 rows x 2 columns]"
      ]
     },
     "execution_count": 23,
     "metadata": {},
     "output_type": "execute_result"
    }
   ],
   "source": [
    "department_df = department_df.sort_values(by='Counts',ascending=False)\n",
    "department_df"
   ]
  },
  {
   "cell_type": "markdown",
   "id": "e26c8c2c",
   "metadata": {},
   "source": [
    "Looking at our substrings we see that we have a lot of substrings that are just 1 letter long. Let's subset our dataframe with substrings that have length longer than 2."
   ]
  },
  {
   "cell_type": "code",
   "execution_count": 24,
   "id": "9a9f568a",
   "metadata": {},
   "outputs": [],
   "source": [
    "department_df[(department_df['Substring'].str.len() > 3) & (department_df['Counts'] > 5)].to_csv('data_dictionary.csv')"
   ]
  },
  {
   "cell_type": "markdown",
   "id": "e290cdbf",
   "metadata": {},
   "source": [
    "Now we need to manually go through and decide what we want to make our substrings for department. There will be 2 lists, one that contains the substring and another that contains the re-assigned department."
   ]
  },
  {
   "cell_type": "code",
   "execution_count": 25,
   "id": "fe83194c",
   "metadata": {},
   "outputs": [],
   "source": [
    "substring_list = ['serv','health','comp','search','medicine','comm','house','libr','info','admin','pyschology',\n",
    "                 'management','facil','engi','biol','soci','chem','math','devel','nurs','police','dean','engl',\n",
    "                 'resource','busin','athle','mgmt','psychi','finance','arts','physics','environment','history','econ','music',\n",
    "                 'safety','hospital','stat','admiss','counsel','chan','sociology','recreation','accounting']\n",
    "department_names = ['Student Services','Health Center','Computer Science','Research','Medicine','Communications',\n",
    "                   'Housekeeping','library','Information Technology','Administration','Pyschology',\"Management\",\n",
    "                   'Facilities','Engineering',\"Biology\",'Social Science','Chemistry','Math','Development','Nursing',\n",
    "                   'Police',\"Dean's Office\",'English','Resource Officer','Business','Athletics','Management','Psychiatry',\n",
    "                   'Finance','Liberal Arts','Physics','Environmental Sciences','History','Economics','Music','Public Safety',\n",
    "                   'Hospital','Statistics','Admissions','Counseling',\"Chancellor's Office\",'Sociology','Recreation Center',\n",
    "                   'Accounting']"
   ]
  },
  {
   "cell_type": "markdown",
   "id": "6a05043e",
   "metadata": {},
   "source": [
    "Now we loop through the lists and assign the values based off of substring. An important thing to note is that we'll likely lose some information when we do this. We also shouldn't expect these 16 departments to cover everything. We also need to worry about some departments having multiple names. EG what would happen if we had computer engineering. We would assign thatto computer science since it has comp in the name and comp is first in the list."
   ]
  },
  {
   "cell_type": "code",
   "execution_count": 26,
   "id": "602d127a",
   "metadata": {},
   "outputs": [],
   "source": [
    "df['Department'] = [0] * len(df)\n",
    "for index in list(range(len(substring_list))):\n",
    "    substring = substring_list[index]\n",
    "    department = department_names[index]\n",
    "    df.loc[df['EMPLOYEE HOME DEPARTMENT'].str.lower().str.contains(substring),'Department'] = department "
   ]
  },
  {
   "cell_type": "code",
   "execution_count": 27,
   "id": "7ff2582a",
   "metadata": {},
   "outputs": [
    {
     "data": {
      "text/plain": [
       "0                         21673\n",
       "Health Center              1383\n",
       "Student Services           1148\n",
       "Research                   1055\n",
       "Communications             1049\n",
       "Biology                    1006\n",
       "Management                 1005\n",
       "Computer Science            979\n",
       "library                     975\n",
       "Medicine                    944\n",
       "Housekeeping                940\n",
       "Information Technology      880\n",
       "Facilities                  854\n",
       "Athletics                   690\n",
       "Engineering                 657\n",
       "Nursing                     595\n",
       "English                     577\n",
       "Development                 561\n",
       "Resource Officer            532\n",
       "Dean's Office               511\n",
       "Chemistry                   508\n",
       "Administration              504\n",
       "Statistics                  497\n",
       "Business                    463\n",
       "Psychiatry                  449\n",
       "Social Science              427\n",
       "Physics                     414\n",
       "Liberal Arts                404\n",
       "Math                        390\n",
       "History                     388\n",
       "Counseling                  385\n",
       "Police                      384\n",
       "Economics                   380\n",
       "Public Safety               369\n",
       "Music                       362\n",
       "Environmental Sciences      351\n",
       "Hospital                    348\n",
       "Finance                     334\n",
       "Admissions                  325\n",
       "Chancellor's Office         262\n",
       "Sociology                   256\n",
       "Recreation Center           254\n",
       "Accounting                  217\n",
       "Name: Department, dtype: int64"
      ]
     },
     "execution_count": 27,
     "metadata": {},
     "output_type": "execute_result"
    }
   ],
   "source": [
    "df['Department'].value_counts()"
   ]
  },
  {
   "cell_type": "code",
   "execution_count": 28,
   "id": "e7355f3b",
   "metadata": {},
   "outputs": [],
   "source": [
    "df.loc[df['Department'] == 0,'Department'] = 'Unknown'"
   ]
  },
  {
   "cell_type": "markdown",
   "id": "be93be68",
   "metadata": {},
   "source": [
    "We've got all of our departments down except for 21673. We'll call these departments unknown. Let's continue doing this but with job titles."
   ]
  },
  {
   "cell_type": "markdown",
   "id": "0098da80",
   "metadata": {},
   "source": [
    "### Handling Job Title"
   ]
  },
  {
   "cell_type": "code",
   "execution_count": 29,
   "id": "bf291669",
   "metadata": {},
   "outputs": [],
   "source": [
    "job_substrings = set()\n",
    "for department in df['JOB CATEGORY'].unique():\n",
    "    if department not in department_substrings:\n",
    "        if ' ' in department:\n",
    "            department_split = department.split(' ')\n",
    "            for substring in department_split:\n",
    "                if (\"(\" not in substring) & (\")\" not in substring):\n",
    "                    if substring.lower() not in job_substrings:\n",
    "                        job_substrings.add(substring.lower())\n",
    "        else:\n",
    "            if department.lower() not in job_substrings:\n",
    "                job_substrings.add(department.lower())"
   ]
  },
  {
   "cell_type": "code",
   "execution_count": 30,
   "id": "b686e481",
   "metadata": {},
   "outputs": [
    {
     "data": {
      "text/plain": [
       "681"
      ]
     },
     "execution_count": 30,
     "metadata": {},
     "output_type": "execute_result"
    }
   ],
   "source": [
    "len(job_substrings)"
   ]
  },
  {
   "cell_type": "code",
   "execution_count": 31,
   "id": "b3217720",
   "metadata": {},
   "outputs": [],
   "source": [
    "job_counts = [0] * len(job_substrings)"
   ]
  },
  {
   "cell_type": "code",
   "execution_count": 32,
   "id": "231dc521",
   "metadata": {},
   "outputs": [],
   "source": [
    "job_df = pd.DataFrame(list(zip(job_substrings,job_counts)),columns=['Substring','Counts'])\n",
    "job_df = job_df[job_df['Substring'].str.len() > 2]"
   ]
  },
  {
   "cell_type": "code",
   "execution_count": 33,
   "id": "73cc0b01",
   "metadata": {},
   "outputs": [],
   "source": [
    "for substring in job_df['Substring']:\n",
    "    job_df.loc[job_df['Substring'] == substring,\n",
    "                      'Counts'] = len(df.loc[df['JOB CATEGORY'].str.lower().str.contains(substring)])"
   ]
  },
  {
   "cell_type": "markdown",
   "id": "122087d6",
   "metadata": {},
   "source": [
    "Looking at we see we have about half of our values in the first 2 columns. Professional is a weird name though. Let's look into what professional includes."
   ]
  },
  {
   "cell_type": "code",
   "execution_count": 34,
   "id": "356863a5",
   "metadata": {},
   "outputs": [
    {
     "data": {
      "text/html": [
       "<div>\n",
       "<style scoped>\n",
       "    .dataframe tbody tr th:only-of-type {\n",
       "        vertical-align: middle;\n",
       "    }\n",
       "\n",
       "    .dataframe tbody tr th {\n",
       "        vertical-align: top;\n",
       "    }\n",
       "\n",
       "    .dataframe thead th {\n",
       "        text-align: right;\n",
       "    }\n",
       "</style>\n",
       "<table border=\"1\" class=\"dataframe\">\n",
       "  <thead>\n",
       "    <tr style=\"text-align: right;\">\n",
       "      <th></th>\n",
       "      <th>AGE</th>\n",
       "      <th>INITIAL HIRE DATE</th>\n",
       "      <th>JOB CATEGORY</th>\n",
       "      <th>EMPLOYEE ANNUAL BASE SALARY</th>\n",
       "      <th>EMPLOYEE HOME DEPARTMENT</th>\n",
       "      <th>PRIMARY WORKING TITLE</th>\n",
       "      <th>INSTITUTION NAME_ASU</th>\n",
       "      <th>INSTITUTION NAME_ECSU</th>\n",
       "      <th>INSTITUTION NAME_ECU</th>\n",
       "      <th>INSTITUTION NAME_FSU</th>\n",
       "      <th>...</th>\n",
       "      <th>INSTITUTION NAME_UNCA</th>\n",
       "      <th>INSTITUTION NAME_UNCC</th>\n",
       "      <th>INSTITUTION NAME_UNCG</th>\n",
       "      <th>INSTITUTION NAME_UNCP</th>\n",
       "      <th>INSTITUTION NAME_UNCSA</th>\n",
       "      <th>INSTITUTION NAME_UNCW</th>\n",
       "      <th>INSTITUTION NAME_WCU</th>\n",
       "      <th>INSTITUTION NAME_WSSU</th>\n",
       "      <th>Hire Year</th>\n",
       "      <th>Department</th>\n",
       "    </tr>\n",
       "  </thead>\n",
       "  <tbody>\n",
       "    <tr>\n",
       "      <th>0</th>\n",
       "      <td>49</td>\n",
       "      <td>SEP 01, 2017</td>\n",
       "      <td>IT (Information Technology) Professional</td>\n",
       "      <td>51461.0</td>\n",
       "      <td>Administrative Data Center</td>\n",
       "      <td>Technology Support Analyst</td>\n",
       "      <td>0</td>\n",
       "      <td>0</td>\n",
       "      <td>0</td>\n",
       "      <td>0</td>\n",
       "      <td>...</td>\n",
       "      <td>0</td>\n",
       "      <td>0</td>\n",
       "      <td>0</td>\n",
       "      <td>0</td>\n",
       "      <td>0</td>\n",
       "      <td>0</td>\n",
       "      <td>0</td>\n",
       "      <td>1</td>\n",
       "      <td>2017</td>\n",
       "      <td>Administration</td>\n",
       "    </tr>\n",
       "    <tr>\n",
       "      <th>5</th>\n",
       "      <td>31</td>\n",
       "      <td>JAN 17, 2022</td>\n",
       "      <td>Accounting Professional</td>\n",
       "      <td>59183.0</td>\n",
       "      <td>Accounting</td>\n",
       "      <td>Accountant</td>\n",
       "      <td>0</td>\n",
       "      <td>0</td>\n",
       "      <td>0</td>\n",
       "      <td>0</td>\n",
       "      <td>...</td>\n",
       "      <td>0</td>\n",
       "      <td>0</td>\n",
       "      <td>0</td>\n",
       "      <td>0</td>\n",
       "      <td>0</td>\n",
       "      <td>0</td>\n",
       "      <td>0</td>\n",
       "      <td>1</td>\n",
       "      <td>2022</td>\n",
       "      <td>Accounting</td>\n",
       "    </tr>\n",
       "    <tr>\n",
       "      <th>9</th>\n",
       "      <td>43</td>\n",
       "      <td>MAY 10, 2021</td>\n",
       "      <td>Student Registration / Records Professional, A...</td>\n",
       "      <td>63550.0</td>\n",
       "      <td>Registrar</td>\n",
       "      <td>Associate Registrar</td>\n",
       "      <td>0</td>\n",
       "      <td>0</td>\n",
       "      <td>0</td>\n",
       "      <td>0</td>\n",
       "      <td>...</td>\n",
       "      <td>0</td>\n",
       "      <td>0</td>\n",
       "      <td>0</td>\n",
       "      <td>0</td>\n",
       "      <td>0</td>\n",
       "      <td>0</td>\n",
       "      <td>0</td>\n",
       "      <td>1</td>\n",
       "      <td>2021</td>\n",
       "      <td>Unknown</td>\n",
       "    </tr>\n",
       "    <tr>\n",
       "      <th>13</th>\n",
       "      <td>74</td>\n",
       "      <td>AUG 01, 2017</td>\n",
       "      <td>Research Professional, Life Sciences</td>\n",
       "      <td>56939.0</td>\n",
       "      <td>College of Arts Science Business Ed</td>\n",
       "      <td>Research Associate</td>\n",
       "      <td>0</td>\n",
       "      <td>0</td>\n",
       "      <td>0</td>\n",
       "      <td>0</td>\n",
       "      <td>...</td>\n",
       "      <td>0</td>\n",
       "      <td>0</td>\n",
       "      <td>0</td>\n",
       "      <td>0</td>\n",
       "      <td>0</td>\n",
       "      <td>0</td>\n",
       "      <td>0</td>\n",
       "      <td>1</td>\n",
       "      <td>2017</td>\n",
       "      <td>Liberal Arts</td>\n",
       "    </tr>\n",
       "    <tr>\n",
       "      <th>17</th>\n",
       "      <td>63</td>\n",
       "      <td>MAR 01, 2001</td>\n",
       "      <td>Community Development Professional</td>\n",
       "      <td>111910.0</td>\n",
       "      <td>Center for Community Safety</td>\n",
       "      <td>Executive Director of Center For Community Safety</td>\n",
       "      <td>0</td>\n",
       "      <td>0</td>\n",
       "      <td>0</td>\n",
       "      <td>0</td>\n",
       "      <td>...</td>\n",
       "      <td>0</td>\n",
       "      <td>0</td>\n",
       "      <td>0</td>\n",
       "      <td>0</td>\n",
       "      <td>0</td>\n",
       "      <td>0</td>\n",
       "      <td>0</td>\n",
       "      <td>1</td>\n",
       "      <td>2001</td>\n",
       "      <td>Public Safety</td>\n",
       "    </tr>\n",
       "    <tr>\n",
       "      <th>...</th>\n",
       "      <td>...</td>\n",
       "      <td>...</td>\n",
       "      <td>...</td>\n",
       "      <td>...</td>\n",
       "      <td>...</td>\n",
       "      <td>...</td>\n",
       "      <td>...</td>\n",
       "      <td>...</td>\n",
       "      <td>...</td>\n",
       "      <td>...</td>\n",
       "      <td>...</td>\n",
       "      <td>...</td>\n",
       "      <td>...</td>\n",
       "      <td>...</td>\n",
       "      <td>...</td>\n",
       "      <td>...</td>\n",
       "      <td>...</td>\n",
       "      <td>...</td>\n",
       "      <td>...</td>\n",
       "      <td>...</td>\n",
       "      <td>...</td>\n",
       "    </tr>\n",
       "    <tr>\n",
       "      <th>46653</th>\n",
       "      <td>40</td>\n",
       "      <td>JUL 15, 2019</td>\n",
       "      <td>Academic Services Professional, Support Center...</td>\n",
       "      <td>62835.0</td>\n",
       "      <td>College of Arts and Sciences</td>\n",
       "      <td>Director of AppELS Institute</td>\n",
       "      <td>1</td>\n",
       "      <td>0</td>\n",
       "      <td>0</td>\n",
       "      <td>0</td>\n",
       "      <td>...</td>\n",
       "      <td>0</td>\n",
       "      <td>0</td>\n",
       "      <td>0</td>\n",
       "      <td>0</td>\n",
       "      <td>0</td>\n",
       "      <td>0</td>\n",
       "      <td>0</td>\n",
       "      <td>0</td>\n",
       "      <td>2019</td>\n",
       "      <td>Liberal Arts</td>\n",
       "    </tr>\n",
       "    <tr>\n",
       "      <th>46656</th>\n",
       "      <td>33</td>\n",
       "      <td>AUG 03, 2016</td>\n",
       "      <td>Athletics Training Professional, Trainer</td>\n",
       "      <td>45000.0</td>\n",
       "      <td>Special Projects</td>\n",
       "      <td>Asst Football Athletic Trainer</td>\n",
       "      <td>1</td>\n",
       "      <td>0</td>\n",
       "      <td>0</td>\n",
       "      <td>0</td>\n",
       "      <td>...</td>\n",
       "      <td>0</td>\n",
       "      <td>0</td>\n",
       "      <td>0</td>\n",
       "      <td>0</td>\n",
       "      <td>0</td>\n",
       "      <td>0</td>\n",
       "      <td>0</td>\n",
       "      <td>0</td>\n",
       "      <td>2016</td>\n",
       "      <td>Unknown</td>\n",
       "    </tr>\n",
       "    <tr>\n",
       "      <th>46675</th>\n",
       "      <td>28</td>\n",
       "      <td>JAN 16, 2016</td>\n",
       "      <td>Academic Advising Professional, Advisor/Coordi...</td>\n",
       "      <td>47000.0</td>\n",
       "      <td>Student Learning Center</td>\n",
       "      <td>Acad. Advisor For Athletes</td>\n",
       "      <td>1</td>\n",
       "      <td>0</td>\n",
       "      <td>0</td>\n",
       "      <td>0</td>\n",
       "      <td>...</td>\n",
       "      <td>0</td>\n",
       "      <td>0</td>\n",
       "      <td>0</td>\n",
       "      <td>0</td>\n",
       "      <td>0</td>\n",
       "      <td>0</td>\n",
       "      <td>0</td>\n",
       "      <td>0</td>\n",
       "      <td>2016</td>\n",
       "      <td>Unknown</td>\n",
       "    </tr>\n",
       "    <tr>\n",
       "      <th>46676</th>\n",
       "      <td>41</td>\n",
       "      <td>AUG 14, 2003</td>\n",
       "      <td>Academic Services Professional</td>\n",
       "      <td>55380.0</td>\n",
       "      <td>University Writing Center</td>\n",
       "      <td>Writing Ctr &amp; WAC Consultant</td>\n",
       "      <td>1</td>\n",
       "      <td>0</td>\n",
       "      <td>0</td>\n",
       "      <td>0</td>\n",
       "      <td>...</td>\n",
       "      <td>0</td>\n",
       "      <td>0</td>\n",
       "      <td>0</td>\n",
       "      <td>0</td>\n",
       "      <td>0</td>\n",
       "      <td>0</td>\n",
       "      <td>0</td>\n",
       "      <td>0</td>\n",
       "      <td>2003</td>\n",
       "      <td>Unknown</td>\n",
       "    </tr>\n",
       "    <tr>\n",
       "      <th>46679</th>\n",
       "      <td>34</td>\n",
       "      <td>AUG 24, 2006</td>\n",
       "      <td>Nursing Professional</td>\n",
       "      <td>52012.0</td>\n",
       "      <td>Health Services</td>\n",
       "      <td>Professional Nurse</td>\n",
       "      <td>1</td>\n",
       "      <td>0</td>\n",
       "      <td>0</td>\n",
       "      <td>0</td>\n",
       "      <td>...</td>\n",
       "      <td>0</td>\n",
       "      <td>0</td>\n",
       "      <td>0</td>\n",
       "      <td>0</td>\n",
       "      <td>0</td>\n",
       "      <td>0</td>\n",
       "      <td>0</td>\n",
       "      <td>0</td>\n",
       "      <td>2006</td>\n",
       "      <td>Health Center</td>\n",
       "    </tr>\n",
       "  </tbody>\n",
       "</table>\n",
       "<p>15778 rows × 25 columns</p>\n",
       "</div>"
      ],
      "text/plain": [
       "       AGE INITIAL HIRE DATE  \\\n",
       "0       49      SEP 01, 2017   \n",
       "5       31      JAN 17, 2022   \n",
       "9       43      MAY 10, 2021   \n",
       "13      74      AUG 01, 2017   \n",
       "17      63      MAR 01, 2001   \n",
       "...    ...               ...   \n",
       "46653   40      JUL 15, 2019   \n",
       "46656   33      AUG 03, 2016   \n",
       "46675   28      JAN 16, 2016   \n",
       "46676   41      AUG 14, 2003   \n",
       "46679   34      AUG 24, 2006   \n",
       "\n",
       "                                            JOB CATEGORY  \\\n",
       "0               IT (Information Technology) Professional   \n",
       "5                                Accounting Professional   \n",
       "9      Student Registration / Records Professional, A...   \n",
       "13                  Research Professional, Life Sciences   \n",
       "17                    Community Development Professional   \n",
       "...                                                  ...   \n",
       "46653  Academic Services Professional, Support Center...   \n",
       "46656           Athletics Training Professional, Trainer   \n",
       "46675  Academic Advising Professional, Advisor/Coordi...   \n",
       "46676                     Academic Services Professional   \n",
       "46679                               Nursing Professional   \n",
       "\n",
       "       EMPLOYEE ANNUAL BASE SALARY             EMPLOYEE HOME DEPARTMENT  \\\n",
       "0                          51461.0           Administrative Data Center   \n",
       "5                          59183.0                           Accounting   \n",
       "9                          63550.0                            Registrar   \n",
       "13                         56939.0  College of Arts Science Business Ed   \n",
       "17                        111910.0          Center for Community Safety   \n",
       "...                            ...                                  ...   \n",
       "46653                      62835.0         College of Arts and Sciences   \n",
       "46656                      45000.0                     Special Projects   \n",
       "46675                      47000.0              Student Learning Center   \n",
       "46676                      55380.0            University Writing Center   \n",
       "46679                      52012.0                      Health Services   \n",
       "\n",
       "                                   PRIMARY WORKING TITLE  \\\n",
       "0                             Technology Support Analyst   \n",
       "5                                             Accountant   \n",
       "9                                    Associate Registrar   \n",
       "13                                    Research Associate   \n",
       "17     Executive Director of Center For Community Safety   \n",
       "...                                                  ...   \n",
       "46653                       Director of AppELS Institute   \n",
       "46656                     Asst Football Athletic Trainer   \n",
       "46675                         Acad. Advisor For Athletes   \n",
       "46676                       Writing Ctr & WAC Consultant   \n",
       "46679                                 Professional Nurse   \n",
       "\n",
       "       INSTITUTION NAME_ASU  INSTITUTION NAME_ECSU  INSTITUTION NAME_ECU  \\\n",
       "0                         0                      0                     0   \n",
       "5                         0                      0                     0   \n",
       "9                         0                      0                     0   \n",
       "13                        0                      0                     0   \n",
       "17                        0                      0                     0   \n",
       "...                     ...                    ...                   ...   \n",
       "46653                     1                      0                     0   \n",
       "46656                     1                      0                     0   \n",
       "46675                     1                      0                     0   \n",
       "46676                     1                      0                     0   \n",
       "46679                     1                      0                     0   \n",
       "\n",
       "       INSTITUTION NAME_FSU  ...  INSTITUTION NAME_UNCA  \\\n",
       "0                         0  ...                      0   \n",
       "5                         0  ...                      0   \n",
       "9                         0  ...                      0   \n",
       "13                        0  ...                      0   \n",
       "17                        0  ...                      0   \n",
       "...                     ...  ...                    ...   \n",
       "46653                     0  ...                      0   \n",
       "46656                     0  ...                      0   \n",
       "46675                     0  ...                      0   \n",
       "46676                     0  ...                      0   \n",
       "46679                     0  ...                      0   \n",
       "\n",
       "       INSTITUTION NAME_UNCC  INSTITUTION NAME_UNCG  INSTITUTION NAME_UNCP  \\\n",
       "0                          0                      0                      0   \n",
       "5                          0                      0                      0   \n",
       "9                          0                      0                      0   \n",
       "13                         0                      0                      0   \n",
       "17                         0                      0                      0   \n",
       "...                      ...                    ...                    ...   \n",
       "46653                      0                      0                      0   \n",
       "46656                      0                      0                      0   \n",
       "46675                      0                      0                      0   \n",
       "46676                      0                      0                      0   \n",
       "46679                      0                      0                      0   \n",
       "\n",
       "       INSTITUTION NAME_UNCSA  INSTITUTION NAME_UNCW  INSTITUTION NAME_WCU  \\\n",
       "0                           0                      0                     0   \n",
       "5                           0                      0                     0   \n",
       "9                           0                      0                     0   \n",
       "13                          0                      0                     0   \n",
       "17                          0                      0                     0   \n",
       "...                       ...                    ...                   ...   \n",
       "46653                       0                      0                     0   \n",
       "46656                       0                      0                     0   \n",
       "46675                       0                      0                     0   \n",
       "46676                       0                      0                     0   \n",
       "46679                       0                      0                     0   \n",
       "\n",
       "       INSTITUTION NAME_WSSU  Hire Year      Department  \n",
       "0                          1       2017  Administration  \n",
       "5                          1       2022      Accounting  \n",
       "9                          1       2021         Unknown  \n",
       "13                         1       2017    Liberal Arts  \n",
       "17                         1       2001   Public Safety  \n",
       "...                      ...        ...             ...  \n",
       "46653                      0       2019    Liberal Arts  \n",
       "46656                      0       2016         Unknown  \n",
       "46675                      0       2016         Unknown  \n",
       "46676                      0       2003         Unknown  \n",
       "46679                      0       2006   Health Center  \n",
       "\n",
       "[15778 rows x 25 columns]"
      ]
     },
     "execution_count": 34,
     "metadata": {},
     "output_type": "execute_result"
    }
   ],
   "source": [
    "df[df['JOB CATEGORY'].str.lower().str.contains('professional')]"
   ]
  },
  {
   "cell_type": "code",
   "execution_count": 35,
   "id": "a01ac832",
   "metadata": {},
   "outputs": [
    {
     "data": {
      "text/html": [
       "<div>\n",
       "<style scoped>\n",
       "    .dataframe tbody tr th:only-of-type {\n",
       "        vertical-align: middle;\n",
       "    }\n",
       "\n",
       "    .dataframe tbody tr th {\n",
       "        vertical-align: top;\n",
       "    }\n",
       "\n",
       "    .dataframe thead th {\n",
       "        text-align: right;\n",
       "    }\n",
       "</style>\n",
       "<table border=\"1\" class=\"dataframe\">\n",
       "  <thead>\n",
       "    <tr style=\"text-align: right;\">\n",
       "      <th></th>\n",
       "      <th>Substring</th>\n",
       "      <th>Counts</th>\n",
       "    </tr>\n",
       "  </thead>\n",
       "  <tbody>\n",
       "    <tr>\n",
       "      <th>12</th>\n",
       "      <td>i.t.</td>\n",
       "      <td>16560</td>\n",
       "    </tr>\n",
       "    <tr>\n",
       "      <th>298</th>\n",
       "      <td>professional</td>\n",
       "      <td>15778</td>\n",
       "    </tr>\n",
       "    <tr>\n",
       "      <th>423</th>\n",
       "      <td>professor</td>\n",
       "      <td>11859</td>\n",
       "    </tr>\n",
       "    <tr>\n",
       "      <th>80</th>\n",
       "      <td>assistant</td>\n",
       "      <td>8633</td>\n",
       "    </tr>\n",
       "    <tr>\n",
       "      <th>245</th>\n",
       "      <td>professional,</td>\n",
       "      <td>8246</td>\n",
       "    </tr>\n",
       "    <tr>\n",
       "      <th>73</th>\n",
       "      <td>assoc</td>\n",
       "      <td>4975</td>\n",
       "    </tr>\n",
       "    <tr>\n",
       "      <th>499</th>\n",
       "      <td>admin</td>\n",
       "      <td>4554</td>\n",
       "    </tr>\n",
       "    <tr>\n",
       "      <th>158</th>\n",
       "      <td>associate</td>\n",
       "      <td>4320</td>\n",
       "    </tr>\n",
       "    <tr>\n",
       "      <th>62</th>\n",
       "      <td>research</td>\n",
       "      <td>3806</td>\n",
       "    </tr>\n",
       "    <tr>\n",
       "      <th>344</th>\n",
       "      <td>administrative</td>\n",
       "      <td>3463</td>\n",
       "    </tr>\n",
       "    <tr>\n",
       "      <th>424</th>\n",
       "      <td>support</td>\n",
       "      <td>2968</td>\n",
       "    </tr>\n",
       "    <tr>\n",
       "      <th>249</th>\n",
       "      <td>vice</td>\n",
       "      <td>2559</td>\n",
       "    </tr>\n",
       "    <tr>\n",
       "      <th>280</th>\n",
       "      <td>service</td>\n",
       "      <td>2443</td>\n",
       "    </tr>\n",
       "    <tr>\n",
       "      <th>572</th>\n",
       "      <td>science</td>\n",
       "      <td>2207</td>\n",
       "    </tr>\n",
       "    <tr>\n",
       "      <th>407</th>\n",
       "      <td>office</td>\n",
       "      <td>2197</td>\n",
       "    </tr>\n",
       "    <tr>\n",
       "      <th>605</th>\n",
       "      <td>paraprofessional</td>\n",
       "      <td>2146</td>\n",
       "    </tr>\n",
       "    <tr>\n",
       "      <th>668</th>\n",
       "      <td>student</td>\n",
       "      <td>1984</td>\n",
       "    </tr>\n",
       "    <tr>\n",
       "      <th>81</th>\n",
       "      <td>asst</td>\n",
       "      <td>1965</td>\n",
       "    </tr>\n",
       "    <tr>\n",
       "      <th>537</th>\n",
       "      <td>housekeeper</td>\n",
       "      <td>1727</td>\n",
       "    </tr>\n",
       "    <tr>\n",
       "      <th>241</th>\n",
       "      <td>custodian</td>\n",
       "      <td>1727</td>\n",
       "    </tr>\n",
       "    <tr>\n",
       "      <th>304</th>\n",
       "      <td>special</td>\n",
       "      <td>1718</td>\n",
       "    </tr>\n",
       "    <tr>\n",
       "      <th>65</th>\n",
       "      <td>specialist</td>\n",
       "      <td>1649</td>\n",
       "    </tr>\n",
       "    <tr>\n",
       "      <th>6</th>\n",
       "      <td>sciences</td>\n",
       "      <td>1551</td>\n",
       "    </tr>\n",
       "    <tr>\n",
       "      <th>588</th>\n",
       "      <td>lecturer</td>\n",
       "      <td>1522</td>\n",
       "    </tr>\n",
       "    <tr>\n",
       "      <th>655</th>\n",
       "      <td>technical</td>\n",
       "      <td>1431</td>\n",
       "    </tr>\n",
       "    <tr>\n",
       "      <th>418</th>\n",
       "      <td>coordinator</td>\n",
       "      <td>1423</td>\n",
       "    </tr>\n",
       "    <tr>\n",
       "      <th>508</th>\n",
       "      <td>clerical</td>\n",
       "      <td>1395</td>\n",
       "    </tr>\n",
       "    <tr>\n",
       "      <th>220</th>\n",
       "      <td>services</td>\n",
       "      <td>1383</td>\n",
       "    </tr>\n",
       "    <tr>\n",
       "      <th>389</th>\n",
       "      <td>medical</td>\n",
       "      <td>1242</td>\n",
       "    </tr>\n",
       "    <tr>\n",
       "      <th>654</th>\n",
       "      <td>asst/tech,</td>\n",
       "      <td>1240</td>\n",
       "    </tr>\n",
       "    <tr>\n",
       "      <th>307</th>\n",
       "      <td>rec</td>\n",
       "      <td>1196</td>\n",
       "    </tr>\n",
       "    <tr>\n",
       "      <th>680</th>\n",
       "      <td>academic</td>\n",
       "      <td>1156</td>\n",
       "    </tr>\n",
       "    <tr>\n",
       "      <th>673</th>\n",
       "      <td>public</td>\n",
       "      <td>1103</td>\n",
       "    </tr>\n",
       "    <tr>\n",
       "      <th>597</th>\n",
       "      <td>the</td>\n",
       "      <td>1101</td>\n",
       "    </tr>\n",
       "    <tr>\n",
       "      <th>437</th>\n",
       "      <td>health</td>\n",
       "      <td>1095</td>\n",
       "    </tr>\n",
       "    <tr>\n",
       "      <th>146</th>\n",
       "      <td>sciences,</td>\n",
       "      <td>1057</td>\n",
       "    </tr>\n",
       "    <tr>\n",
       "      <th>41</th>\n",
       "      <td>other</td>\n",
       "      <td>1053</td>\n",
       "    </tr>\n",
       "    <tr>\n",
       "      <th>122</th>\n",
       "      <td>program</td>\n",
       "      <td>985</td>\n",
       "    </tr>\n",
       "    <tr>\n",
       "      <th>446</th>\n",
       "      <td>staff</td>\n",
       "      <td>981</td>\n",
       "    </tr>\n",
       "    <tr>\n",
       "      <th>163</th>\n",
       "      <td>work</td>\n",
       "      <td>975</td>\n",
       "    </tr>\n",
       "  </tbody>\n",
       "</table>\n",
       "</div>"
      ],
      "text/plain": [
       "            Substring  Counts\n",
       "12               i.t.   16560\n",
       "298      professional   15778\n",
       "423         professor   11859\n",
       "80          assistant    8633\n",
       "245     professional,    8246\n",
       "73              assoc    4975\n",
       "499             admin    4554\n",
       "158         associate    4320\n",
       "62           research    3806\n",
       "344    administrative    3463\n",
       "424           support    2968\n",
       "249              vice    2559\n",
       "280           service    2443\n",
       "572           science    2207\n",
       "407            office    2197\n",
       "605  paraprofessional    2146\n",
       "668           student    1984\n",
       "81               asst    1965\n",
       "537       housekeeper    1727\n",
       "241         custodian    1727\n",
       "304           special    1718\n",
       "65         specialist    1649\n",
       "6            sciences    1551\n",
       "588          lecturer    1522\n",
       "655         technical    1431\n",
       "418       coordinator    1423\n",
       "508          clerical    1395\n",
       "220          services    1383\n",
       "389           medical    1242\n",
       "654        asst/tech,    1240\n",
       "307               rec    1196\n",
       "680          academic    1156\n",
       "673            public    1103\n",
       "597               the    1101\n",
       "437            health    1095\n",
       "146         sciences,    1057\n",
       "41              other    1053\n",
       "122           program     985\n",
       "446             staff     981\n",
       "163              work     975"
      ]
     },
     "execution_count": 35,
     "metadata": {},
     "output_type": "execute_result"
    }
   ],
   "source": [
    "job_df.sort_values(by = 'Counts',ascending=False).head(40)"
   ]
  },
  {
   "cell_type": "markdown",
   "id": "d4d93526",
   "metadata": {},
   "source": [
    "Seeing this we don't want to include professional into our target."
   ]
  },
  {
   "cell_type": "code",
   "execution_count": 36,
   "id": "9243a461",
   "metadata": {},
   "outputs": [],
   "source": [
    "substring_list2 = ['i.t','it ','it/systems','professor','admin','research','housekeeper','lecturer',\n",
    "                   'coordinator','clerical','medical','program']\n",
    "job_names = ['IT','IT','IT','Professor','Admin','Researcher','Housekeeper','Lecturer','Coordinator',\n",
    "             'Cleric','Medical','Program Manager']"
   ]
  },
  {
   "cell_type": "code",
   "execution_count": 37,
   "id": "02c966ef",
   "metadata": {},
   "outputs": [],
   "source": [
    "df['Job'] = [0] * len(df)\n",
    "for index in list(range(len(substring_list2))):\n",
    "    substring = substring_list2[index]\n",
    "    job = job_names[index]\n",
    "    df.loc[df['JOB CATEGORY'].str.lower().str.contains(substring),'Job'] = job"
   ]
  },
  {
   "cell_type": "code",
   "execution_count": 38,
   "id": "0d00ff4b",
   "metadata": {},
   "outputs": [
    {
     "data": {
      "text/plain": [
       "0                  14346\n",
       "Professor          11859\n",
       "IT                  6379\n",
       "Admin               2952\n",
       "Researcher          2882\n",
       "Housekeeper         1727\n",
       "Lecturer            1522\n",
       "Coordinator         1396\n",
       "Cleric              1395\n",
       "Medical             1242\n",
       "Program Manager      985\n",
       "Name: Job, dtype: int64"
      ]
     },
     "execution_count": 38,
     "metadata": {},
     "output_type": "execute_result"
    }
   ],
   "source": [
    "df['Job'].value_counts()"
   ]
  },
  {
   "cell_type": "markdown",
   "id": "97e8e45e",
   "metadata": {},
   "source": [
    "We now have our final job names. These will be our target. We don't want to include unkown targets so let's subset our dataframe so that we only have our dataframe where our dataframe doesn't have unknown job titles."
   ]
  },
  {
   "cell_type": "code",
   "execution_count": 39,
   "id": "081737d7",
   "metadata": {},
   "outputs": [],
   "source": [
    "working_df = df[df['Job'] != 0]"
   ]
  },
  {
   "cell_type": "code",
   "execution_count": 40,
   "id": "bf9b456f",
   "metadata": {},
   "outputs": [
    {
     "name": "stdout",
     "output_type": "stream",
     "text": [
      "<class 'pandas.core.frame.DataFrame'>\n",
      "Int64Index: 32339 entries, 0 to 46684\n",
      "Data columns (total 26 columns):\n",
      " #   Column                              Non-Null Count  Dtype  \n",
      "---  ------                              --------------  -----  \n",
      " 0   AGE                                 32339 non-null  int64  \n",
      " 1   INITIAL HIRE DATE                   32339 non-null  object \n",
      " 2   JOB CATEGORY                        32339 non-null  object \n",
      " 3   EMPLOYEE ANNUAL BASE SALARY         32339 non-null  float64\n",
      " 4   EMPLOYEE HOME DEPARTMENT            32339 non-null  object \n",
      " 5   PRIMARY WORKING TITLE               32339 non-null  object \n",
      " 6   INSTITUTION NAME_ASU                32339 non-null  uint8  \n",
      " 7   INSTITUTION NAME_ECSU               32339 non-null  uint8  \n",
      " 8   INSTITUTION NAME_ECU                32339 non-null  uint8  \n",
      " 9   INSTITUTION NAME_FSU                32339 non-null  uint8  \n",
      " 10  INSTITUTION NAME_NCA&T              32339 non-null  uint8  \n",
      " 11  INSTITUTION NAME_NCCU               32339 non-null  uint8  \n",
      " 12  INSTITUTION NAME_NCSU               32339 non-null  uint8  \n",
      " 13  INSTITUTION NAME_UNC-CH             32339 non-null  uint8  \n",
      " 14  INSTITUTION NAME_UNC-System-Office  32339 non-null  uint8  \n",
      " 15  INSTITUTION NAME_UNCA               32339 non-null  uint8  \n",
      " 16  INSTITUTION NAME_UNCC               32339 non-null  uint8  \n",
      " 17  INSTITUTION NAME_UNCG               32339 non-null  uint8  \n",
      " 18  INSTITUTION NAME_UNCP               32339 non-null  uint8  \n",
      " 19  INSTITUTION NAME_UNCSA              32339 non-null  uint8  \n",
      " 20  INSTITUTION NAME_UNCW               32339 non-null  uint8  \n",
      " 21  INSTITUTION NAME_WCU                32339 non-null  uint8  \n",
      " 22  INSTITUTION NAME_WSSU               32339 non-null  uint8  \n",
      " 23  Hire Year                           32339 non-null  int64  \n",
      " 24  Department                          32339 non-null  object \n",
      " 25  Job                                 32339 non-null  object \n",
      "dtypes: float64(1), int64(2), object(6), uint8(17)\n",
      "memory usage: 3.0+ MB\n"
     ]
    }
   ],
   "source": [
    "working_df.info()"
   ]
  },
  {
   "cell_type": "markdown",
   "id": "21d19f10",
   "metadata": {},
   "source": [
    "Now it's time to finally get all our data into numeric data. We'll use the padas dummy function for our department. Since job is our target, we'll have to label encode it instead."
   ]
  },
  {
   "cell_type": "code",
   "execution_count": 41,
   "id": "e3d6a58d",
   "metadata": {},
   "outputs": [],
   "source": [
    "working_df = pd.get_dummies(data=working_df,columns=['Department'])"
   ]
  },
  {
   "cell_type": "code",
   "execution_count": 42,
   "id": "9ae15a27",
   "metadata": {},
   "outputs": [],
   "source": [
    "from sklearn.preprocessing import LabelEncoder"
   ]
  },
  {
   "cell_type": "code",
   "execution_count": 43,
   "id": "f171932c",
   "metadata": {},
   "outputs": [],
   "source": [
    "working_df['Job'] = LabelEncoder().fit_transform(working_df['Job'])"
   ]
  },
  {
   "cell_type": "code",
   "execution_count": 44,
   "id": "64bcee99",
   "metadata": {},
   "outputs": [
    {
     "name": "stdout",
     "output_type": "stream",
     "text": [
      "<class 'pandas.core.frame.DataFrame'>\n",
      "Int64Index: 32339 entries, 0 to 46684\n",
      "Data columns (total 68 columns):\n",
      " #   Column                              Non-Null Count  Dtype  \n",
      "---  ------                              --------------  -----  \n",
      " 0   AGE                                 32339 non-null  int64  \n",
      " 1   INITIAL HIRE DATE                   32339 non-null  object \n",
      " 2   JOB CATEGORY                        32339 non-null  object \n",
      " 3   EMPLOYEE ANNUAL BASE SALARY         32339 non-null  float64\n",
      " 4   EMPLOYEE HOME DEPARTMENT            32339 non-null  object \n",
      " 5   PRIMARY WORKING TITLE               32339 non-null  object \n",
      " 6   INSTITUTION NAME_ASU                32339 non-null  uint8  \n",
      " 7   INSTITUTION NAME_ECSU               32339 non-null  uint8  \n",
      " 8   INSTITUTION NAME_ECU                32339 non-null  uint8  \n",
      " 9   INSTITUTION NAME_FSU                32339 non-null  uint8  \n",
      " 10  INSTITUTION NAME_NCA&T              32339 non-null  uint8  \n",
      " 11  INSTITUTION NAME_NCCU               32339 non-null  uint8  \n",
      " 12  INSTITUTION NAME_NCSU               32339 non-null  uint8  \n",
      " 13  INSTITUTION NAME_UNC-CH             32339 non-null  uint8  \n",
      " 14  INSTITUTION NAME_UNC-System-Office  32339 non-null  uint8  \n",
      " 15  INSTITUTION NAME_UNCA               32339 non-null  uint8  \n",
      " 16  INSTITUTION NAME_UNCC               32339 non-null  uint8  \n",
      " 17  INSTITUTION NAME_UNCG               32339 non-null  uint8  \n",
      " 18  INSTITUTION NAME_UNCP               32339 non-null  uint8  \n",
      " 19  INSTITUTION NAME_UNCSA              32339 non-null  uint8  \n",
      " 20  INSTITUTION NAME_UNCW               32339 non-null  uint8  \n",
      " 21  INSTITUTION NAME_WCU                32339 non-null  uint8  \n",
      " 22  INSTITUTION NAME_WSSU               32339 non-null  uint8  \n",
      " 23  Hire Year                           32339 non-null  int64  \n",
      " 24  Job                                 32339 non-null  int32  \n",
      " 25  Department_Accounting               32339 non-null  uint8  \n",
      " 26  Department_Administration           32339 non-null  uint8  \n",
      " 27  Department_Admissions               32339 non-null  uint8  \n",
      " 28  Department_Athletics                32339 non-null  uint8  \n",
      " 29  Department_Biology                  32339 non-null  uint8  \n",
      " 30  Department_Business                 32339 non-null  uint8  \n",
      " 31  Department_Chancellor's Office      32339 non-null  uint8  \n",
      " 32  Department_Chemistry                32339 non-null  uint8  \n",
      " 33  Department_Communications           32339 non-null  uint8  \n",
      " 34  Department_Computer Science         32339 non-null  uint8  \n",
      " 35  Department_Counseling               32339 non-null  uint8  \n",
      " 36  Department_Dean's Office            32339 non-null  uint8  \n",
      " 37  Department_Development              32339 non-null  uint8  \n",
      " 38  Department_Economics                32339 non-null  uint8  \n",
      " 39  Department_Engineering              32339 non-null  uint8  \n",
      " 40  Department_English                  32339 non-null  uint8  \n",
      " 41  Department_Environmental Sciences   32339 non-null  uint8  \n",
      " 42  Department_Facilities               32339 non-null  uint8  \n",
      " 43  Department_Finance                  32339 non-null  uint8  \n",
      " 44  Department_Health Center            32339 non-null  uint8  \n",
      " 45  Department_History                  32339 non-null  uint8  \n",
      " 46  Department_Hospital                 32339 non-null  uint8  \n",
      " 47  Department_Housekeeping             32339 non-null  uint8  \n",
      " 48  Department_Information Technology   32339 non-null  uint8  \n",
      " 49  Department_Liberal Arts             32339 non-null  uint8  \n",
      " 50  Department_Management               32339 non-null  uint8  \n",
      " 51  Department_Math                     32339 non-null  uint8  \n",
      " 52  Department_Medicine                 32339 non-null  uint8  \n",
      " 53  Department_Music                    32339 non-null  uint8  \n",
      " 54  Department_Nursing                  32339 non-null  uint8  \n",
      " 55  Department_Physics                  32339 non-null  uint8  \n",
      " 56  Department_Police                   32339 non-null  uint8  \n",
      " 57  Department_Psychiatry               32339 non-null  uint8  \n",
      " 58  Department_Public Safety            32339 non-null  uint8  \n",
      " 59  Department_Recreation Center        32339 non-null  uint8  \n",
      " 60  Department_Research                 32339 non-null  uint8  \n",
      " 61  Department_Resource Officer         32339 non-null  uint8  \n",
      " 62  Department_Social Science           32339 non-null  uint8  \n",
      " 63  Department_Sociology                32339 non-null  uint8  \n",
      " 64  Department_Statistics               32339 non-null  uint8  \n",
      " 65  Department_Student Services         32339 non-null  uint8  \n",
      " 66  Department_Unknown                  32339 non-null  uint8  \n",
      " 67  Department_library                  32339 non-null  uint8  \n",
      "dtypes: float64(1), int32(1), int64(2), object(4), uint8(60)\n",
      "memory usage: 3.9+ MB\n"
     ]
    }
   ],
   "source": [
    "working_df.info()"
   ]
  },
  {
   "cell_type": "markdown",
   "id": "030cc799",
   "metadata": {},
   "source": [
    "Now let's drop the columns that we made stuff off of. "
   ]
  },
  {
   "cell_type": "code",
   "execution_count": 45,
   "id": "52513334",
   "metadata": {},
   "outputs": [],
   "source": [
    "working_df = working_df.drop(columns = ['INITIAL HIRE DATE','JOB CATEGORY','EMPLOYEE HOME DEPARTMENT',\n",
    "                                       'PRIMARY WORKING TITLE'])"
   ]
  },
  {
   "cell_type": "markdown",
   "id": "2354a5e8",
   "metadata": {},
   "source": [
    "## Modeling Time!\n",
    "Now that we have our dataframe into terms of only numbers, let's split our model into a training dataset and a testing data set and model our data. We'll be using a decision tree for this classification."
   ]
  },
  {
   "cell_type": "code",
   "execution_count": 46,
   "id": "f2e37954",
   "metadata": {},
   "outputs": [],
   "source": [
    "from sklearn.model_selection import train_test_split\n",
    "from sklearn.tree import DecisionTreeClassifier\n",
    "from sklearn.metrics import confusion_matrix"
   ]
  },
  {
   "cell_type": "markdown",
   "id": "ff15053b",
   "metadata": {},
   "source": [
    "**Note:** The following bit of code is a function for a confusion matrix that is both pretty to look at and also gives an accuracy score. The source is cited at the end."
   ]
  },
  {
   "cell_type": "code",
   "execution_count": 47,
   "id": "23359d44",
   "metadata": {},
   "outputs": [],
   "source": [
    "def make_confusion_matrix(cf,\n",
    "                          group_names=None,\n",
    "                          categories='auto',\n",
    "                          count=True,\n",
    "                          percent=True,\n",
    "                          cbar=True,\n",
    "                          xyticks=True,\n",
    "                          xyplotlabels=True,\n",
    "                          sum_stats=True,\n",
    "                          figsize=None,\n",
    "                          cmap='Reds',\n",
    "                          title=None):\n",
    "    blanks = ['' for i in range(cf.size)]\n",
    "\n",
    "    if group_names and len(group_names)==cf.size:\n",
    "        group_labels = [\"{}\\n\".format(value) for value in group_names]\n",
    "    else:\n",
    "        group_labels = blanks\n",
    "\n",
    "    if count:\n",
    "        group_counts = [\"{0:0.0f}\\n\".format(value) for value in cf.flatten()]\n",
    "    else:\n",
    "        group_counts = blanks\n",
    "\n",
    "    if percent:\n",
    "        group_percentages = [\"{0:.2%}\".format(value) for value in cf.flatten()/np.sum(cf)]\n",
    "    else:\n",
    "        group_percentages = blanks\n",
    "\n",
    "    box_labels = [f\"{v1}{v2}{v3}\".strip() for v1, v2, v3 in zip(group_labels,group_counts,group_percentages)]\n",
    "    box_labels = np.asarray(box_labels).reshape(cf.shape[0],cf.shape[1])\n",
    "\n",
    "\n",
    "    # CODE TO GENERATE SUMMARY STATISTICS & TEXT FOR SUMMARY STATS\n",
    "    if sum_stats:\n",
    "        #Accuracy is sum of diagonal divided by total observations\n",
    "        accuracy  = np.trace(cf) / float(np.sum(cf))\n",
    "\n",
    "        #if it is a binary confusion matrix, show some more stats\n",
    "        if len(cf)==2:\n",
    "            #Metrics for Binary Confusion Matrices\n",
    "            precision = cf[1,1] / sum(cf[:,1])\n",
    "            recall    = cf[1,1] / sum(cf[1,:])\n",
    "            f1_score  = 2*precision*recall / (precision + recall)\n",
    "            stats_text = \"\\n\\nAccuracy={:0.3f}\\nPrecision={:0.3f}\\nRecall={:0.3f}\\nF1 Score={:0.3f}\".format(\n",
    "                accuracy,precision,recall,f1_score)\n",
    "        else:\n",
    "            stats_text = \"\\n\\nAccuracy={:0.3f}\".format(accuracy)\n",
    "    else:\n",
    "        stats_text = \"\"\n",
    "\n",
    "\n",
    "    # SET FIGURE PARAMETERS ACCORDING TO OTHER ARGUMENTS\n",
    "    if figsize==None:\n",
    "        #Get default figure size if not set\n",
    "        figsize = plt.rcParams.get('figure.figsize')\n",
    "\n",
    "    if xyticks==False:\n",
    "        #Do not show categories if xyticks is False\n",
    "        categories=False\n",
    "\n",
    "\n",
    "    # MAKE THE HEATMAP VISUALIZATION\n",
    "    plt.figure(figsize=figsize)\n",
    "    sns.heatmap(cf,annot=box_labels,fmt=\"\",cmap=cmap,cbar=cbar,xticklabels=categories,yticklabels=categories)\n",
    "\n",
    "    if xyplotlabels:\n",
    "        plt.ylabel('True label')\n",
    "        plt.xlabel('Predicted label' + stats_text)\n",
    "    else:\n",
    "        plt.xlabel(stats_text)\n",
    "    \n",
    "    if title:\n",
    "        plt.title(title)"
   ]
  },
  {
   "cell_type": "markdown",
   "id": "6defa6a5",
   "metadata": {},
   "source": [
    "Now we split our data."
   ]
  },
  {
   "cell_type": "code",
   "execution_count": 48,
   "id": "b84e87a6",
   "metadata": {},
   "outputs": [],
   "source": [
    "X_train, X_test, y_train, y_test = train_test_split(working_df.drop(columns = 'Job'),working_df['Job'],\n",
    "                                                   test_size=.2,random_state = 2)"
   ]
  },
  {
   "cell_type": "code",
   "execution_count": 49,
   "id": "a369c6d0",
   "metadata": {},
   "outputs": [],
   "source": [
    "clf = DecisionTreeClassifier()\n",
    "clf = clf.fit(X_train,y_train)\n",
    "predictions = clf.predict(X_test)\n",
    "matrix = confusion_matrix(y_test,predictions)"
   ]
  },
  {
   "cell_type": "code",
   "execution_count": 50,
   "id": "a470743f",
   "metadata": {},
   "outputs": [
    {
     "data": {
      "text/plain": [
       "<Figure size 1152x648 with 0 Axes>"
      ]
     },
     "metadata": {},
     "output_type": "display_data"
    },
    {
     "data": {
      "image/png": "[encoded data removed]",
      "text/plain": [
       "<Figure size 432x288 with 2 Axes>"
      ]
     },
     "metadata": {
      "needs_background": "light"
     },
     "output_type": "display_data"
    }
   ],
   "source": [
    "plt.figure(figsize=(16,9))\n",
    "make_confusion_matrix(matrix,percent=False,title='Job Title Confusion Matrix')\n",
    "plt.savefig('Acc.png')\n",
    "plt.show()"
   ]
  },
  {
   "cell_type": "markdown",
   "id": "1412867c",
   "metadata": {},
   "source": [
    "This is cool, but we can get a better model using some ensemble methods. Let's use a gradient boosting classifier next."
   ]
  },
  {
   "cell_type": "code",
   "execution_count": 51,
   "id": "6dbf110a",
   "metadata": {},
   "outputs": [],
   "source": [
    "from sklearn.ensemble import GradientBoostingClassifier"
   ]
  },
  {
   "cell_type": "code",
   "execution_count": 52,
   "id": "2987aa54",
   "metadata": {},
   "outputs": [],
   "source": [
    "clf = GradientBoostingClassifier()\n",
    "clf = clf.fit(X_train,y_train)\n",
    "predictions = clf.predict(X_test)\n",
    "matrix = confusion_matrix(y_test,predictions)"
   ]
  },
  {
   "cell_type": "code",
   "execution_count": 53,
   "id": "dfb6e021",
   "metadata": {},
   "outputs": [
    {
     "data": {
      "text/plain": [
       "<Figure size 1152x648 with 0 Axes>"
      ]
     },
     "metadata": {},
     "output_type": "display_data"
    },
    {
     "data": {
      "image/png": "[encoded data removed]",
      "text/plain": [
       "<Figure size 432x288 with 2 Axes>"
      ]
     },
     "metadata": {
      "needs_background": "light"
     },
     "output_type": "display_data"
    }
   ],
   "source": [
    "plt.figure(figsize=(16,9))\n",
    "make_confusion_matrix(matrix,percent=False,title='Job Title Confusion Matrix')\n",
    "plt.savefig('Acc.png')\n",
    "plt.show()"
   ]
  },
  {
   "cell_type": "markdown",
   "id": "38ccf97e",
   "metadata": {},
   "source": [
    "Let's try out one more algorithm, Random Forest."
   ]
  },
  {
   "cell_type": "code",
   "execution_count": 54,
   "id": "86bdf5bf",
   "metadata": {},
   "outputs": [],
   "source": [
    "from sklearn.ensemble import RandomForestClassifier"
   ]
  },
  {
   "cell_type": "code",
   "execution_count": 55,
   "id": "1ef251a3",
   "metadata": {},
   "outputs": [],
   "source": [
    "clf = RandomForestClassifier(random_state = 1)\n",
    "clf = clf.fit(X_train,y_train)\n",
    "predictions = clf.predict(X_test)\n",
    "matrix = confusion_matrix(y_test,predictions)"
   ]
  },
  {
   "cell_type": "code",
   "execution_count": 56,
   "id": "9a6637f5",
   "metadata": {},
   "outputs": [
    {
     "data": {
      "text/plain": [
       "<Figure size 1152x648 with 0 Axes>"
      ]
     },
     "metadata": {},
     "output_type": "display_data"
    },
    {
     "data": {
      "image/png": "[encoded data removed]",
      "text/plain": [
       "<Figure size 432x288 with 2 Axes>"
      ]
     },
     "metadata": {
      "needs_background": "light"
     },
     "output_type": "display_data"
    }
   ],
   "source": [
    "plt.figure(figsize=(16,9))\n",
    "make_confusion_matrix(matrix,percent=False,title='Job Title Confusion Matrix')\n",
    "plt.savefig('Acc.png')\n",
    "plt.show()"
   ]
  },
  {
   "cell_type": "markdown",
   "id": "a58fd6b5",
   "metadata": {},
   "source": [
    "Random Forest is our best out of the box classifier. Let's look at our feature importances and then do some parameter tuning."
   ]
  },
  {
   "cell_type": "code",
   "execution_count": 57,
   "id": "fc218bf5",
   "metadata": {},
   "outputs": [
    {
     "data": {
      "image/png": "[encoded data removed]",
      "text/plain": [
       "<Figure size 864x2160 with 1 Axes>"
      ]
     },
     "metadata": {
      "needs_background": "light"
     },
     "output_type": "display_data"
    }
   ],
   "source": [
    "plt.figure(figsize=(12,30))\n",
    "importance_df = pd.DataFrame(list(zip(working_df.drop(columns='Job').columns,clf.feature_importances_)),\n",
    "                             columns=['Feature','Importance'])\n",
    "importance_df = importance_df.sort_values(by='Importance',ascending=False)\n",
    "sns.barplot(x=importance_df['Importance'],y=importance_df['Feature'],palette='Reds')\n",
    "plt.title('Feature Importance Plot')\n",
    "plt.xlabel('Importance')\n",
    "plt.ylabel('Feature')\n",
    "plt.show()"
   ]
  },
  {
   "cell_type": "markdown",
   "id": "2daf8fe0",
   "metadata": {},
   "source": [
    "As we would expect, salary makes up a large portion of our model's importance."
   ]
  },
  {
   "cell_type": "markdown",
   "id": "9c2fc6d2",
   "metadata": {},
   "source": [
    "### Parameter Tuning\n",
    "Let's go through and tune our paramets for our gradient boosting classifier. We'll set accuracy as our target for this. An article from the medium was used in reference for this. Here is the article in question: https://medium.com/all-things-ai/in-depth-parameter-tuning-for-gradient-boosting-3363992e9bae ."
   ]
  },
  {
   "cell_type": "code",
   "execution_count": 58,
   "id": "1991dc19",
   "metadata": {},
   "outputs": [],
   "source": [
    "from matplotlib.legend_handler import HandlerLine2D\n",
    "from sklearn.metrics import accuracy_score"
   ]
  },
  {
   "cell_type": "code",
   "execution_count": 59,
   "id": "655b70e1",
   "metadata": {},
   "outputs": [
    {
     "data": {
      "image/png": "[encoded data removed]",
      "text/plain": [
       "<Figure size 432x288 with 1 Axes>"
      ]
     },
     "metadata": {
      "needs_background": "light"
     },
     "output_type": "display_data"
    }
   ],
   "source": [
    "n_estimators = [2,4,8,16,32,64,100,200]\n",
    "train_results = []\n",
    "test_results = []\n",
    "for estimator in n_estimators:\n",
    "    \n",
    "    model = RandomForestClassifier(n_estimators=estimator,random_state=1)\n",
    "    model.fit(X_train, y_train)\n",
    "    train_pred = model.predict(X_train)\n",
    "    train_acc = accuracy_score(y_train,train_pred)\n",
    "    train_results.append(train_acc)\n",
    "    y_pred = model.predict(X_test)\n",
    "    test_acc = accuracy_score(y_test,y_pred)\n",
    "    test_results.append(test_acc)\n",
    "\n",
    "line1, = plt.plot(n_estimators, train_results, 'b', label='Train Accuracy')\n",
    "line2, = plt.plot(n_estimators, test_results, 'r', label='Test Accuracy')\n",
    "plt.legend(handler_map={line1: HandlerLine2D(numpoints=2)})\n",
    "plt.ylabel('Accuracy Score')\n",
    "plt.xlabel('n_estimators')\n",
    "plt.show()"
   ]
  },
  {
   "cell_type": "markdown",
   "id": "00a97d26",
   "metadata": {},
   "source": [
    "n_estimators at 64 seems to be the sweet spot for estimators."
   ]
  },
  {
   "cell_type": "code",
   "execution_count": 60,
   "id": "47dcddc5",
   "metadata": {},
   "outputs": [],
   "source": [
    "estimator = 64"
   ]
  },
  {
   "cell_type": "code",
   "execution_count": 61,
   "id": "ac9dae17",
   "metadata": {},
   "outputs": [
    {
     "data": {
      "image/png": "[encoded data removed]",
      "text/plain": [
       "<Figure size 432x288 with 1 Axes>"
      ]
     },
     "metadata": {
      "needs_background": "light"
     },
     "output_type": "display_data"
    }
   ],
   "source": [
    "max_depths = [2,4,8,16,32,64,100,200]\n",
    "train_results = []\n",
    "test_results = []\n",
    "for depth in max_depths:\n",
    "    \n",
    "    model = RandomForestClassifier(max_depth=depth,random_state=1)\n",
    "    model.fit(X_train, y_train)\n",
    "    train_pred = model.predict(X_train)\n",
    "    train_acc = accuracy_score(y_train,train_pred)\n",
    "    train_results.append(train_acc)\n",
    "    y_pred = model.predict(X_test)\n",
    "    test_acc = accuracy_score(y_test,y_pred)\n",
    "    test_results.append(test_acc)\n",
    "\n",
    "line1, = plt.plot(n_estimators, train_results, 'b', label='Train Accuracy')\n",
    "line2, = plt.plot(n_estimators, test_results, 'r', label='Test Accuracy')\n",
    "plt.legend(handler_map={line1: HandlerLine2D(numpoints=2)})\n",
    "plt.ylabel('Accuracy Score')\n",
    "plt.xlabel('max_depth')\n",
    "plt.show()"
   ]
  },
  {
   "cell_type": "markdown",
   "id": "312254e3",
   "metadata": {},
   "source": [
    "32 is the best max_depth that we found."
   ]
  },
  {
   "cell_type": "code",
   "execution_count": 62,
   "id": "4c2f1736",
   "metadata": {},
   "outputs": [],
   "source": [
    "max_depth = 32"
   ]
  },
  {
   "cell_type": "markdown",
   "id": "f3387557",
   "metadata": {},
   "source": [
    "I don't like working with min sample splitting, so we'll work on min_samples_leaf instead."
   ]
  },
  {
   "cell_type": "code",
   "execution_count": 63,
   "id": "4e714968",
   "metadata": {},
   "outputs": [],
   "source": [
    "clf = RandomForestClassifier(n_estimators = estimator, max_depth= max_depth,random_state=1)\n",
    "clf = clf.fit(X_train,y_train)\n",
    "predictions = clf.predict(X_test)\n",
    "matrix = confusion_matrix(y_test,predictions)"
   ]
  },
  {
   "cell_type": "code",
   "execution_count": 64,
   "id": "9dda60a5",
   "metadata": {},
   "outputs": [
    {
     "data": {
      "text/plain": [
       "<Figure size 1152x648 with 0 Axes>"
      ]
     },
     "metadata": {},
     "output_type": "display_data"
    },
    {
     "data": {
      "image/png": "[encoded data removed]",
      "text/plain": [
       "<Figure size 432x288 with 2 Axes>"
      ]
     },
     "metadata": {
      "needs_background": "light"
     },
     "output_type": "display_data"
    }
   ],
   "source": [
    "plt.figure(figsize=(16,9))\n",
    "make_confusion_matrix(matrix,percent=False,title='Job Title Confusion Matrix')\n",
    "plt.savefig('Acc.png')\n",
    "plt.show()"
   ]
  },
  {
   "cell_type": "markdown",
   "id": "9a24478a",
   "metadata": {},
   "source": [
    "# Package use and citations\n",
    " - sklearn - @article{scikit-learn,\n",
    "     title={Scikit-learn: Machine Learning in {P}ython},\n",
    "     author={Pedregosa, F. and Varoquaux, G. and Gramfort, A. and Michel, V.\n",
    "             and Thirion, B. and Grisel, O. and Blondel, M. and Prettenhofer, P.\n",
    "             and Weiss, R. and Dubourg, V. and Vanderplas, J. and Passos, A. and\n",
    "             Cournapeau, D. and Brucher, M. and Perrot, M. and Duchesnay, E.},\n",
    "     journal={Journal of Machine Learning Research},\n",
    "     volume={12},\n",
    "     pages={2825--2830},\n",
    "     year={2011}\n",
    "    }\n",
    " - numpy - @Article{         harris2020array,\n",
    "     title         = {Array programming with {NumPy}},\n",
    "     author        = {Charles R. Harris and K. Jarrod Millman and St{\\'{e}}fan J.\n",
    "                     van der Walt and Ralf Gommers and Pauli Virtanen and David\n",
    "                     Cournapeau and Eric Wieser and Julian Taylor and Sebastian\n",
    "                     Berg and Nathaniel J. Smith and Robert Kern and Matti Picus\n",
    "                     and Stephan Hoyer and Marten H. van Kerkwijk and Matthew\n",
    "                     Brett and Allan Haldane and Jaime Fern{\\'{a}}ndez del\n",
    "                     R{\\'{i}}o and Mark Wiebe and Pearu Peterson and Pierre\n",
    "                     G{\\'{e}}rard-Marchant and Kevin Sheppard and Tyler Reddy and\n",
    "                     Warren Weckesser and Hameer Abbasi and Christoph Gohlke and\n",
    "                     Travis E. Oliphant},\n",
    "     year          = {2020},\n",
    "     month         = sep,\n",
    "     journal       = {Nature},\n",
    "     volume        = {585},\n",
    "     number        = {7825},\n",
    "     pages         = {357--362},\n",
    "     doi           = {10.1038/s41586-020-2649-2},\n",
    "     publisher     = {Springer Science and Business Media {LLC}},\n",
    "     url           = {https://doi.org/10.1038/s41586-020-2649-2}\n",
    "    }\n",
    " - pandas - @InProceedings{ mckinney-proc-scipy-2010,\n",
    "      author    = { {W}es {M}c{K}inney },\n",
    "      title     = { {D}ata {S}tructures for {S}tatistical {C}omputing in {P}ython },\n",
    "      booktitle = { {P}roceedings of the 9th {P}ython in {S}cience {C}onference },\n",
    "      pages     = { 56 - 61 },\n",
    "      year      = { 2010 },\n",
    "      editor    = { {S}t\\'efan van der {W}alt and {J}arrod {M}illman },\n",
    "      doi       = { 10.25080/Majora-92bf1922-00a }\n",
    "    }\n",
    " - matplotlib - @Article{Hunter:2007,\n",
    "      Author    = {Hunter, J. D.},\n",
    "      Title     = {Matplotlib: A 2D graphics environment},\n",
    "      Journal   = {Computing in Science \\& Engineering},\n",
    "      Volume    = {9},\n",
    "      Number    = {3},\n",
    "      Pages     = {90--95},\n",
    "      abstract  = {Matplotlib is a 2D graphics package used for Python for\n",
    "      application development, interactive scripting, and publication-quality\n",
    "      image generation across user interfaces and operating systems.},\n",
    "      publisher = {IEEE COMPUTER SOC},\n",
    "      doi       = {10.1109/MCSE.2007.55},\n",
    "      year      = 2007\n",
    "    }\n",
    " - seaborn - @article{Waskom2021,\n",
    "    doi = {10.21105/joss.03021},\n",
    "    url = {https://doi.org/10.21105/joss.03021},\n",
    "    year = {2021},\n",
    "    publisher = {The Open Journal},\n",
    "    volume = {6},\n",
    "    number = {60},\n",
    "    pages = {3021},\n",
    "    author = {Michael L. Waskom},\n",
    "    title = {seaborn: statistical data visualization},\n",
    "    journal = {Journal of Open Source Software}\n",
    "     }\n",
    " - confusion matrix clean code - https://github.com/DTrimarchi10/confusion_matrix/blob/master/cf_matrix.py\n",
    " - Medium Article - Fraj, Mohtadi Ben. “In Depth: Parameter Tuning for Gradient Boosting.” Medium, All Things AI, 24 Dec. 2017, https://medium.com/all-things-ai/in-depth-parameter-tuning-for-gradient-boosting-3363992e9bae. "
   ]
  }
 ],
 "metadata": {
  "kernelspec": {
   "display_name": "Python 3",
   "language": "python",
   "name": "python3"
  },
  "language_info": {
   "codemirror_mode": {
    "name": "ipython",
    "version": 3
   },
   "file_extension": ".py",
   "mimetype": "text/x-python",
   "name": "python",
   "nbconvert_exporter": "python",
   "pygments_lexer": "ipython3",
   "version": "3.8.8"
  }
 },
 "nbformat": 4,
 "nbformat_minor": 5
}
